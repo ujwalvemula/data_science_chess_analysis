{
 "cells": [
  {
   "cell_type": "code",
   "execution_count": 104,
   "metadata": {},
   "outputs": [],
   "source": [
    "import pandas as pd \n",
    "from sklearn.model_selection import train_test_split\n",
    "from sklearn.linear_model import LinearRegression\n",
    "from sklearn.linear_model import LogisticRegression\n",
    "from sklearn.metrics import mean_squared_error\n",
    "import numpy as np\n",
    "from sklearn.neighbors import KNeighborsClassifier\n",
    "from sklearn.metrics import accuracy_score\n",
    "import io\n",
    "import chess\n",
    "import chess.pgn as cp\n",
    "from sklearn.cluster import AgglomerativeClustering, SpectralClustering\n",
    "from sklearn.decomposition import PCA\n",
    "import matplotlib.pyplot as plt\n",
    "import seaborn as sns"
   ]
  },
  {
   "cell_type": "code",
   "execution_count": 4,
   "metadata": {},
   "outputs": [],
   "source": [
    "data = pd.read_csv(\"C:\\\\Users\\\\ujwal\\\\data\\\\stonybrook\\\\fall2019\\\\dataScienceFundamentals\\\\project\\\\dataset\\\\dataset190000.csv\")"
   ]
  },
  {
   "cell_type": "code",
   "execution_count": 187,
   "metadata": {},
   "outputs": [],
   "source": [
    "data191 = pd.read_csv(\"C:\\\\Users\\\\ujwal\\\\data\\\\stonybrook\\\\fall2019\\\\dataScienceFundamentals\\\\project\\\\dataset\\\\data191000.csv\")"
   ]
  },
  {
   "cell_type": "code",
   "execution_count": 188,
   "metadata": {},
   "outputs": [],
   "source": [
    "dfs = []\n",
    "dfs.append(data)\n",
    "dfs.append(data191)"
   ]
  },
  {
   "cell_type": "code",
   "execution_count": 189,
   "metadata": {},
   "outputs": [],
   "source": [
    "data = pd.concat(dfs)"
   ]
  },
  {
   "cell_type": "code",
   "execution_count": 190,
   "metadata": {},
   "outputs": [
    {
     "data": {
      "text/plain": [
       "(384205, 17)"
      ]
     },
     "execution_count": 190,
     "metadata": {},
     "output_type": "execute_result"
    }
   ],
   "source": [
    "data.shape"
   ]
  },
  {
   "cell_type": "code",
   "execution_count": 192,
   "metadata": {},
   "outputs": [],
   "source": [
    "data.reset_index(inplace=True, drop=True)"
   ]
  },
  {
   "cell_type": "code",
   "execution_count": 193,
   "metadata": {},
   "outputs": [
    {
     "data": {
      "text/html": [
       "<div>\n",
       "<style scoped>\n",
       "    .dataframe tbody tr th:only-of-type {\n",
       "        vertical-align: middle;\n",
       "    }\n",
       "\n",
       "    .dataframe tbody tr th {\n",
       "        vertical-align: top;\n",
       "    }\n",
       "\n",
       "    .dataframe thead th {\n",
       "        text-align: right;\n",
       "    }\n",
       "</style>\n",
       "<table border=\"1\" class=\"dataframe\">\n",
       "  <thead>\n",
       "    <tr style=\"text-align: right;\">\n",
       "      <th></th>\n",
       "      <th>Event</th>\n",
       "      <th>Site</th>\n",
       "      <th>White</th>\n",
       "      <th>Black</th>\n",
       "      <th>Result</th>\n",
       "      <th>UTCDate</th>\n",
       "      <th>UTCTime</th>\n",
       "      <th>WhiteElo</th>\n",
       "      <th>BlackElo</th>\n",
       "      <th>WhiteRatingDiff</th>\n",
       "      <th>BlackRatingDiff</th>\n",
       "      <th>WhiteTitle</th>\n",
       "      <th>ECO</th>\n",
       "      <th>Opening</th>\n",
       "      <th>TimeControl</th>\n",
       "      <th>Termination</th>\n",
       "      <th>Moves</th>\n",
       "    </tr>\n",
       "  </thead>\n",
       "  <tbody>\n",
       "    <tr>\n",
       "      <td>0</td>\n",
       "      <td>Rated Rapid tournament https://lichess.org/tou...</td>\n",
       "      <td>https://lichess.org/224ifIC9</td>\n",
       "      <td>Dikeuss</td>\n",
       "      <td>hikarufans</td>\n",
       "      <td>1-0</td>\n",
       "      <td>2019.09.01</td>\n",
       "      <td>00:00:04</td>\n",
       "      <td>1817</td>\n",
       "      <td>1806</td>\n",
       "      <td>7</td>\n",
       "      <td>-17</td>\n",
       "      <td>NaN</td>\n",
       "      <td>D02</td>\n",
       "      <td>Queen's Pawn Game: Symmetrical Variation, Pseu...</td>\n",
       "      <td>600+0</td>\n",
       "      <td>Normal</td>\n",
       "      <td>1. d4 { [%clk 0:05:00] } 1... d5 { [%clk 0:10:...</td>\n",
       "    </tr>\n",
       "    <tr>\n",
       "      <td>1</td>\n",
       "      <td>Rated Blitz tournament https://lichess.org/tou...</td>\n",
       "      <td>https://lichess.org/JRbFTTJX</td>\n",
       "      <td>skankhunt593</td>\n",
       "      <td>Wosito</td>\n",
       "      <td>1-0</td>\n",
       "      <td>2019.09.01</td>\n",
       "      <td>00:00:04</td>\n",
       "      <td>1491</td>\n",
       "      <td>1419</td>\n",
       "      <td>6</td>\n",
       "      <td>-6</td>\n",
       "      <td>NaN</td>\n",
       "      <td>B00</td>\n",
       "      <td>Owen Defense</td>\n",
       "      <td>180+0</td>\n",
       "      <td>Time forfeit</td>\n",
       "      <td>1. e4 { [%clk 0:03:00] } 1... b6 { [%clk 0:03:...</td>\n",
       "    </tr>\n",
       "    <tr>\n",
       "      <td>2</td>\n",
       "      <td>Rated Rapid tournament https://lichess.org/tou...</td>\n",
       "      <td>https://lichess.org/TDlv0AjR</td>\n",
       "      <td>strompur</td>\n",
       "      <td>alchemist48</td>\n",
       "      <td>1-0</td>\n",
       "      <td>2019.09.01</td>\n",
       "      <td>00:00:04</td>\n",
       "      <td>2145</td>\n",
       "      <td>2015</td>\n",
       "      <td>4</td>\n",
       "      <td>-4</td>\n",
       "      <td>NaN</td>\n",
       "      <td>E71</td>\n",
       "      <td>King's Indian Defense: Makogonov Variation</td>\n",
       "      <td>600+0</td>\n",
       "      <td>Normal</td>\n",
       "      <td>1. d4 { [%clk 0:10:00] } 1... Nf6 { [%clk 0:10...</td>\n",
       "    </tr>\n",
       "    <tr>\n",
       "      <td>3</td>\n",
       "      <td>Rated Rapid tournament https://lichess.org/tou...</td>\n",
       "      <td>https://lichess.org/9HriX6Rx</td>\n",
       "      <td>Geroz</td>\n",
       "      <td>ficher2016</td>\n",
       "      <td>1-0</td>\n",
       "      <td>2019.09.01</td>\n",
       "      <td>00:00:04</td>\n",
       "      <td>1702</td>\n",
       "      <td>1695</td>\n",
       "      <td>17</td>\n",
       "      <td>-7</td>\n",
       "      <td>NaN</td>\n",
       "      <td>B00</td>\n",
       "      <td>Owen Defense</td>\n",
       "      <td>600+0</td>\n",
       "      <td>Normal</td>\n",
       "      <td>1. e4 { [%clk 0:10:00] } 1... b6 { [%clk 0:10:...</td>\n",
       "    </tr>\n",
       "    <tr>\n",
       "      <td>4</td>\n",
       "      <td>Rated Rapid tournament https://lichess.org/tou...</td>\n",
       "      <td>https://lichess.org/TECTBYsk</td>\n",
       "      <td>Violin_And_Viola</td>\n",
       "      <td>fasterfourier</td>\n",
       "      <td>1-0</td>\n",
       "      <td>2019.09.01</td>\n",
       "      <td>00:00:04</td>\n",
       "      <td>1683</td>\n",
       "      <td>1502</td>\n",
       "      <td>6</td>\n",
       "      <td>-4</td>\n",
       "      <td>NaN</td>\n",
       "      <td>C31</td>\n",
       "      <td>King's Gambit, Falkbeer Countergambit Accepted</td>\n",
       "      <td>600+0</td>\n",
       "      <td>Normal</td>\n",
       "      <td>1. e4 { [%clk 0:10:00] } 1... e5 { [%clk 0:10:...</td>\n",
       "    </tr>\n",
       "    <tr>\n",
       "      <td>...</td>\n",
       "      <td>...</td>\n",
       "      <td>...</td>\n",
       "      <td>...</td>\n",
       "      <td>...</td>\n",
       "      <td>...</td>\n",
       "      <td>...</td>\n",
       "      <td>...</td>\n",
       "      <td>...</td>\n",
       "      <td>...</td>\n",
       "      <td>...</td>\n",
       "      <td>...</td>\n",
       "      <td>...</td>\n",
       "      <td>...</td>\n",
       "      <td>...</td>\n",
       "      <td>...</td>\n",
       "      <td>...</td>\n",
       "      <td>...</td>\n",
       "    </tr>\n",
       "    <tr>\n",
       "      <td>384200</td>\n",
       "      <td>Rated Blitz game</td>\n",
       "      <td>https://lichess.org/QVW0gqAY</td>\n",
       "      <td>Kapwenge</td>\n",
       "      <td>Shubham18</td>\n",
       "      <td>1-0</td>\n",
       "      <td>2019.09.01</td>\n",
       "      <td>06:14:02</td>\n",
       "      <td>1629</td>\n",
       "      <td>1644</td>\n",
       "      <td>8</td>\n",
       "      <td>-7</td>\n",
       "      <td>NaN</td>\n",
       "      <td>A20</td>\n",
       "      <td>English Opening: King's English Variation, Nim...</td>\n",
       "      <td>300+0</td>\n",
       "      <td>Normal</td>\n",
       "      <td>1. c4 { [%clk 0:05:00] } 1... e5 { [%clk 0:05:...</td>\n",
       "    </tr>\n",
       "    <tr>\n",
       "      <td>384201</td>\n",
       "      <td>Rated Blitz game</td>\n",
       "      <td>https://lichess.org/Kaz8VE91</td>\n",
       "      <td>Garoe1987</td>\n",
       "      <td>StreetChessKing</td>\n",
       "      <td>1-0</td>\n",
       "      <td>2019.09.01</td>\n",
       "      <td>06:14:03</td>\n",
       "      <td>1635</td>\n",
       "      <td>927</td>\n",
       "      <td>1</td>\n",
       "      <td>-1</td>\n",
       "      <td>NaN</td>\n",
       "      <td>A40</td>\n",
       "      <td>Queen's Pawn</td>\n",
       "      <td>240+3</td>\n",
       "      <td>Normal</td>\n",
       "      <td>1. d4 { [%clk 0:04:00] } 1... h5 { [%clk 0:04:...</td>\n",
       "    </tr>\n",
       "    <tr>\n",
       "      <td>384202</td>\n",
       "      <td>Rated Blitz game</td>\n",
       "      <td>https://lichess.org/tTj6VvXq</td>\n",
       "      <td>airat1983</td>\n",
       "      <td>gudiaz</td>\n",
       "      <td>1-0</td>\n",
       "      <td>2019.09.01</td>\n",
       "      <td>06:14:03</td>\n",
       "      <td>1826</td>\n",
       "      <td>1703</td>\n",
       "      <td>5</td>\n",
       "      <td>-4</td>\n",
       "      <td>NaN</td>\n",
       "      <td>D08</td>\n",
       "      <td>Queen's Gambit Refused: Albin Countergambit</td>\n",
       "      <td>180+0</td>\n",
       "      <td>Time forfeit</td>\n",
       "      <td>1. d4 { [%clk 0:03:00] } 1... d5 { [%clk 0:03:...</td>\n",
       "    </tr>\n",
       "    <tr>\n",
       "      <td>384203</td>\n",
       "      <td>Rated Blitz game</td>\n",
       "      <td>https://lichess.org/EG7JMU29</td>\n",
       "      <td>javad1996</td>\n",
       "      <td>ercins71</td>\n",
       "      <td>0-1</td>\n",
       "      <td>2019.09.01</td>\n",
       "      <td>06:14:03</td>\n",
       "      <td>1807</td>\n",
       "      <td>1846</td>\n",
       "      <td>-6</td>\n",
       "      <td>7</td>\n",
       "      <td>NaN</td>\n",
       "      <td>D02</td>\n",
       "      <td>Queen's Pawn Game: Zukertort Variation</td>\n",
       "      <td>180+0</td>\n",
       "      <td>Time forfeit</td>\n",
       "      <td>1. d4 { [%clk 0:03:00] } 1... d5 { [%clk 0:03:...</td>\n",
       "    </tr>\n",
       "    <tr>\n",
       "      <td>384204</td>\n",
       "      <td>Rated Blitz game</td>\n",
       "      <td>https://lichess.org/QBNXGIup</td>\n",
       "      <td>siamak3254</td>\n",
       "      <td>javasox</td>\n",
       "      <td>1-0</td>\n",
       "      <td>2019.09.01</td>\n",
       "      <td>06:14:03</td>\n",
       "      <td>1939</td>\n",
       "      <td>1994</td>\n",
       "      <td>8</td>\n",
       "      <td>-14</td>\n",
       "      <td>NaN</td>\n",
       "      <td>B07</td>\n",
       "      <td>Pirc Defense #4</td>\n",
       "      <td>180+0</td>\n",
       "      <td>Time forfeit</td>\n",
       "      <td>1. e4 { [%clk 0:03:00] } 1... d6 { [%clk 0:03:...</td>\n",
       "    </tr>\n",
       "  </tbody>\n",
       "</table>\n",
       "<p>384205 rows × 17 columns</p>\n",
       "</div>"
      ],
      "text/plain": [
       "                                                    Event  \\\n",
       "0       Rated Rapid tournament https://lichess.org/tou...   \n",
       "1       Rated Blitz tournament https://lichess.org/tou...   \n",
       "2       Rated Rapid tournament https://lichess.org/tou...   \n",
       "3       Rated Rapid tournament https://lichess.org/tou...   \n",
       "4       Rated Rapid tournament https://lichess.org/tou...   \n",
       "...                                                   ...   \n",
       "384200                                   Rated Blitz game   \n",
       "384201                                   Rated Blitz game   \n",
       "384202                                   Rated Blitz game   \n",
       "384203                                   Rated Blitz game   \n",
       "384204                                   Rated Blitz game   \n",
       "\n",
       "                                Site             White            Black  \\\n",
       "0       https://lichess.org/224ifIC9           Dikeuss       hikarufans   \n",
       "1       https://lichess.org/JRbFTTJX      skankhunt593           Wosito   \n",
       "2       https://lichess.org/TDlv0AjR          strompur      alchemist48   \n",
       "3       https://lichess.org/9HriX6Rx             Geroz       ficher2016   \n",
       "4       https://lichess.org/TECTBYsk  Violin_And_Viola    fasterfourier   \n",
       "...                              ...               ...              ...   \n",
       "384200  https://lichess.org/QVW0gqAY          Kapwenge        Shubham18   \n",
       "384201  https://lichess.org/Kaz8VE91         Garoe1987  StreetChessKing   \n",
       "384202  https://lichess.org/tTj6VvXq         airat1983           gudiaz   \n",
       "384203  https://lichess.org/EG7JMU29         javad1996         ercins71   \n",
       "384204  https://lichess.org/QBNXGIup        siamak3254          javasox   \n",
       "\n",
       "       Result     UTCDate   UTCTime  WhiteElo  BlackElo  WhiteRatingDiff  \\\n",
       "0         1-0  2019.09.01  00:00:04      1817      1806                7   \n",
       "1         1-0  2019.09.01  00:00:04      1491      1419                6   \n",
       "2         1-0  2019.09.01  00:00:04      2145      2015                4   \n",
       "3         1-0  2019.09.01  00:00:04      1702      1695               17   \n",
       "4         1-0  2019.09.01  00:00:04      1683      1502                6   \n",
       "...       ...         ...       ...       ...       ...              ...   \n",
       "384200    1-0  2019.09.01  06:14:02      1629      1644                8   \n",
       "384201    1-0  2019.09.01  06:14:03      1635       927                1   \n",
       "384202    1-0  2019.09.01  06:14:03      1826      1703                5   \n",
       "384203    0-1  2019.09.01  06:14:03      1807      1846               -6   \n",
       "384204    1-0  2019.09.01  06:14:03      1939      1994                8   \n",
       "\n",
       "        BlackRatingDiff  WhiteTitle  ECO  \\\n",
       "0                   -17         NaN  D02   \n",
       "1                    -6         NaN  B00   \n",
       "2                    -4         NaN  E71   \n",
       "3                    -7         NaN  B00   \n",
       "4                    -4         NaN  C31   \n",
       "...                 ...         ...  ...   \n",
       "384200               -7         NaN  A20   \n",
       "384201               -1         NaN  A40   \n",
       "384202               -4         NaN  D08   \n",
       "384203                7         NaN  D02   \n",
       "384204              -14         NaN  B07   \n",
       "\n",
       "                                                  Opening TimeControl  \\\n",
       "0       Queen's Pawn Game: Symmetrical Variation, Pseu...       600+0   \n",
       "1                                            Owen Defense       180+0   \n",
       "2              King's Indian Defense: Makogonov Variation       600+0   \n",
       "3                                            Owen Defense       600+0   \n",
       "4          King's Gambit, Falkbeer Countergambit Accepted       600+0   \n",
       "...                                                   ...         ...   \n",
       "384200  English Opening: King's English Variation, Nim...       300+0   \n",
       "384201                                       Queen's Pawn       240+3   \n",
       "384202        Queen's Gambit Refused: Albin Countergambit       180+0   \n",
       "384203             Queen's Pawn Game: Zukertort Variation       180+0   \n",
       "384204                                    Pirc Defense #4       180+0   \n",
       "\n",
       "         Termination                                              Moves  \n",
       "0             Normal  1. d4 { [%clk 0:05:00] } 1... d5 { [%clk 0:10:...  \n",
       "1       Time forfeit  1. e4 { [%clk 0:03:00] } 1... b6 { [%clk 0:03:...  \n",
       "2             Normal  1. d4 { [%clk 0:10:00] } 1... Nf6 { [%clk 0:10...  \n",
       "3             Normal  1. e4 { [%clk 0:10:00] } 1... b6 { [%clk 0:10:...  \n",
       "4             Normal  1. e4 { [%clk 0:10:00] } 1... e5 { [%clk 0:10:...  \n",
       "...              ...                                                ...  \n",
       "384200        Normal  1. c4 { [%clk 0:05:00] } 1... e5 { [%clk 0:05:...  \n",
       "384201        Normal  1. d4 { [%clk 0:04:00] } 1... h5 { [%clk 0:04:...  \n",
       "384202  Time forfeit  1. d4 { [%clk 0:03:00] } 1... d5 { [%clk 0:03:...  \n",
       "384203  Time forfeit  1. d4 { [%clk 0:03:00] } 1... d5 { [%clk 0:03:...  \n",
       "384204  Time forfeit  1. e4 { [%clk 0:03:00] } 1... d6 { [%clk 0:03:...  \n",
       "\n",
       "[384205 rows x 17 columns]"
      ]
     },
     "execution_count": 193,
     "metadata": {},
     "output_type": "execute_result"
    }
   ],
   "source": [
    "data"
   ]
  },
  {
   "cell_type": "code",
   "execution_count": 194,
   "metadata": {},
   "outputs": [
    {
     "data": {
      "text/plain": [
       "Event                   0\n",
       "Site                    0\n",
       "White                   0\n",
       "Black                   0\n",
       "Result                  0\n",
       "UTCDate                 0\n",
       "UTCTime                 0\n",
       "WhiteElo                0\n",
       "BlackElo                0\n",
       "WhiteRatingDiff         0\n",
       "BlackRatingDiff         0\n",
       "WhiteTitle         384205\n",
       "ECO                     0\n",
       "Opening                 0\n",
       "TimeControl             0\n",
       "Termination             0\n",
       "Moves                 554\n",
       "dtype: int64"
      ]
     },
     "execution_count": 194,
     "metadata": {},
     "output_type": "execute_result"
    }
   ],
   "source": [
    "data.isnull().sum()"
   ]
  },
  {
   "cell_type": "code",
   "execution_count": 195,
   "metadata": {},
   "outputs": [],
   "source": [
    "dataNotNull = data[data['Moves'].notnull()]"
   ]
  },
  {
   "cell_type": "code",
   "execution_count": 196,
   "metadata": {
    "scrolled": true
   },
   "outputs": [
    {
     "data": {
      "text/plain": [
       "Event                   0\n",
       "Site                    0\n",
       "White                   0\n",
       "Black                   0\n",
       "Result                  0\n",
       "UTCDate                 0\n",
       "UTCTime                 0\n",
       "WhiteElo                0\n",
       "BlackElo                0\n",
       "WhiteRatingDiff         0\n",
       "BlackRatingDiff         0\n",
       "WhiteTitle         383651\n",
       "ECO                     0\n",
       "Opening                 0\n",
       "TimeControl             0\n",
       "Termination             0\n",
       "Moves                   0\n",
       "dtype: int64"
      ]
     },
     "execution_count": 196,
     "metadata": {},
     "output_type": "execute_result"
    }
   ],
   "source": [
    "dataNotNull.isnull().sum()"
   ]
  },
  {
   "cell_type": "code",
   "execution_count": 197,
   "metadata": {},
   "outputs": [],
   "source": [
    "evalData = dataNotNull[dataNotNull['Moves'].str.contains(\"eval\")]"
   ]
  },
  {
   "cell_type": "code",
   "execution_count": 198,
   "metadata": {},
   "outputs": [
    {
     "data": {
      "text/plain": [
       "(23347, 17)"
      ]
     },
     "execution_count": 198,
     "metadata": {},
     "output_type": "execute_result"
    }
   ],
   "source": [
    "evalData.shape"
   ]
  },
  {
   "cell_type": "markdown",
   "metadata": {},
   "source": [
    "<h2>BASELINE MODEL<h2>"
   ]
  },
  {
   "cell_type": "code",
   "execution_count": 200,
   "metadata": {},
   "outputs": [],
   "source": [
    "baseline = evalData.copy()"
   ]
  },
  {
   "cell_type": "code",
   "execution_count": 201,
   "metadata": {
    "scrolled": true
   },
   "outputs": [
    {
     "data": {
      "text/plain": [
       "Event               object\n",
       "Site                object\n",
       "White               object\n",
       "Black               object\n",
       "Result              object\n",
       "UTCDate             object\n",
       "UTCTime             object\n",
       "WhiteElo             int64\n",
       "BlackElo             int64\n",
       "WhiteRatingDiff      int64\n",
       "BlackRatingDiff      int64\n",
       "WhiteTitle         float64\n",
       "ECO                 object\n",
       "Opening             object\n",
       "TimeControl         object\n",
       "Termination         object\n",
       "Moves               object\n",
       "dtype: object"
      ]
     },
     "execution_count": 201,
     "metadata": {},
     "output_type": "execute_result"
    }
   ],
   "source": [
    "baseline.dtypes"
   ]
  },
  {
   "cell_type": "code",
   "execution_count": 202,
   "metadata": {},
   "outputs": [],
   "source": [
    "baseline['GameType'] = pd.np.where(baseline.Event.str.contains(\"Blitz\"), \"Blitz\",\n",
    "            pd.np.where(baseline.Event.str.contains(\"Bullet\"), \"Bullet\",\n",
    "                        pd.np.where(baseline.Event.str.contains(\"Rapid\"), \"Rapid\",\n",
    "                                    pd.np.where(baseline.Event.str.contains(\"Classical\"), \"Classical\",\n",
    "                                                \"Correspondence\"))))"
   ]
  },
  {
   "cell_type": "code",
   "execution_count": 203,
   "metadata": {},
   "outputs": [],
   "source": [
    "baselineCols = ['Result', 'WhiteElo', 'BlackElo', 'WhiteRatingDiff', 'BlackRatingDiff', 'ECO', \n",
    "                'TimeControl', 'Termination', 'GameType']"
   ]
  },
  {
   "cell_type": "code",
   "execution_count": 204,
   "metadata": {},
   "outputs": [],
   "source": [
    "from sklearn.preprocessing import LabelEncoder\n",
    "baseline['ECO'] = LabelEncoder().fit_transform(baseline['ECO'])\n",
    "baseline['TimeControl'] = LabelEncoder().fit_transform(baseline['TimeControl'])\n",
    "baseline['Termination'] = LabelEncoder().fit_transform(baseline['Termination'])\n",
    "baseline['GameType'] = LabelEncoder().fit_transform(baseline['GameType'])"
   ]
  },
  {
   "cell_type": "code",
   "execution_count": 205,
   "metadata": {},
   "outputs": [],
   "source": [
    "baseline['Result'] = pd.np.where(baseline.Result.str.contains(\"1-0\"), \"1\",\n",
    "            pd.np.where(baseline.Result.str.contains(\"0-1\"), \"0\",\n",
    "                        \"2\"))"
   ]
  },
  {
   "cell_type": "code",
   "execution_count": 206,
   "metadata": {},
   "outputs": [
    {
     "data": {
      "text/plain": [
       "1    11852\n",
       "0    10975\n",
       "2      520\n",
       "Name: Result, dtype: int64"
      ]
     },
     "execution_count": 206,
     "metadata": {},
     "output_type": "execute_result"
    }
   ],
   "source": [
    "baseline['Result'].value_counts()"
   ]
  },
  {
   "cell_type": "code",
   "execution_count": 207,
   "metadata": {},
   "outputs": [],
   "source": [
    "baseline['Result'] = baseline['Result'].astype(int)"
   ]
  },
  {
   "cell_type": "code",
   "execution_count": 208,
   "metadata": {},
   "outputs": [],
   "source": [
    "baselineTrain = baseline[baselineCols]"
   ]
  },
  {
   "cell_type": "code",
   "execution_count": 209,
   "metadata": {},
   "outputs": [
    {
     "data": {
      "text/plain": [
       "Result             int32\n",
       "WhiteElo           int64\n",
       "BlackElo           int64\n",
       "WhiteRatingDiff    int64\n",
       "BlackRatingDiff    int64\n",
       "ECO                int32\n",
       "TimeControl        int32\n",
       "Termination        int32\n",
       "GameType           int32\n",
       "dtype: object"
      ]
     },
     "execution_count": 209,
     "metadata": {},
     "output_type": "execute_result"
    }
   ],
   "source": [
    "baselineTrain.dtypes"
   ]
  },
  {
   "cell_type": "code",
   "execution_count": 210,
   "metadata": {},
   "outputs": [],
   "source": [
    "baselineTrain.reset_index(inplace=True, drop=True)"
   ]
  },
  {
   "cell_type": "code",
   "execution_count": 293,
   "metadata": {},
   "outputs": [
    {
     "data": {
      "text/plain": [
       "Index(['Result', 'WhiteElo', 'BlackElo', 'WhiteRatingDiff', 'BlackRatingDiff',\n",
       "       'ECO', 'TimeControl', 'Termination', 'GameType'],\n",
       "      dtype='object')"
      ]
     },
     "execution_count": 293,
     "metadata": {},
     "output_type": "execute_result"
    }
   ],
   "source": [
    "baselineTrain.columns"
   ]
  },
  {
   "cell_type": "code",
   "execution_count": 212,
   "metadata": {},
   "outputs": [],
   "source": [
    "blTrainingSet, blTestSet = train_test_split(baselineTrain, test_size=0.2)\n",
    "\n",
    "XTrain = blTrainingSet.drop('GameType',axis =1)\n",
    "YTrain = blTrainingSet['GameType']\n",
    "XTest = blTestSet.drop('GameType', axis =1)\n",
    "YTest = blTestSet['GameType']"
   ]
  },
  {
   "cell_type": "code",
   "execution_count": 213,
   "metadata": {},
   "outputs": [],
   "source": [
    "XTrain = XTrain.drop('TimeControl', axis =1)\n",
    "XTest = XTest.drop('TimeControl', axis =1)"
   ]
  },
  {
   "cell_type": "code",
   "execution_count": 214,
   "metadata": {},
   "outputs": [
    {
     "data": {
      "text/html": [
       "<div>\n",
       "<style scoped>\n",
       "    .dataframe tbody tr th:only-of-type {\n",
       "        vertical-align: middle;\n",
       "    }\n",
       "\n",
       "    .dataframe tbody tr th {\n",
       "        vertical-align: top;\n",
       "    }\n",
       "\n",
       "    .dataframe thead th {\n",
       "        text-align: right;\n",
       "    }\n",
       "</style>\n",
       "<table border=\"1\" class=\"dataframe\">\n",
       "  <thead>\n",
       "    <tr style=\"text-align: right;\">\n",
       "      <th></th>\n",
       "      <th>Result</th>\n",
       "      <th>WhiteElo</th>\n",
       "      <th>BlackElo</th>\n",
       "      <th>WhiteRatingDiff</th>\n",
       "      <th>BlackRatingDiff</th>\n",
       "      <th>ECO</th>\n",
       "      <th>Termination</th>\n",
       "    </tr>\n",
       "  </thead>\n",
       "  <tbody>\n",
       "    <tr>\n",
       "      <td>15466</td>\n",
       "      <td>1</td>\n",
       "      <td>1528</td>\n",
       "      <td>1545</td>\n",
       "      <td>7</td>\n",
       "      <td>-37</td>\n",
       "      <td>86</td>\n",
       "      <td>1</td>\n",
       "    </tr>\n",
       "    <tr>\n",
       "      <td>5228</td>\n",
       "      <td>0</td>\n",
       "      <td>1092</td>\n",
       "      <td>1595</td>\n",
       "      <td>-2</td>\n",
       "      <td>0</td>\n",
       "      <td>67</td>\n",
       "      <td>0</td>\n",
       "    </tr>\n",
       "    <tr>\n",
       "      <td>19995</td>\n",
       "      <td>0</td>\n",
       "      <td>1222</td>\n",
       "      <td>1289</td>\n",
       "      <td>-7</td>\n",
       "      <td>101</td>\n",
       "      <td>85</td>\n",
       "      <td>0</td>\n",
       "    </tr>\n",
       "    <tr>\n",
       "      <td>13421</td>\n",
       "      <td>1</td>\n",
       "      <td>1852</td>\n",
       "      <td>1876</td>\n",
       "      <td>21</td>\n",
       "      <td>-7</td>\n",
       "      <td>87</td>\n",
       "      <td>0</td>\n",
       "    </tr>\n",
       "    <tr>\n",
       "      <td>3448</td>\n",
       "      <td>0</td>\n",
       "      <td>1373</td>\n",
       "      <td>1426</td>\n",
       "      <td>-6</td>\n",
       "      <td>7</td>\n",
       "      <td>0</td>\n",
       "      <td>0</td>\n",
       "    </tr>\n",
       "    <tr>\n",
       "      <td>...</td>\n",
       "      <td>...</td>\n",
       "      <td>...</td>\n",
       "      <td>...</td>\n",
       "      <td>...</td>\n",
       "      <td>...</td>\n",
       "      <td>...</td>\n",
       "      <td>...</td>\n",
       "    </tr>\n",
       "    <tr>\n",
       "      <td>8855</td>\n",
       "      <td>1</td>\n",
       "      <td>2003</td>\n",
       "      <td>2054</td>\n",
       "      <td>12</td>\n",
       "      <td>-39</td>\n",
       "      <td>182</td>\n",
       "      <td>0</td>\n",
       "    </tr>\n",
       "    <tr>\n",
       "      <td>20490</td>\n",
       "      <td>1</td>\n",
       "      <td>1096</td>\n",
       "      <td>1096</td>\n",
       "      <td>7</td>\n",
       "      <td>-15</td>\n",
       "      <td>72</td>\n",
       "      <td>0</td>\n",
       "    </tr>\n",
       "    <tr>\n",
       "      <td>20708</td>\n",
       "      <td>1</td>\n",
       "      <td>1659</td>\n",
       "      <td>1705</td>\n",
       "      <td>8</td>\n",
       "      <td>-9</td>\n",
       "      <td>298</td>\n",
       "      <td>0</td>\n",
       "    </tr>\n",
       "    <tr>\n",
       "      <td>22485</td>\n",
       "      <td>0</td>\n",
       "      <td>1953</td>\n",
       "      <td>1790</td>\n",
       "      <td>-10</td>\n",
       "      <td>10</td>\n",
       "      <td>39</td>\n",
       "      <td>0</td>\n",
       "    </tr>\n",
       "    <tr>\n",
       "      <td>6973</td>\n",
       "      <td>0</td>\n",
       "      <td>1714</td>\n",
       "      <td>1728</td>\n",
       "      <td>-6</td>\n",
       "      <td>72</td>\n",
       "      <td>73</td>\n",
       "      <td>1</td>\n",
       "    </tr>\n",
       "  </tbody>\n",
       "</table>\n",
       "<p>4670 rows × 7 columns</p>\n",
       "</div>"
      ],
      "text/plain": [
       "       Result  WhiteElo  BlackElo  WhiteRatingDiff  BlackRatingDiff  ECO  \\\n",
       "15466       1      1528      1545                7              -37   86   \n",
       "5228        0      1092      1595               -2                0   67   \n",
       "19995       0      1222      1289               -7              101   85   \n",
       "13421       1      1852      1876               21               -7   87   \n",
       "3448        0      1373      1426               -6                7    0   \n",
       "...       ...       ...       ...              ...              ...  ...   \n",
       "8855        1      2003      2054               12              -39  182   \n",
       "20490       1      1096      1096                7              -15   72   \n",
       "20708       1      1659      1705                8               -9  298   \n",
       "22485       0      1953      1790              -10               10   39   \n",
       "6973        0      1714      1728               -6               72   73   \n",
       "\n",
       "       Termination  \n",
       "15466            1  \n",
       "5228             0  \n",
       "19995            0  \n",
       "13421            0  \n",
       "3448             0  \n",
       "...            ...  \n",
       "8855             0  \n",
       "20490            0  \n",
       "20708            0  \n",
       "22485            0  \n",
       "6973             1  \n",
       "\n",
       "[4670 rows x 7 columns]"
      ]
     },
     "execution_count": 214,
     "metadata": {},
     "output_type": "execute_result"
    }
   ],
   "source": [
    "XTest"
   ]
  },
  {
   "cell_type": "markdown",
   "metadata": {},
   "source": [
    "<h5>Game Type Prediction<h5>\n",
    "    Baseline Model"
   ]
  },
  {
   "cell_type": "code",
   "execution_count": 215,
   "metadata": {},
   "outputs": [
    {
     "name": "stdout",
     "output_type": "stream",
     "text": [
      "0.484796573875803\n"
     ]
    }
   ],
   "source": [
    "neigh = KNeighborsClassifier(n_neighbors=5)\n",
    "neigh.fit(XTrain, YTrain) \n",
    "predicted = neigh.predict(XTest)\n",
    "acc = accuracy_score(YTest, predicted)\n",
    "print(acc)"
   ]
  },
  {
   "cell_type": "code",
   "execution_count": null,
   "metadata": {},
   "outputs": [],
   "source": []
  },
  {
   "cell_type": "code",
   "execution_count": 391,
   "metadata": {},
   "outputs": [
    {
     "name": "stderr",
     "output_type": "stream",
     "text": [
      "C:\\Users\\ujwal\\Anaconda3\\lib\\site-packages\\ipykernel_launcher.py:1: SettingWithCopyWarning: \n",
      "A value is trying to be set on a copy of a slice from a DataFrame.\n",
      "Try using .loc[row_indexer,col_indexer] = value instead\n",
      "\n",
      "See the caveats in the documentation: http://pandas.pydata.org/pandas-docs/stable/user_guide/indexing.html#returning-a-view-versus-a-copy\n",
      "  \"\"\"Entry point for launching an IPython kernel.\n"
     ]
    }
   ],
   "source": [
    "baselineTrain['isUpset']= 0"
   ]
  },
  {
   "cell_type": "code",
   "execution_count": 392,
   "metadata": {},
   "outputs": [
    {
     "name": "stderr",
     "output_type": "stream",
     "text": [
      "C:\\Users\\ujwal\\Anaconda3\\lib\\site-packages\\ipykernel_launcher.py:7: SettingWithCopyWarning: \n",
      "A value is trying to be set on a copy of a slice from a DataFrame\n",
      "\n",
      "See the caveats in the documentation: http://pandas.pydata.org/pandas-docs/stable/user_guide/indexing.html#returning-a-view-versus-a-copy\n",
      "  import sys\n",
      "C:\\Users\\ujwal\\Anaconda3\\lib\\site-packages\\IPython\\core\\interactiveshell.py:3326: SettingWithCopyWarning: \n",
      "A value is trying to be set on a copy of a slice from a DataFrame\n",
      "\n",
      "See the caveats in the documentation: http://pandas.pydata.org/pandas-docs/stable/user_guide/indexing.html#returning-a-view-versus-a-copy\n",
      "  exec(code_obj, self.user_global_ns, self.user_ns)\n",
      "C:\\Users\\ujwal\\Anaconda3\\lib\\site-packages\\ipykernel_launcher.py:4: SettingWithCopyWarning: \n",
      "A value is trying to be set on a copy of a slice from a DataFrame\n",
      "\n",
      "See the caveats in the documentation: http://pandas.pydata.org/pandas-docs/stable/user_guide/indexing.html#returning-a-view-versus-a-copy\n",
      "  after removing the cwd from sys.path.\n"
     ]
    }
   ],
   "source": [
    "for i in range(0,len(baselineTrain)):\n",
    "    if baselineTrain['Result'][i]== 0:\n",
    "        if baselineTrain['BlackElo'][i]<baselineTrain['WhiteElo'][i]:\n",
    "            baselineTrain['isUpset'][i]=1\n",
    "    if baselineTrain['Result'][i]== 1:\n",
    "        if baselineTrain['BlackElo'][i]>baselineTrain['WhiteElo'][i]:\n",
    "            baselineTrain['isUpset'][i]=1"
   ]
  },
  {
   "cell_type": "code",
   "execution_count": 397,
   "metadata": {},
   "outputs": [
    {
     "data": {
      "text/plain": [
       "0    13456\n",
       "1     9891\n",
       "Name: isUpset, dtype: int64"
      ]
     },
     "execution_count": 397,
     "metadata": {},
     "output_type": "execute_result"
    }
   ],
   "source": [
    "baselineTrain['isUpset'].value_counts()"
   ]
  },
  {
   "cell_type": "code",
   "execution_count": 401,
   "metadata": {},
   "outputs": [],
   "source": [
    "fTrainingSet, fTestSet = train_test_split(baselineTrain, test_size=0.2)"
   ]
  },
  {
   "cell_type": "code",
   "execution_count": 402,
   "metadata": {},
   "outputs": [],
   "source": [
    "XTrain = fTrainingSet.drop('isUpset',axis =1)\n",
    "YTrain = fTrainingSet['isUpset']\n",
    "XTest = fTestSet.drop('isUpset', axis =1)\n",
    "YTest = fTestSet['isUpset']"
   ]
  },
  {
   "cell_type": "code",
   "execution_count": 403,
   "metadata": {},
   "outputs": [
    {
     "name": "stdout",
     "output_type": "stream",
     "text": [
      "0.845610278372591\n"
     ]
    }
   ],
   "source": [
    "neigh = KNeighborsClassifier(n_neighbors=2)\n",
    "neigh.fit(XTrain, YTrain) \n",
    "predicted = neigh.predict(XTest)\n",
    "acc = accuracy_score(YTest, predicted)\n",
    "print(acc)"
   ]
  },
  {
   "cell_type": "markdown",
   "metadata": {},
   "source": [
    "<h5>White Rating Prediction<h5>"
   ]
  },
  {
   "cell_type": "code",
   "execution_count": 219,
   "metadata": {},
   "outputs": [],
   "source": [
    "XTrain = blTrainingSet.drop('WhiteElo',axis =1)\n",
    "XTrain = XTrain.drop('BlackElo',axis =1)\n",
    "YTrain = blTrainingSet['WhiteElo']\n",
    "XTest = blTestSet.drop('WhiteElo', axis =1)\n",
    "XTest = XTest.drop('BlackElo', axis =1)\n",
    "YTest = blTestSet['WhiteElo']"
   ]
  },
  {
   "cell_type": "code",
   "execution_count": 220,
   "metadata": {},
   "outputs": [
    {
     "data": {
      "text/plain": [
       "LinearRegression(copy_X=True, fit_intercept=True, n_jobs=None, normalize=False)"
      ]
     },
     "execution_count": 220,
     "metadata": {},
     "output_type": "execute_result"
    }
   ],
   "source": [
    "# Linear Regression Model Creation\n",
    "lin_reg = LinearRegression()\n",
    "lin_reg.fit(XTrain, YTrain)"
   ]
  },
  {
   "cell_type": "code",
   "execution_count": 221,
   "metadata": {},
   "outputs": [
    {
     "name": "stdout",
     "output_type": "stream",
     "text": [
      "322.5617835567131\n"
     ]
    }
   ],
   "source": [
    "#predict on test data split\n",
    "y_test_predictions_lin_reg = lin_reg.predict(XTest)\n",
    "# print (len(y_test_predictions_lin_reg))\n",
    "lin_mse = mean_squared_error(YTest, (y_test_predictions_lin_reg))\n",
    "lin_rmse = np.sqrt(lin_mse)\n",
    "print(lin_rmse)"
   ]
  },
  {
   "cell_type": "markdown",
   "metadata": {},
   "source": [
    "<h2>Data Cleaning<h2>"
   ]
  },
  {
   "cell_type": "code",
   "execution_count": 222,
   "metadata": {},
   "outputs": [],
   "source": [
    "cleanedEvalData = evalData.copy()"
   ]
  },
  {
   "cell_type": "code",
   "execution_count": 223,
   "metadata": {},
   "outputs": [],
   "source": [
    "cleanedEvalData['GameType'] = pd.np.where(cleanedEvalData.Event.str.contains(\"Blitz\"), \"Blitz\",\n",
    "            pd.np.where(cleanedEvalData.Event.str.contains(\"Bullet\"), \"Bullet\",\n",
    "                        pd.np.where(cleanedEvalData.Event.str.contains(\"Rapid\"), \"Rapid\",\n",
    "                                    pd.np.where(cleanedEvalData.Event.str.contains(\"Classical\"), \"Classical\",\n",
    "                                                \"Correspondence\"))))\n",
    "\n",
    "\n",
    "cleanedEvalData['ECO'] = LabelEncoder().fit_transform(cleanedEvalData['ECO'])\n",
    "cleanedEvalData['TimeControl'] = LabelEncoder().fit_transform(cleanedEvalData['TimeControl'])\n",
    "cleanedEvalData['Termination'] = LabelEncoder().fit_transform(cleanedEvalData['Termination'])\n",
    "cleanedEvalData['GameType'] = LabelEncoder().fit_transform(cleanedEvalData['GameType'])\n",
    "\n",
    "cleanedEvalData['Result'] = pd.np.where(cleanedEvalData.Result.str.contains(\"1-0\"), \"1\",\n",
    "            pd.np.where(cleanedEvalData.Result.str.contains(\"0-1\"), \"0\",\n",
    "                        \"2\"))\n",
    "\n",
    "cleanedEvalData['Result'] = cleanedEvalData['Result'].astype(int)"
   ]
  },
  {
   "cell_type": "markdown",
   "metadata": {},
   "source": [
    "___________________________________\n",
    "\n",
    "<h2>INTERMEDIATE REPORT MODELS<h2>\n",
    "___________________________________"
   ]
  },
  {
   "cell_type": "code",
   "execution_count": 224,
   "metadata": {},
   "outputs": [],
   "source": [
    "irData = cleanedEvalData[['Result', 'WhiteElo', 'BlackElo', 'WhiteRatingDiff', 'BlackRatingDiff',\n",
    "       'ECO', 'TimeControl', 'Termination', 'Moves', 'GameType']]"
   ]
  },
  {
   "cell_type": "code",
   "execution_count": 225,
   "metadata": {},
   "outputs": [],
   "source": [
    "irData.reset_index(inplace=True, drop=True)"
   ]
  },
  {
   "cell_type": "code",
   "execution_count": 226,
   "metadata": {},
   "outputs": [
    {
     "name": "stderr",
     "output_type": "stream",
     "text": [
      "C:\\Users\\ujwal\\Anaconda3\\lib\\site-packages\\ipykernel_launcher.py:1: SettingWithCopyWarning: \n",
      "A value is trying to be set on a copy of a slice from a DataFrame.\n",
      "Try using .loc[row_indexer,col_indexer] = value instead\n",
      "\n",
      "See the caveats in the documentation: http://pandas.pydata.org/pandas-docs/stable/user_guide/indexing.html#returning-a-view-versus-a-copy\n",
      "  \"\"\"Entry point for launching an IPython kernel.\n"
     ]
    }
   ],
   "source": [
    "irData['MovesCount'] = ''"
   ]
  },
  {
   "cell_type": "code",
   "execution_count": 227,
   "metadata": {},
   "outputs": [
    {
     "name": "stderr",
     "output_type": "stream",
     "text": [
      "C:\\Users\\ujwal\\Anaconda3\\lib\\site-packages\\ipykernel_launcher.py:9: SettingWithCopyWarning: \n",
      "A value is trying to be set on a copy of a slice from a DataFrame\n",
      "\n",
      "See the caveats in the documentation: http://pandas.pydata.org/pandas-docs/stable/user_guide/indexing.html#returning-a-view-versus-a-copy\n",
      "  if __name__ == '__main__':\n",
      "C:\\Users\\ujwal\\Anaconda3\\lib\\site-packages\\IPython\\core\\interactiveshell.py:3326: SettingWithCopyWarning: \n",
      "A value is trying to be set on a copy of a slice from a DataFrame\n",
      "\n",
      "See the caveats in the documentation: http://pandas.pydata.org/pandas-docs/stable/user_guide/indexing.html#returning-a-view-versus-a-copy\n",
      "  exec(code_obj, self.user_global_ns, self.user_ns)\n"
     ]
    }
   ],
   "source": [
    "#Moves Count\n",
    "for i in range(0, irData.shape[0]):\n",
    "    gamestring = io.StringIO(irData['Moves'][i])\n",
    "    game = cp.read_game(gamestring)\n",
    "    count=0\n",
    "    if game is not None:\n",
    "        for move in game.mainline_moves():\n",
    "            count=count+1\n",
    "    irData['MovesCount'][i]=count"
   ]
  },
  {
   "cell_type": "code",
   "execution_count": 228,
   "metadata": {},
   "outputs": [
    {
     "name": "stderr",
     "output_type": "stream",
     "text": [
      "C:\\Users\\ujwal\\Anaconda3\\lib\\site-packages\\ipykernel_launcher.py:1: SettingWithCopyWarning: \n",
      "A value is trying to be set on a copy of a slice from a DataFrame.\n",
      "Try using .loc[row_indexer,col_indexer] = value instead\n",
      "\n",
      "See the caveats in the documentation: http://pandas.pydata.org/pandas-docs/stable/user_guide/indexing.html#returning-a-view-versus-a-copy\n",
      "  \"\"\"Entry point for launching an IPython kernel.\n",
      "C:\\Users\\ujwal\\Anaconda3\\lib\\site-packages\\ipykernel_launcher.py:2: SettingWithCopyWarning: \n",
      "A value is trying to be set on a copy of a slice from a DataFrame.\n",
      "Try using .loc[row_indexer,col_indexer] = value instead\n",
      "\n",
      "See the caveats in the documentation: http://pandas.pydata.org/pandas-docs/stable/user_guide/indexing.html#returning-a-view-versus-a-copy\n",
      "  \n"
     ]
    },
    {
     "data": {
      "text/html": [
       "<div>\n",
       "<style scoped>\n",
       "    .dataframe tbody tr th:only-of-type {\n",
       "        vertical-align: middle;\n",
       "    }\n",
       "\n",
       "    .dataframe tbody tr th {\n",
       "        vertical-align: top;\n",
       "    }\n",
       "\n",
       "    .dataframe thead th {\n",
       "        text-align: right;\n",
       "    }\n",
       "</style>\n",
       "<table border=\"1\" class=\"dataframe\">\n",
       "  <thead>\n",
       "    <tr style=\"text-align: right;\">\n",
       "      <th></th>\n",
       "      <th>Result</th>\n",
       "      <th>WhiteElo</th>\n",
       "      <th>BlackElo</th>\n",
       "      <th>WhiteRatingDiff</th>\n",
       "      <th>BlackRatingDiff</th>\n",
       "      <th>ECO</th>\n",
       "      <th>TimeControl</th>\n",
       "      <th>Termination</th>\n",
       "      <th>Moves</th>\n",
       "      <th>GameType</th>\n",
       "      <th>MovesCount</th>\n",
       "      <th>WhiteCaptured</th>\n",
       "      <th>BlackCaptured</th>\n",
       "    </tr>\n",
       "  </thead>\n",
       "  <tbody>\n",
       "    <tr>\n",
       "      <td>0</td>\n",
       "      <td>0</td>\n",
       "      <td>1435</td>\n",
       "      <td>1524</td>\n",
       "      <td>-5</td>\n",
       "      <td>6</td>\n",
       "      <td>4</td>\n",
       "      <td>27</td>\n",
       "      <td>0</td>\n",
       "      <td>1. Nf3 { [%eval 0.06] [%clk 0:03:00] } 1... Nc...</td>\n",
       "      <td>0</td>\n",
       "      <td>28</td>\n",
       "      <td></td>\n",
       "      <td></td>\n",
       "    </tr>\n",
       "    <tr>\n",
       "      <td>1</td>\n",
       "      <td>1</td>\n",
       "      <td>1550</td>\n",
       "      <td>1508</td>\n",
       "      <td>7</td>\n",
       "      <td>-16</td>\n",
       "      <td>94</td>\n",
       "      <td>104</td>\n",
       "      <td>0</td>\n",
       "      <td>1. e4 { [%eval 0.24] [%clk 0:10:00] } 1... c5 ...</td>\n",
       "      <td>4</td>\n",
       "      <td>43</td>\n",
       "      <td></td>\n",
       "      <td></td>\n",
       "    </tr>\n",
       "    <tr>\n",
       "      <td>2</td>\n",
       "      <td>1</td>\n",
       "      <td>2208</td>\n",
       "      <td>2030</td>\n",
       "      <td>4</td>\n",
       "      <td>-4</td>\n",
       "      <td>1</td>\n",
       "      <td>97</td>\n",
       "      <td>0</td>\n",
       "      <td>1. b3 { [%eval 0.11] [%clk 0:01:00] } 1... Nf6...</td>\n",
       "      <td>1</td>\n",
       "      <td>77</td>\n",
       "      <td></td>\n",
       "      <td></td>\n",
       "    </tr>\n",
       "    <tr>\n",
       "      <td>3</td>\n",
       "      <td>1</td>\n",
       "      <td>1327</td>\n",
       "      <td>1596</td>\n",
       "      <td>12</td>\n",
       "      <td>-12</td>\n",
       "      <td>62</td>\n",
       "      <td>56</td>\n",
       "      <td>0</td>\n",
       "      <td>1. d4 { [%eval 0.25] [%clk 0:05:00] } 1... e6 ...</td>\n",
       "      <td>0</td>\n",
       "      <td>119</td>\n",
       "      <td></td>\n",
       "      <td></td>\n",
       "    </tr>\n",
       "    <tr>\n",
       "      <td>4</td>\n",
       "      <td>1</td>\n",
       "      <td>1053</td>\n",
       "      <td>1046</td>\n",
       "      <td>7</td>\n",
       "      <td>-7</td>\n",
       "      <td>4</td>\n",
       "      <td>56</td>\n",
       "      <td>0</td>\n",
       "      <td>1. Nf3 { [%eval 0.06] [%clk 0:05:00] } 1... d6...</td>\n",
       "      <td>0</td>\n",
       "      <td>73</td>\n",
       "      <td></td>\n",
       "      <td></td>\n",
       "    </tr>\n",
       "  </tbody>\n",
       "</table>\n",
       "</div>"
      ],
      "text/plain": [
       "   Result  WhiteElo  BlackElo  WhiteRatingDiff  BlackRatingDiff  ECO  \\\n",
       "0       0      1435      1524               -5                6    4   \n",
       "1       1      1550      1508                7              -16   94   \n",
       "2       1      2208      2030                4               -4    1   \n",
       "3       1      1327      1596               12              -12   62   \n",
       "4       1      1053      1046                7               -7    4   \n",
       "\n",
       "   TimeControl  Termination  \\\n",
       "0           27            0   \n",
       "1          104            0   \n",
       "2           97            0   \n",
       "3           56            0   \n",
       "4           56            0   \n",
       "\n",
       "                                               Moves  GameType MovesCount  \\\n",
       "0  1. Nf3 { [%eval 0.06] [%clk 0:03:00] } 1... Nc...         0         28   \n",
       "1  1. e4 { [%eval 0.24] [%clk 0:10:00] } 1... c5 ...         4         43   \n",
       "2  1. b3 { [%eval 0.11] [%clk 0:01:00] } 1... Nf6...         1         77   \n",
       "3  1. d4 { [%eval 0.25] [%clk 0:05:00] } 1... e6 ...         0        119   \n",
       "4  1. Nf3 { [%eval 0.06] [%clk 0:05:00] } 1... d6...         0         73   \n",
       "\n",
       "  WhiteCaptured BlackCaptured  \n",
       "0                              \n",
       "1                              \n",
       "2                              \n",
       "3                              \n",
       "4                              "
      ]
     },
     "execution_count": 228,
     "metadata": {},
     "output_type": "execute_result"
    }
   ],
   "source": [
    "irData[\"WhiteCaptured\"] = \"\"\n",
    "irData[\"BlackCaptured\"] = \"\"\n",
    "irData.head()"
   ]
  },
  {
   "cell_type": "code",
   "execution_count": 229,
   "metadata": {},
   "outputs": [
    {
     "name": "stdout",
     "output_type": "stream",
     "text": [
      "0\n"
     ]
    },
    {
     "name": "stderr",
     "output_type": "stream",
     "text": [
      "C:\\Users\\ujwal\\Anaconda3\\lib\\site-packages\\ipykernel_launcher.py:18: SettingWithCopyWarning: \n",
      "A value is trying to be set on a copy of a slice from a DataFrame\n",
      "\n",
      "See the caveats in the documentation: http://pandas.pydata.org/pandas-docs/stable/user_guide/indexing.html#returning-a-view-versus-a-copy\n",
      "C:\\Users\\ujwal\\Anaconda3\\lib\\site-packages\\ipykernel_launcher.py:19: SettingWithCopyWarning: \n",
      "A value is trying to be set on a copy of a slice from a DataFrame\n",
      "\n",
      "See the caveats in the documentation: http://pandas.pydata.org/pandas-docs/stable/user_guide/indexing.html#returning-a-view-versus-a-copy\n"
     ]
    },
    {
     "name": "stdout",
     "output_type": "stream",
     "text": [
      "5000\n",
      "10000\n",
      "15000\n",
      "20000\n"
     ]
    }
   ],
   "source": [
    "for i in range(0, irData.shape[0]):\n",
    "    board = chess.Board()\n",
    "    if i%5000 == 0:\n",
    "        print(i)\n",
    "    gamestring = io.StringIO(irData['Moves'][i])\n",
    "    game = cp.read_game(gamestring)\n",
    "    if game is not None:\n",
    "        for move in game.mainline_moves():\n",
    "            board.push(move)\n",
    "    boardMap = board.piece_map()\n",
    "    blackCount = 0\n",
    "    whiteCount =0\n",
    "    for cell in boardMap:\n",
    "        if str(boardMap[cell]).isupper():\n",
    "            whiteCount= whiteCount+1\n",
    "        elif str(boardMap[cell]).islower():\n",
    "            blackCount = blackCount + 1\n",
    "    irData['WhiteCaptured'][i] = 16 - whiteCount\n",
    "    irData['BlackCaptured'][i] = 16 - blackCount"
   ]
  },
  {
   "cell_type": "code",
   "execution_count": 230,
   "metadata": {},
   "outputs": [
    {
     "name": "stderr",
     "output_type": "stream",
     "text": [
      "C:\\Users\\ujwal\\Anaconda3\\lib\\site-packages\\ipykernel_launcher.py:1: SettingWithCopyWarning: \n",
      "A value is trying to be set on a copy of a slice from a DataFrame.\n",
      "Try using .loc[row_indexer,col_indexer] = value instead\n",
      "\n",
      "See the caveats in the documentation: http://pandas.pydata.org/pandas-docs/stable/user_guide/indexing.html#returning-a-view-versus-a-copy\n",
      "  \"\"\"Entry point for launching an IPython kernel.\n"
     ]
    }
   ],
   "source": [
    "irData['EloDifference'] = irData['WhiteElo'].astype(int) - irData['BlackElo'].astype(int)"
   ]
  },
  {
   "cell_type": "code",
   "execution_count": 231,
   "metadata": {},
   "outputs": [
    {
     "name": "stderr",
     "output_type": "stream",
     "text": [
      "C:\\Users\\ujwal\\Anaconda3\\lib\\site-packages\\ipykernel_launcher.py:1: SettingWithCopyWarning: \n",
      "A value is trying to be set on a copy of a slice from a DataFrame.\n",
      "Try using .loc[row_indexer,col_indexer] = value instead\n",
      "\n",
      "See the caveats in the documentation: http://pandas.pydata.org/pandas-docs/stable/user_guide/indexing.html#returning-a-view-versus-a-copy\n",
      "  \"\"\"Entry point for launching an IPython kernel.\n",
      "C:\\Users\\ujwal\\Anaconda3\\lib\\site-packages\\ipykernel_launcher.py:2: SettingWithCopyWarning: \n",
      "A value is trying to be set on a copy of a slice from a DataFrame.\n",
      "Try using .loc[row_indexer,col_indexer] = value instead\n",
      "\n",
      "See the caveats in the documentation: http://pandas.pydata.org/pandas-docs/stable/user_guide/indexing.html#returning-a-view-versus-a-copy\n",
      "  \n",
      "C:\\Users\\ujwal\\Anaconda3\\lib\\site-packages\\ipykernel_launcher.py:3: SettingWithCopyWarning: \n",
      "A value is trying to be set on a copy of a slice from a DataFrame.\n",
      "Try using .loc[row_indexer,col_indexer] = value instead\n",
      "\n",
      "See the caveats in the documentation: http://pandas.pydata.org/pandas-docs/stable/user_guide/indexing.html#returning-a-view-versus-a-copy\n",
      "  This is separate from the ipykernel package so we can avoid doing imports until\n"
     ]
    }
   ],
   "source": [
    "irData[\"RemTimeAftFirstMoveWhite\"] = \"\"\n",
    "irData[\"RemTimeAftLastMoveWhite\"] = \"\"\n",
    "irData[\"RemTimeAftFirstMoveBlack\"] = \"\"\n",
    "irData[\"RemTimeAftLastMoveBlack\"] = \"\"\n",
    "irData['WhiteTotalEval'] = ''\n",
    "irData['BlackTotalEval'] = ''"
   ]
  },
  {
   "cell_type": "code",
   "execution_count": 232,
   "metadata": {},
   "outputs": [
    {
     "name": "stdout",
     "output_type": "stream",
     "text": [
      "0\n"
     ]
    },
    {
     "name": "stderr",
     "output_type": "stream",
     "text": [
      "C:\\Users\\ujwal\\Anaconda3\\lib\\site-packages\\ipykernel_launcher.py:24: SettingWithCopyWarning: \n",
      "A value is trying to be set on a copy of a slice from a DataFrame\n",
      "\n",
      "See the caveats in the documentation: http://pandas.pydata.org/pandas-docs/stable/user_guide/indexing.html#returning-a-view-versus-a-copy\n",
      "C:\\Users\\ujwal\\Anaconda3\\lib\\site-packages\\ipykernel_launcher.py:25: SettingWithCopyWarning: \n",
      "A value is trying to be set on a copy of a slice from a DataFrame\n",
      "\n",
      "See the caveats in the documentation: http://pandas.pydata.org/pandas-docs/stable/user_guide/indexing.html#returning-a-view-versus-a-copy\n",
      "C:\\Users\\ujwal\\Anaconda3\\lib\\site-packages\\ipykernel_launcher.py:28: SettingWithCopyWarning: \n",
      "A value is trying to be set on a copy of a slice from a DataFrame\n",
      "\n",
      "See the caveats in the documentation: http://pandas.pydata.org/pandas-docs/stable/user_guide/indexing.html#returning-a-view-versus-a-copy\n",
      "C:\\Users\\ujwal\\Anaconda3\\lib\\site-packages\\ipykernel_launcher.py:29: SettingWithCopyWarning: \n",
      "A value is trying to be set on a copy of a slice from a DataFrame\n",
      "\n",
      "See the caveats in the documentation: http://pandas.pydata.org/pandas-docs/stable/user_guide/indexing.html#returning-a-view-versus-a-copy\n",
      "C:\\Users\\ujwal\\Anaconda3\\lib\\site-packages\\ipykernel_launcher.py:33: SettingWithCopyWarning: \n",
      "A value is trying to be set on a copy of a slice from a DataFrame\n",
      "\n",
      "See the caveats in the documentation: http://pandas.pydata.org/pandas-docs/stable/user_guide/indexing.html#returning-a-view-versus-a-copy\n",
      "C:\\Users\\ujwal\\Anaconda3\\lib\\site-packages\\ipykernel_launcher.py:37: SettingWithCopyWarning: \n",
      "A value is trying to be set on a copy of a slice from a DataFrame\n",
      "\n",
      "See the caveats in the documentation: http://pandas.pydata.org/pandas-docs/stable/user_guide/indexing.html#returning-a-view-versus-a-copy\n",
      "C:\\Users\\ujwal\\Anaconda3\\lib\\site-packages\\ipykernel_launcher.py:42: SettingWithCopyWarning: \n",
      "A value is trying to be set on a copy of a slice from a DataFrame\n",
      "\n",
      "See the caveats in the documentation: http://pandas.pydata.org/pandas-docs/stable/user_guide/indexing.html#returning-a-view-versus-a-copy\n",
      "C:\\Users\\ujwal\\Anaconda3\\lib\\site-packages\\ipykernel_launcher.py:48: SettingWithCopyWarning: \n",
      "A value is trying to be set on a copy of a slice from a DataFrame\n",
      "\n",
      "See the caveats in the documentation: http://pandas.pydata.org/pandas-docs/stable/user_guide/indexing.html#returning-a-view-versus-a-copy\n",
      "C:\\Users\\ujwal\\Anaconda3\\lib\\site-packages\\ipykernel_launcher.py:39: SettingWithCopyWarning: \n",
      "A value is trying to be set on a copy of a slice from a DataFrame\n",
      "\n",
      "See the caveats in the documentation: http://pandas.pydata.org/pandas-docs/stable/user_guide/indexing.html#returning-a-view-versus-a-copy\n",
      "C:\\Users\\ujwal\\Anaconda3\\lib\\site-packages\\ipykernel_launcher.py:46: SettingWithCopyWarning: \n",
      "A value is trying to be set on a copy of a slice from a DataFrame\n",
      "\n",
      "See the caveats in the documentation: http://pandas.pydata.org/pandas-docs/stable/user_guide/indexing.html#returning-a-view-versus-a-copy\n",
      "C:\\Users\\ujwal\\Anaconda3\\lib\\site-packages\\ipykernel_launcher.py:44: SettingWithCopyWarning: \n",
      "A value is trying to be set on a copy of a slice from a DataFrame\n",
      "\n",
      "See the caveats in the documentation: http://pandas.pydata.org/pandas-docs/stable/user_guide/indexing.html#returning-a-view-versus-a-copy\n",
      "C:\\Users\\ujwal\\Anaconda3\\lib\\site-packages\\ipykernel_launcher.py:35: SettingWithCopyWarning: \n",
      "A value is trying to be set on a copy of a slice from a DataFrame\n",
      "\n",
      "See the caveats in the documentation: http://pandas.pydata.org/pandas-docs/stable/user_guide/indexing.html#returning-a-view-versus-a-copy\n"
     ]
    },
    {
     "name": "stdout",
     "output_type": "stream",
     "text": [
      "5000\n",
      "10000\n",
      "15000\n",
      "20000\n"
     ]
    }
   ],
   "source": [
    "for i in range(0, len(irData['Moves'])):\n",
    "    if i%5000 == 0:\n",
    "        print(i)\n",
    "    try:\n",
    "        if irData['Termination'][i]!='Abandoned' and irData['Moves'][i] is not None:\n",
    "            if 'eval' in irData['Moves'][i]:\n",
    "                splitres = irData['Moves'][i].split(' } ')\n",
    "                whiteEvalSum = 0\n",
    "                blackEvalSum = 0\n",
    "\n",
    "                for j in range(0, len(splitres)):\n",
    "                    if j%2 == 0:\n",
    "                        if '%eval ' in splitres[j]:\n",
    "                            #if splitres[j].split(']')[0].split('%eval ')[1]=='#1':\n",
    "                            #    whiteEvalSum = whiteEvalSum + 1\n",
    "                            if '#' not in splitres[j].split(']')[0].split('%eval ')[1]:\n",
    "                                whiteEvalSum = whiteEvalSum + float(splitres[j].split(']')[0].split('%eval ')[1])\n",
    "                    else:\n",
    "                        if '%eval ' in splitres[j]:\n",
    "                            #if '%eval ' in splitres[j] and splitres[j].split(']')[0].split('%eval ')[1]=='#1':\n",
    "                            #    blackEvalSum = blackEvalSum + 1\n",
    "                            if '#' not in splitres[j].split(']')[0].split('%eval ')[1]:\n",
    "                                blackEvalSum = blackEvalSum + float(splitres[j].split(']')[0].split('%eval ')[1])\n",
    "                irData['WhiteTotalEval'][i] = whiteEvalSum\n",
    "                irData['BlackTotalEval'][i] = blackEvalSum\n",
    "\n",
    "                if 'clk' in irData['Moves'][i]:\n",
    "                    irData[\"RemTimeAftFirstMoveWhite\"][i] = splitres[0].split(']')[1].split('%clk ')[1]\n",
    "                    irData[\"RemTimeAftFirstMoveBlack\"][i] = splitres[1].split(']')[1].split('%clk ')[1]\n",
    "                    length = len(splitres)\n",
    "                    if length%2 == 0:\n",
    "                        if '%eval ' in splitres[length-2]:\n",
    "                            irData[\"RemTimeAftLastMoveWhite\"][i] = splitres[length-2].split(']')[1].split('%clk ')[1]\n",
    "                        elif '%eval ' not in splitres[length-2]:\n",
    "                            irData[\"RemTimeAftLastMoveWhite\"][i] = splitres[length-2].split(']')[0].split('%clk ')[1]\n",
    "                        if '%eval ' in splitres[length-1]:\n",
    "                            irData[\"RemTimeAftLastMoveBlack\"][i] = splitres[length-1].split(']')[1].split('%clk ')[1]\n",
    "                        elif '%eval ' not in splitres[length-1]:\n",
    "                            irData[\"RemTimeAftLastMoveBlack\"][i] = splitres[length-1].split(']')[0].split('%clk ')[1]\n",
    "                    else:\n",
    "                        if '%eval ' in splitres[length-2]:\n",
    "                            irData[\"RemTimeAftLastMoveBlack\"][i] = splitres[length-2].split(']')[1].split('%clk ')[1]\n",
    "                        elif '%eval ' not in splitres[length-2]:\n",
    "                            irData[\"RemTimeAftLastMoveBlack\"][i] = splitres[length-2].split(']')[0].split('%clk ')[1]\n",
    "                        if '%eval ' in splitres[length-1]:\n",
    "                            irData[\"RemTimeAftLastMoveWhite\"][i] = splitres[length-1].split(']')[1].split('%clk ')[1]\n",
    "                        elif '%eval ' not in splitres[length-1]:\n",
    "                            irData[\"RemTimeAftLastMoveWhite\"][i] = splitres[length-1].split(']')[0].split('%clk ')[1]\n",
    "\n",
    "\n",
    "            elif 'clk' in irData['Moves'][i]:\n",
    "                splitres = irData['Moves'][i].split(' } ')\n",
    "                irData[\"RemTimeAftFirstMoveWhite\"][i] = splitres[0].split(\"]\")[0].split('%clk ')[1]\n",
    "                irData[\"RemTimeAftFirstMoveBlack\"][i] = splitres[1].split(\"]\")[0].split('%clk ')[1]\n",
    "                length = len(splitres)\n",
    "                if length%2 == 0:\n",
    "                    irData[\"RemTimeAftLastMoveWhite\"][i] = splitres[length-2].split(\"]\")[0].split('%clk ')[1]\n",
    "                    irData[\"RemTimeAftLastMoveBlack\"][i] = splitres[length-1].split(\"]\")[0].split('%clk ')[1]\n",
    "                else:\n",
    "                    irData[\"RemTimeAftLastMoveBlack\"][i] = splitres[length-2].split(\"]\")[0].split('%clk ')[1]\n",
    "                    irData[\"RemTimeAftLastMoveWhite\"][i] = splitres[length-1].split(\"]\")[0].split('%clk ')[1]\n",
    "    except:\n",
    "        print(i)\n"
   ]
  },
  {
   "cell_type": "code",
   "execution_count": 233,
   "metadata": {},
   "outputs": [
    {
     "data": {
      "text/plain": [
       "Result                      0\n",
       "WhiteElo                    0\n",
       "BlackElo                    0\n",
       "WhiteRatingDiff             0\n",
       "BlackRatingDiff             0\n",
       "ECO                         0\n",
       "TimeControl                 0\n",
       "Termination                 0\n",
       "Moves                       0\n",
       "GameType                    0\n",
       "MovesCount                  0\n",
       "WhiteCaptured               0\n",
       "BlackCaptured               0\n",
       "EloDifference               0\n",
       "RemTimeAftFirstMoveWhite    0\n",
       "RemTimeAftLastMoveWhite     0\n",
       "RemTimeAftFirstMoveBlack    0\n",
       "RemTimeAftLastMoveBlack     0\n",
       "WhiteTotalEval              0\n",
       "BlackTotalEval              0\n",
       "dtype: int64"
      ]
     },
     "execution_count": 233,
     "metadata": {},
     "output_type": "execute_result"
    }
   ],
   "source": [
    "irData.isnull().sum()"
   ]
  },
  {
   "cell_type": "code",
   "execution_count": 234,
   "metadata": {},
   "outputs": [],
   "source": [
    "irData.drop(irData[irData['RemTimeAftFirstMoveWhite']==''].index, inplace = True)\n",
    "irData.drop(irData[irData['RemTimeAftLastMoveWhite']==''].index, inplace = True)\n",
    "irData.drop(irData[irData['RemTimeAftFirstMoveBlack']==''].index, inplace = True)\n",
    "irData.drop(irData[irData['RemTimeAftLastMoveBlack']==''].index, inplace = True)"
   ]
  },
  {
   "cell_type": "code",
   "execution_count": 235,
   "metadata": {},
   "outputs": [],
   "source": [
    "irData.reset_index(inplace=True, drop=True)"
   ]
  },
  {
   "cell_type": "code",
   "execution_count": 236,
   "metadata": {},
   "outputs": [
    {
     "data": {
      "text/plain": [
       "(23271, 20)"
      ]
     },
     "execution_count": 236,
     "metadata": {},
     "output_type": "execute_result"
    }
   ],
   "source": [
    "irData.shape"
   ]
  },
  {
   "cell_type": "code",
   "execution_count": 237,
   "metadata": {
    "scrolled": true
   },
   "outputs": [
    {
     "name": "stderr",
     "output_type": "stream",
     "text": [
      "C:\\Users\\ujwal\\Anaconda3\\lib\\site-packages\\ipykernel_launcher.py:6: SettingWithCopyWarning: \n",
      "A value is trying to be set on a copy of a slice from a DataFrame\n",
      "\n",
      "See the caveats in the documentation: http://pandas.pydata.org/pandas-docs/stable/user_guide/indexing.html#returning-a-view-versus-a-copy\n",
      "  \n",
      "C:\\Users\\ujwal\\Anaconda3\\lib\\site-packages\\ipykernel_launcher.py:7: SettingWithCopyWarning: \n",
      "A value is trying to be set on a copy of a slice from a DataFrame\n",
      "\n",
      "See the caveats in the documentation: http://pandas.pydata.org/pandas-docs/stable/user_guide/indexing.html#returning-a-view-versus-a-copy\n",
      "  import sys\n",
      "C:\\Users\\ujwal\\Anaconda3\\lib\\site-packages\\ipykernel_launcher.py:8: SettingWithCopyWarning: \n",
      "A value is trying to be set on a copy of a slice from a DataFrame\n",
      "\n",
      "See the caveats in the documentation: http://pandas.pydata.org/pandas-docs/stable/user_guide/indexing.html#returning-a-view-versus-a-copy\n",
      "  \n",
      "C:\\Users\\ujwal\\Anaconda3\\lib\\site-packages\\ipykernel_launcher.py:9: SettingWithCopyWarning: \n",
      "A value is trying to be set on a copy of a slice from a DataFrame\n",
      "\n",
      "See the caveats in the documentation: http://pandas.pydata.org/pandas-docs/stable/user_guide/indexing.html#returning-a-view-versus-a-copy\n",
      "  if __name__ == '__main__':\n"
     ]
    }
   ],
   "source": [
    "irData['a']=''\n",
    "irData['b']=''\n",
    "irData['c']=''\n",
    "irData['d']=''\n",
    "for i in range(0,irData.shape[0]):\n",
    "    irData['a'][i] = pd.Timedelta(str(irData['RemTimeAftFirstMoveWhite'][i])).seconds\n",
    "    irData['b'][i] = pd.Timedelta(str(irData['RemTimeAftLastMoveWhite'][i])).seconds\n",
    "    irData['c'][i] = pd.Timedelta(str(irData['RemTimeAftFirstMoveBlack'][i])).seconds\n",
    "    irData['d'][i] = pd.Timedelta(str(irData['RemTimeAftLastMoveBlack'][i])).seconds\n",
    "\n",
    "irData['RemTimeAftFirstMoveWhite'] = irData['a']\n",
    "irData['RemTimeAftLastMoveWhite'] = irData['b']\n",
    "irData['RemTimeAftFirstMoveBlack'] = irData['c']\n",
    "irData['RemTimeAftLastMoveBlack'] = irData['d']\n",
    "\n",
    "irData = irData.drop('a',axis =1)\n",
    "irData = irData.drop('b',axis =1)\n",
    "irData = irData.drop('c',axis =1)\n",
    "irData = irData.drop('d',axis =1)"
   ]
  },
  {
   "cell_type": "code",
   "execution_count": 238,
   "metadata": {},
   "outputs": [],
   "source": [
    "irData['MovesCount']= irData['MovesCount'].astype(int)\n",
    "irData['WhiteCaptured']= irData['WhiteCaptured'].astype(int)\n",
    "irData['BlackCaptured']= irData['BlackCaptured'].astype(int)\n",
    "irData['WhiteTotalEval']= irData['WhiteTotalEval'].astype(float)\n",
    "irData['BlackTotalEval']= irData['BlackTotalEval'].astype(float)\n",
    "irData['RemTimeAftFirstMoveWhite']= irData['RemTimeAftFirstMoveWhite'].astype(int)\n",
    "irData['RemTimeAftLastMoveWhite']= irData['RemTimeAftLastMoveWhite'].astype(int)\n",
    "irData['RemTimeAftFirstMoveBlack']= irData['RemTimeAftFirstMoveBlack'].astype(int)\n",
    "irData['RemTimeAftLastMoveBlack']= irData['RemTimeAftLastMoveBlack'].astype(int)"
   ]
  },
  {
   "cell_type": "code",
   "execution_count": 239,
   "metadata": {},
   "outputs": [
    {
     "data": {
      "text/plain": [
       "Index(['Result', 'WhiteElo', 'BlackElo', 'WhiteRatingDiff', 'BlackRatingDiff',\n",
       "       'ECO', 'TimeControl', 'Termination', 'Moves', 'GameType', 'MovesCount',\n",
       "       'WhiteCaptured', 'BlackCaptured', 'EloDifference',\n",
       "       'RemTimeAftFirstMoveWhite', 'RemTimeAftLastMoveWhite',\n",
       "       'RemTimeAftFirstMoveBlack', 'RemTimeAftLastMoveBlack', 'WhiteTotalEval',\n",
       "       'BlackTotalEval'],\n",
       "      dtype='object')"
      ]
     },
     "execution_count": 239,
     "metadata": {},
     "output_type": "execute_result"
    }
   ],
   "source": [
    "irData.columns"
   ]
  },
  {
   "cell_type": "markdown",
   "metadata": {},
   "source": [
    "<h5>GameType Prediction<h5>"
   ]
  },
  {
   "cell_type": "code",
   "execution_count": 240,
   "metadata": {},
   "outputs": [],
   "source": [
    "normalizedData = irData[irData['GameType']==2]\n",
    "normalizedData = normalizedData.append(irData[irData['GameType']==0].iloc[0:1309,:], ignore_index = True)\n",
    "normalizedData = normalizedData.append(irData[irData['GameType']==1].iloc[0:1309,:], ignore_index = True)\n",
    "normalizedData = normalizedData.append(irData[irData['GameType']==4].iloc[0:1309,:], ignore_index = True)"
   ]
  },
  {
   "cell_type": "code",
   "execution_count": 241,
   "metadata": {},
   "outputs": [],
   "source": [
    "gametypeData = normalizedData[['Result', 'WhiteElo', 'BlackElo', 'WhiteRatingDiff', 'BlackRatingDiff',\n",
    "       'ECO', 'Termination','GameType', 'MovesCount',\n",
    "       'WhiteCaptured', 'BlackCaptured']]"
   ]
  },
  {
   "cell_type": "code",
   "execution_count": 242,
   "metadata": {},
   "outputs": [],
   "source": [
    "irTrainingSet, irTestSet = train_test_split(gametypeData, test_size=0.2)\n",
    "\n",
    "XTrain = irTrainingSet.drop('GameType',axis =1)\n",
    "YTrain = irTrainingSet['GameType']\n",
    "XTest = irTestSet.drop('GameType', axis =1)\n",
    "YTest = irTestSet['GameType']"
   ]
  },
  {
   "cell_type": "code",
   "execution_count": 243,
   "metadata": {},
   "outputs": [
    {
     "name": "stdout",
     "output_type": "stream",
     "text": [
      "0.38685015290519875\n"
     ]
    }
   ],
   "source": [
    "neigh = KNeighborsClassifier(n_neighbors=5)\n",
    "neigh.fit(XTrain, YTrain) \n",
    "predicted = neigh.predict(XTest)\n",
    "acc = accuracy_score(YTest, predicted)\n",
    "print(acc)"
   ]
  },
  {
   "cell_type": "markdown",
   "metadata": {},
   "source": [
    "<h5>White Rating Prediction<h5>"
   ]
  },
  {
   "cell_type": "code",
   "execution_count": 244,
   "metadata": {
    "scrolled": true
   },
   "outputs": [
    {
     "data": {
      "text/html": [
       "<div>\n",
       "<style scoped>\n",
       "    .dataframe tbody tr th:only-of-type {\n",
       "        vertical-align: middle;\n",
       "    }\n",
       "\n",
       "    .dataframe tbody tr th {\n",
       "        vertical-align: top;\n",
       "    }\n",
       "\n",
       "    .dataframe thead th {\n",
       "        text-align: right;\n",
       "    }\n",
       "</style>\n",
       "<table border=\"1\" class=\"dataframe\">\n",
       "  <thead>\n",
       "    <tr style=\"text-align: right;\">\n",
       "      <th></th>\n",
       "      <th>Result</th>\n",
       "      <th>WhiteElo</th>\n",
       "      <th>BlackElo</th>\n",
       "      <th>WhiteRatingDiff</th>\n",
       "      <th>BlackRatingDiff</th>\n",
       "      <th>ECO</th>\n",
       "      <th>TimeControl</th>\n",
       "      <th>Termination</th>\n",
       "      <th>Moves</th>\n",
       "      <th>GameType</th>\n",
       "      <th>MovesCount</th>\n",
       "      <th>WhiteCaptured</th>\n",
       "      <th>BlackCaptured</th>\n",
       "      <th>EloDifference</th>\n",
       "      <th>RemTimeAftFirstMoveWhite</th>\n",
       "      <th>RemTimeAftLastMoveWhite</th>\n",
       "      <th>RemTimeAftFirstMoveBlack</th>\n",
       "      <th>RemTimeAftLastMoveBlack</th>\n",
       "      <th>WhiteTotalEval</th>\n",
       "      <th>BlackTotalEval</th>\n",
       "    </tr>\n",
       "  </thead>\n",
       "  <tbody>\n",
       "    <tr>\n",
       "      <td>0</td>\n",
       "      <td>1</td>\n",
       "      <td>1796</td>\n",
       "      <td>1784</td>\n",
       "      <td>8</td>\n",
       "      <td>-7</td>\n",
       "      <td>85</td>\n",
       "      <td>135</td>\n",
       "      <td>0</td>\n",
       "      <td>1. e4 { [%eval 0.24] [%clk 0:15:00] } 1... c5 ...</td>\n",
       "      <td>2</td>\n",
       "      <td>25</td>\n",
       "      <td>1</td>\n",
       "      <td>2</td>\n",
       "      <td>12</td>\n",
       "      <td>900</td>\n",
       "      <td>890</td>\n",
       "      <td>900</td>\n",
       "      <td>892</td>\n",
       "      <td>18.32</td>\n",
       "      <td>20.49</td>\n",
       "    </tr>\n",
       "    <tr>\n",
       "      <td>1</td>\n",
       "      <td>0</td>\n",
       "      <td>1834</td>\n",
       "      <td>2061</td>\n",
       "      <td>-5</td>\n",
       "      <td>19</td>\n",
       "      <td>208</td>\n",
       "      <td>135</td>\n",
       "      <td>0</td>\n",
       "      <td>1. e4 { [%eval 0.24] [%clk 0:15:00] } 1... e5 ...</td>\n",
       "      <td>2</td>\n",
       "      <td>110</td>\n",
       "      <td>12</td>\n",
       "      <td>11</td>\n",
       "      <td>-227</td>\n",
       "      <td>900</td>\n",
       "      <td>1225</td>\n",
       "      <td>900</td>\n",
       "      <td>996</td>\n",
       "      <td>17.63</td>\n",
       "      <td>42.21</td>\n",
       "    </tr>\n",
       "    <tr>\n",
       "      <td>2</td>\n",
       "      <td>1</td>\n",
       "      <td>1882</td>\n",
       "      <td>1781</td>\n",
       "      <td>6</td>\n",
       "      <td>-5</td>\n",
       "      <td>47</td>\n",
       "      <td>135</td>\n",
       "      <td>0</td>\n",
       "      <td>1. d4 { [%eval 0.25] [%clk 0:15:00] } 1... Nf6...</td>\n",
       "      <td>2</td>\n",
       "      <td>131</td>\n",
       "      <td>11</td>\n",
       "      <td>12</td>\n",
       "      <td>101</td>\n",
       "      <td>900</td>\n",
       "      <td>960</td>\n",
       "      <td>900</td>\n",
       "      <td>144</td>\n",
       "      <td>235.16</td>\n",
       "      <td>289.50</td>\n",
       "    </tr>\n",
       "    <tr>\n",
       "      <td>3</td>\n",
       "      <td>1</td>\n",
       "      <td>1518</td>\n",
       "      <td>1598</td>\n",
       "      <td>10</td>\n",
       "      <td>-9</td>\n",
       "      <td>1</td>\n",
       "      <td>135</td>\n",
       "      <td>0</td>\n",
       "      <td>1. b3 { [%eval 0.11] [%clk 0:15:00] } 1... c5 ...</td>\n",
       "      <td>2</td>\n",
       "      <td>65</td>\n",
       "      <td>4</td>\n",
       "      <td>5</td>\n",
       "      <td>-80</td>\n",
       "      <td>900</td>\n",
       "      <td>162</td>\n",
       "      <td>900</td>\n",
       "      <td>935</td>\n",
       "      <td>144.76</td>\n",
       "      <td>178.62</td>\n",
       "    </tr>\n",
       "    <tr>\n",
       "      <td>4</td>\n",
       "      <td>1</td>\n",
       "      <td>987</td>\n",
       "      <td>1088</td>\n",
       "      <td>32</td>\n",
       "      <td>-9</td>\n",
       "      <td>165</td>\n",
       "      <td>135</td>\n",
       "      <td>1</td>\n",
       "      <td>1. e4 { [%eval 0.24] [%clk 0:15:00] } 1... e5 ...</td>\n",
       "      <td>2</td>\n",
       "      <td>55</td>\n",
       "      <td>7</td>\n",
       "      <td>4</td>\n",
       "      <td>-101</td>\n",
       "      <td>900</td>\n",
       "      <td>761</td>\n",
       "      <td>900</td>\n",
       "      <td>658</td>\n",
       "      <td>-527.59</td>\n",
       "      <td>-474.61</td>\n",
       "    </tr>\n",
       "    <tr>\n",
       "      <td>...</td>\n",
       "      <td>...</td>\n",
       "      <td>...</td>\n",
       "      <td>...</td>\n",
       "      <td>...</td>\n",
       "      <td>...</td>\n",
       "      <td>...</td>\n",
       "      <td>...</td>\n",
       "      <td>...</td>\n",
       "      <td>...</td>\n",
       "      <td>...</td>\n",
       "      <td>...</td>\n",
       "      <td>...</td>\n",
       "      <td>...</td>\n",
       "      <td>...</td>\n",
       "      <td>...</td>\n",
       "      <td>...</td>\n",
       "      <td>...</td>\n",
       "      <td>...</td>\n",
       "      <td>...</td>\n",
       "      <td>...</td>\n",
       "    </tr>\n",
       "    <tr>\n",
       "      <td>6531</td>\n",
       "      <td>0</td>\n",
       "      <td>1710</td>\n",
       "      <td>1638</td>\n",
       "      <td>-9</td>\n",
       "      <td>8</td>\n",
       "      <td>234</td>\n",
       "      <td>104</td>\n",
       "      <td>0</td>\n",
       "      <td>1. d4 { [%eval 0.25] [%clk 0:10:00] } 1... d5 ...</td>\n",
       "      <td>4</td>\n",
       "      <td>74</td>\n",
       "      <td>11</td>\n",
       "      <td>10</td>\n",
       "      <td>72</td>\n",
       "      <td>600</td>\n",
       "      <td>1</td>\n",
       "      <td>600</td>\n",
       "      <td>433</td>\n",
       "      <td>-104.96</td>\n",
       "      <td>-75.19</td>\n",
       "    </tr>\n",
       "    <tr>\n",
       "      <td>6532</td>\n",
       "      <td>0</td>\n",
       "      <td>1189</td>\n",
       "      <td>1159</td>\n",
       "      <td>-9</td>\n",
       "      <td>20</td>\n",
       "      <td>73</td>\n",
       "      <td>104</td>\n",
       "      <td>0</td>\n",
       "      <td>1. e4 { [%eval 0.24] [%clk 0:10:00] } 1... d6 ...</td>\n",
       "      <td>4</td>\n",
       "      <td>38</td>\n",
       "      <td>7</td>\n",
       "      <td>5</td>\n",
       "      <td>30</td>\n",
       "      <td>600</td>\n",
       "      <td>473</td>\n",
       "      <td>600</td>\n",
       "      <td>479</td>\n",
       "      <td>-167.88</td>\n",
       "      <td>-247.52</td>\n",
       "    </tr>\n",
       "    <tr>\n",
       "      <td>6533</td>\n",
       "      <td>0</td>\n",
       "      <td>1651</td>\n",
       "      <td>1660</td>\n",
       "      <td>-6</td>\n",
       "      <td>7</td>\n",
       "      <td>128</td>\n",
       "      <td>104</td>\n",
       "      <td>1</td>\n",
       "      <td>1. e4 { [%eval 0.24] [%clk 0:10:00] } 1... c5 ...</td>\n",
       "      <td>4</td>\n",
       "      <td>54</td>\n",
       "      <td>6</td>\n",
       "      <td>5</td>\n",
       "      <td>-9</td>\n",
       "      <td>600</td>\n",
       "      <td>228</td>\n",
       "      <td>600</td>\n",
       "      <td>241</td>\n",
       "      <td>-13.46</td>\n",
       "      <td>1.72</td>\n",
       "    </tr>\n",
       "    <tr>\n",
       "      <td>6534</td>\n",
       "      <td>1</td>\n",
       "      <td>1901</td>\n",
       "      <td>2090</td>\n",
       "      <td>17</td>\n",
       "      <td>-22</td>\n",
       "      <td>78</td>\n",
       "      <td>104</td>\n",
       "      <td>0</td>\n",
       "      <td>1. e4 { [%eval 0.24] [%clk 0:10:00] } 1... c6 ...</td>\n",
       "      <td>4</td>\n",
       "      <td>21</td>\n",
       "      <td>2</td>\n",
       "      <td>1</td>\n",
       "      <td>-189</td>\n",
       "      <td>600</td>\n",
       "      <td>581</td>\n",
       "      <td>600</td>\n",
       "      <td>554</td>\n",
       "      <td>5.58</td>\n",
       "      <td>6.92</td>\n",
       "    </tr>\n",
       "    <tr>\n",
       "      <td>6535</td>\n",
       "      <td>0</td>\n",
       "      <td>1632</td>\n",
       "      <td>1583</td>\n",
       "      <td>-7</td>\n",
       "      <td>8</td>\n",
       "      <td>141</td>\n",
       "      <td>104</td>\n",
       "      <td>1</td>\n",
       "      <td>1. e4 { [%eval 0.24] [%clk 0:10:00] } 1... c5 ...</td>\n",
       "      <td>4</td>\n",
       "      <td>88</td>\n",
       "      <td>8</td>\n",
       "      <td>9</td>\n",
       "      <td>49</td>\n",
       "      <td>600</td>\n",
       "      <td>0</td>\n",
       "      <td>600</td>\n",
       "      <td>68</td>\n",
       "      <td>-22.47</td>\n",
       "      <td>28.10</td>\n",
       "    </tr>\n",
       "  </tbody>\n",
       "</table>\n",
       "<p>6536 rows × 20 columns</p>\n",
       "</div>"
      ],
      "text/plain": [
       "      Result  WhiteElo  BlackElo  WhiteRatingDiff  BlackRatingDiff  ECO  \\\n",
       "0          1      1796      1784                8               -7   85   \n",
       "1          0      1834      2061               -5               19  208   \n",
       "2          1      1882      1781                6               -5   47   \n",
       "3          1      1518      1598               10               -9    1   \n",
       "4          1       987      1088               32               -9  165   \n",
       "...      ...       ...       ...              ...              ...  ...   \n",
       "6531       0      1710      1638               -9                8  234   \n",
       "6532       0      1189      1159               -9               20   73   \n",
       "6533       0      1651      1660               -6                7  128   \n",
       "6534       1      1901      2090               17              -22   78   \n",
       "6535       0      1632      1583               -7                8  141   \n",
       "\n",
       "      TimeControl  Termination  \\\n",
       "0             135            0   \n",
       "1             135            0   \n",
       "2             135            0   \n",
       "3             135            0   \n",
       "4             135            1   \n",
       "...           ...          ...   \n",
       "6531          104            0   \n",
       "6532          104            0   \n",
       "6533          104            1   \n",
       "6534          104            0   \n",
       "6535          104            1   \n",
       "\n",
       "                                                  Moves  GameType  MovesCount  \\\n",
       "0     1. e4 { [%eval 0.24] [%clk 0:15:00] } 1... c5 ...         2          25   \n",
       "1     1. e4 { [%eval 0.24] [%clk 0:15:00] } 1... e5 ...         2         110   \n",
       "2     1. d4 { [%eval 0.25] [%clk 0:15:00] } 1... Nf6...         2         131   \n",
       "3     1. b3 { [%eval 0.11] [%clk 0:15:00] } 1... c5 ...         2          65   \n",
       "4     1. e4 { [%eval 0.24] [%clk 0:15:00] } 1... e5 ...         2          55   \n",
       "...                                                 ...       ...         ...   \n",
       "6531  1. d4 { [%eval 0.25] [%clk 0:10:00] } 1... d5 ...         4          74   \n",
       "6532  1. e4 { [%eval 0.24] [%clk 0:10:00] } 1... d6 ...         4          38   \n",
       "6533  1. e4 { [%eval 0.24] [%clk 0:10:00] } 1... c5 ...         4          54   \n",
       "6534  1. e4 { [%eval 0.24] [%clk 0:10:00] } 1... c6 ...         4          21   \n",
       "6535  1. e4 { [%eval 0.24] [%clk 0:10:00] } 1... c5 ...         4          88   \n",
       "\n",
       "      WhiteCaptured  BlackCaptured  EloDifference  RemTimeAftFirstMoveWhite  \\\n",
       "0                 1              2             12                       900   \n",
       "1                12             11           -227                       900   \n",
       "2                11             12            101                       900   \n",
       "3                 4              5            -80                       900   \n",
       "4                 7              4           -101                       900   \n",
       "...             ...            ...            ...                       ...   \n",
       "6531             11             10             72                       600   \n",
       "6532              7              5             30                       600   \n",
       "6533              6              5             -9                       600   \n",
       "6534              2              1           -189                       600   \n",
       "6535              8              9             49                       600   \n",
       "\n",
       "      RemTimeAftLastMoveWhite  RemTimeAftFirstMoveBlack  \\\n",
       "0                         890                       900   \n",
       "1                        1225                       900   \n",
       "2                         960                       900   \n",
       "3                         162                       900   \n",
       "4                         761                       900   \n",
       "...                       ...                       ...   \n",
       "6531                        1                       600   \n",
       "6532                      473                       600   \n",
       "6533                      228                       600   \n",
       "6534                      581                       600   \n",
       "6535                        0                       600   \n",
       "\n",
       "      RemTimeAftLastMoveBlack  WhiteTotalEval  BlackTotalEval  \n",
       "0                         892           18.32           20.49  \n",
       "1                         996           17.63           42.21  \n",
       "2                         144          235.16          289.50  \n",
       "3                         935          144.76          178.62  \n",
       "4                         658         -527.59         -474.61  \n",
       "...                       ...             ...             ...  \n",
       "6531                      433         -104.96          -75.19  \n",
       "6532                      479         -167.88         -247.52  \n",
       "6533                      241          -13.46            1.72  \n",
       "6534                      554            5.58            6.92  \n",
       "6535                       68          -22.47           28.10  \n",
       "\n",
       "[6536 rows x 20 columns]"
      ]
     },
     "execution_count": 244,
     "metadata": {},
     "output_type": "execute_result"
    }
   ],
   "source": [
    "normalizedData"
   ]
  },
  {
   "cell_type": "code",
   "execution_count": 250,
   "metadata": {},
   "outputs": [],
   "source": [
    "gametypeData = normalizedData[['Result', 'WhiteElo', 'BlackElo', 'WhiteRatingDiff', 'WhiteRatingDiff',\n",
    "       'ECO', 'TimeControl', 'Termination', 'GameType', 'MovesCount',\n",
    "       'WhiteCaptured', 'WhiteCaptured', 'EloDifference',\n",
    "       'RemTimeAftFirstMoveWhite', 'RemTimeAftLastMoveWhite',\n",
    "       'RemTimeAftFirstMoveWhite', 'RemTimeAftLastMoveWhite', 'WhiteTotalEval',\n",
    "       'WhiteTotalEval']]"
   ]
  },
  {
   "cell_type": "code",
   "execution_count": 251,
   "metadata": {},
   "outputs": [],
   "source": [
    "irTrainingSet, irTestSet = train_test_split(gametypeData, test_size=0.2)"
   ]
  },
  {
   "cell_type": "code",
   "execution_count": 252,
   "metadata": {},
   "outputs": [],
   "source": [
    "XTrain = irTrainingSet.drop('WhiteElo',axis =1)\n",
    "XTrain = XTrain.drop('BlackElo',axis =1)\n",
    "YTrain = irTrainingSet['WhiteElo']\n",
    "XTest = irTestSet.drop('WhiteElo', axis =1)\n",
    "XTest = XTest.drop('BlackElo', axis =1)\n",
    "YTest = irTestSet['WhiteElo']"
   ]
  },
  {
   "cell_type": "code",
   "execution_count": 253,
   "metadata": {},
   "outputs": [
    {
     "data": {
      "text/plain": [
       "LinearRegression(copy_X=True, fit_intercept=True, n_jobs=None, normalize=False)"
      ]
     },
     "execution_count": 253,
     "metadata": {},
     "output_type": "execute_result"
    }
   ],
   "source": [
    "# Linear Regression Model Creation\n",
    "lin_reg = LinearRegression()\n",
    "lin_reg.fit(XTrain, YTrain)"
   ]
  },
  {
   "cell_type": "code",
   "execution_count": 254,
   "metadata": {},
   "outputs": [
    {
     "name": "stdout",
     "output_type": "stream",
     "text": [
      "291.13149968702965\n"
     ]
    }
   ],
   "source": [
    "#predict on test data split\n",
    "y_test_predictions_lin_reg = lin_reg.predict(XTest)\n",
    "# print (len(y_test_predictions_lin_reg))\n",
    "lin_mse = mean_squared_error(YTest, (y_test_predictions_lin_reg))\n",
    "lin_rmse = np.sqrt(lin_mse)\n",
    "print(lin_rmse)"
   ]
  },
  {
   "cell_type": "code",
   "execution_count": 344,
   "metadata": {},
   "outputs": [
    {
     "name": "stdout",
     "output_type": "stream",
     "text": [
      "227.2274193314572\n"
     ]
    }
   ],
   "source": [
    "import lightgbm as lgb\n",
    "d_train = lgb.Dataset(XTrain, label=YTrain)\n",
    "params = {}\n",
    "# params['learning_rate'] = 0.003\n",
    "# params['boosting_type'] = 'gbdt'\n",
    "# params['objective'] = 'binary'\n",
    "# params['metric'] = 'binary_logloss'\n",
    "# params['sub_feature'] = 0.5\n",
    "# params['num_leaves'] = 10\n",
    "# params['min_data'] = 50\n",
    "# params['max_depth'] = 10\n",
    "clf = lgb.train({},d_train)\n",
    "\n",
    "y_test_predictions_lin_reg = clf.predict(XTest)\n",
    "lin_mse = mean_squared_error(YTest, (y_test_predictions_lin_reg))\n",
    "lin_rmse = np.sqrt(lin_mse)\n",
    "print(lin_rmse)\n",
    "\n"
   ]
  },
  {
   "cell_type": "markdown",
   "metadata": {},
   "source": [
    "<h2>FINAL MODEL<h2>"
   ]
  },
  {
   "cell_type": "code",
   "execution_count": 255,
   "metadata": {},
   "outputs": [
    {
     "data": {
      "text/html": [
       "<div>\n",
       "<style scoped>\n",
       "    .dataframe tbody tr th:only-of-type {\n",
       "        vertical-align: middle;\n",
       "    }\n",
       "\n",
       "    .dataframe tbody tr th {\n",
       "        vertical-align: top;\n",
       "    }\n",
       "\n",
       "    .dataframe thead th {\n",
       "        text-align: right;\n",
       "    }\n",
       "</style>\n",
       "<table border=\"1\" class=\"dataframe\">\n",
       "  <thead>\n",
       "    <tr style=\"text-align: right;\">\n",
       "      <th></th>\n",
       "      <th>Result</th>\n",
       "      <th>WhiteElo</th>\n",
       "      <th>BlackElo</th>\n",
       "      <th>WhiteRatingDiff</th>\n",
       "      <th>BlackRatingDiff</th>\n",
       "      <th>ECO</th>\n",
       "      <th>TimeControl</th>\n",
       "      <th>Termination</th>\n",
       "      <th>Moves</th>\n",
       "      <th>GameType</th>\n",
       "      <th>MovesCount</th>\n",
       "      <th>WhiteCaptured</th>\n",
       "      <th>BlackCaptured</th>\n",
       "      <th>EloDifference</th>\n",
       "      <th>RemTimeAftFirstMoveWhite</th>\n",
       "      <th>RemTimeAftLastMoveWhite</th>\n",
       "      <th>RemTimeAftFirstMoveBlack</th>\n",
       "      <th>RemTimeAftLastMoveBlack</th>\n",
       "      <th>WhiteTotalEval</th>\n",
       "      <th>BlackTotalEval</th>\n",
       "    </tr>\n",
       "  </thead>\n",
       "  <tbody>\n",
       "    <tr>\n",
       "      <td>0</td>\n",
       "      <td>0</td>\n",
       "      <td>1435</td>\n",
       "      <td>1524</td>\n",
       "      <td>-5</td>\n",
       "      <td>6</td>\n",
       "      <td>4</td>\n",
       "      <td>27</td>\n",
       "      <td>0</td>\n",
       "      <td>1. Nf3 { [%eval 0.06] [%clk 0:03:00] } 1... Nc...</td>\n",
       "      <td>0</td>\n",
       "      <td>28</td>\n",
       "      <td>5</td>\n",
       "      <td>4</td>\n",
       "      <td>-89</td>\n",
       "      <td>180</td>\n",
       "      <td>152</td>\n",
       "      <td>180</td>\n",
       "      <td>138</td>\n",
       "      <td>-26.55</td>\n",
       "      <td>-19.12</td>\n",
       "    </tr>\n",
       "    <tr>\n",
       "      <td>1</td>\n",
       "      <td>1</td>\n",
       "      <td>1550</td>\n",
       "      <td>1508</td>\n",
       "      <td>7</td>\n",
       "      <td>-16</td>\n",
       "      <td>94</td>\n",
       "      <td>104</td>\n",
       "      <td>0</td>\n",
       "      <td>1. e4 { [%eval 0.24] [%clk 0:10:00] } 1... c5 ...</td>\n",
       "      <td>4</td>\n",
       "      <td>43</td>\n",
       "      <td>3</td>\n",
       "      <td>6</td>\n",
       "      <td>42</td>\n",
       "      <td>600</td>\n",
       "      <td>375</td>\n",
       "      <td>600</td>\n",
       "      <td>432</td>\n",
       "      <td>16.53</td>\n",
       "      <td>27.18</td>\n",
       "    </tr>\n",
       "    <tr>\n",
       "      <td>2</td>\n",
       "      <td>1</td>\n",
       "      <td>2208</td>\n",
       "      <td>2030</td>\n",
       "      <td>4</td>\n",
       "      <td>-4</td>\n",
       "      <td>1</td>\n",
       "      <td>97</td>\n",
       "      <td>0</td>\n",
       "      <td>1. b3 { [%eval 0.11] [%clk 0:01:00] } 1... Nf6...</td>\n",
       "      <td>1</td>\n",
       "      <td>77</td>\n",
       "      <td>7</td>\n",
       "      <td>9</td>\n",
       "      <td>178</td>\n",
       "      <td>60</td>\n",
       "      <td>13</td>\n",
       "      <td>60</td>\n",
       "      <td>12</td>\n",
       "      <td>60.12</td>\n",
       "      <td>61.51</td>\n",
       "    </tr>\n",
       "    <tr>\n",
       "      <td>3</td>\n",
       "      <td>1</td>\n",
       "      <td>1327</td>\n",
       "      <td>1596</td>\n",
       "      <td>12</td>\n",
       "      <td>-12</td>\n",
       "      <td>62</td>\n",
       "      <td>56</td>\n",
       "      <td>0</td>\n",
       "      <td>1. d4 { [%eval 0.25] [%clk 0:05:00] } 1... e6 ...</td>\n",
       "      <td>0</td>\n",
       "      <td>119</td>\n",
       "      <td>11</td>\n",
       "      <td>14</td>\n",
       "      <td>-269</td>\n",
       "      <td>300</td>\n",
       "      <td>20</td>\n",
       "      <td>300</td>\n",
       "      <td>28</td>\n",
       "      <td>168.05</td>\n",
       "      <td>99.52</td>\n",
       "    </tr>\n",
       "    <tr>\n",
       "      <td>4</td>\n",
       "      <td>1</td>\n",
       "      <td>1053</td>\n",
       "      <td>1046</td>\n",
       "      <td>7</td>\n",
       "      <td>-7</td>\n",
       "      <td>4</td>\n",
       "      <td>56</td>\n",
       "      <td>0</td>\n",
       "      <td>1. Nf3 { [%eval 0.06] [%clk 0:05:00] } 1... d6...</td>\n",
       "      <td>0</td>\n",
       "      <td>73</td>\n",
       "      <td>6</td>\n",
       "      <td>14</td>\n",
       "      <td>7</td>\n",
       "      <td>300</td>\n",
       "      <td>4</td>\n",
       "      <td>300</td>\n",
       "      <td>21</td>\n",
       "      <td>296.07</td>\n",
       "      <td>273.41</td>\n",
       "    </tr>\n",
       "    <tr>\n",
       "      <td>...</td>\n",
       "      <td>...</td>\n",
       "      <td>...</td>\n",
       "      <td>...</td>\n",
       "      <td>...</td>\n",
       "      <td>...</td>\n",
       "      <td>...</td>\n",
       "      <td>...</td>\n",
       "      <td>...</td>\n",
       "      <td>...</td>\n",
       "      <td>...</td>\n",
       "      <td>...</td>\n",
       "      <td>...</td>\n",
       "      <td>...</td>\n",
       "      <td>...</td>\n",
       "      <td>...</td>\n",
       "      <td>...</td>\n",
       "      <td>...</td>\n",
       "      <td>...</td>\n",
       "      <td>...</td>\n",
       "      <td>...</td>\n",
       "    </tr>\n",
       "    <tr>\n",
       "      <td>23266</td>\n",
       "      <td>0</td>\n",
       "      <td>926</td>\n",
       "      <td>960</td>\n",
       "      <td>-6</td>\n",
       "      <td>25</td>\n",
       "      <td>0</td>\n",
       "      <td>62</td>\n",
       "      <td>0</td>\n",
       "      <td>1. e3 { [%eval -0.03] [%clk 0:05:00] } 1... d5...</td>\n",
       "      <td>0</td>\n",
       "      <td>40</td>\n",
       "      <td>3</td>\n",
       "      <td>4</td>\n",
       "      <td>-34</td>\n",
       "      <td>300</td>\n",
       "      <td>120</td>\n",
       "      <td>300</td>\n",
       "      <td>109</td>\n",
       "      <td>61.42</td>\n",
       "      <td>103.70</td>\n",
       "    </tr>\n",
       "    <tr>\n",
       "      <td>23267</td>\n",
       "      <td>1</td>\n",
       "      <td>1709</td>\n",
       "      <td>1655</td>\n",
       "      <td>8</td>\n",
       "      <td>-6</td>\n",
       "      <td>94</td>\n",
       "      <td>62</td>\n",
       "      <td>1</td>\n",
       "      <td>1. e4 { [%eval 0.24] [%clk 0:05:00] } 1... c5 ...</td>\n",
       "      <td>0</td>\n",
       "      <td>61</td>\n",
       "      <td>6</td>\n",
       "      <td>7</td>\n",
       "      <td>54</td>\n",
       "      <td>300</td>\n",
       "      <td>54</td>\n",
       "      <td>300</td>\n",
       "      <td>6</td>\n",
       "      <td>93.53</td>\n",
       "      <td>103.59</td>\n",
       "    </tr>\n",
       "    <tr>\n",
       "      <td>23268</td>\n",
       "      <td>0</td>\n",
       "      <td>1551</td>\n",
       "      <td>1625</td>\n",
       "      <td>-6</td>\n",
       "      <td>16</td>\n",
       "      <td>74</td>\n",
       "      <td>56</td>\n",
       "      <td>0</td>\n",
       "      <td>1. d4 { [%eval 0.25] [%clk 0:05:00] } 1... Nf6...</td>\n",
       "      <td>0</td>\n",
       "      <td>50</td>\n",
       "      <td>8</td>\n",
       "      <td>6</td>\n",
       "      <td>-74</td>\n",
       "      <td>300</td>\n",
       "      <td>176</td>\n",
       "      <td>300</td>\n",
       "      <td>106</td>\n",
       "      <td>-117.99</td>\n",
       "      <td>-127.26</td>\n",
       "    </tr>\n",
       "    <tr>\n",
       "      <td>23269</td>\n",
       "      <td>0</td>\n",
       "      <td>1994</td>\n",
       "      <td>2055</td>\n",
       "      <td>-5</td>\n",
       "      <td>9</td>\n",
       "      <td>73</td>\n",
       "      <td>27</td>\n",
       "      <td>1</td>\n",
       "      <td>1. e4 { [%eval 0.24] [%clk 0:01:30] } 1... d6 ...</td>\n",
       "      <td>0</td>\n",
       "      <td>60</td>\n",
       "      <td>7</td>\n",
       "      <td>7</td>\n",
       "      <td>-61</td>\n",
       "      <td>90</td>\n",
       "      <td>2</td>\n",
       "      <td>180</td>\n",
       "      <td>16</td>\n",
       "      <td>31.98</td>\n",
       "      <td>41.65</td>\n",
       "    </tr>\n",
       "    <tr>\n",
       "      <td>23270</td>\n",
       "      <td>1</td>\n",
       "      <td>2265</td>\n",
       "      <td>1903</td>\n",
       "      <td>1</td>\n",
       "      <td>-2</td>\n",
       "      <td>0</td>\n",
       "      <td>27</td>\n",
       "      <td>0</td>\n",
       "      <td>1. d3 { [%eval -0.07] [%clk 0:01:30] } 1... c6...</td>\n",
       "      <td>0</td>\n",
       "      <td>83</td>\n",
       "      <td>11</td>\n",
       "      <td>11</td>\n",
       "      <td>362</td>\n",
       "      <td>90</td>\n",
       "      <td>39</td>\n",
       "      <td>180</td>\n",
       "      <td>66</td>\n",
       "      <td>197.22</td>\n",
       "      <td>274.13</td>\n",
       "    </tr>\n",
       "  </tbody>\n",
       "</table>\n",
       "<p>23271 rows × 20 columns</p>\n",
       "</div>"
      ],
      "text/plain": [
       "       Result  WhiteElo  BlackElo  WhiteRatingDiff  BlackRatingDiff  ECO  \\\n",
       "0           0      1435      1524               -5                6    4   \n",
       "1           1      1550      1508                7              -16   94   \n",
       "2           1      2208      2030                4               -4    1   \n",
       "3           1      1327      1596               12              -12   62   \n",
       "4           1      1053      1046                7               -7    4   \n",
       "...       ...       ...       ...              ...              ...  ...   \n",
       "23266       0       926       960               -6               25    0   \n",
       "23267       1      1709      1655                8               -6   94   \n",
       "23268       0      1551      1625               -6               16   74   \n",
       "23269       0      1994      2055               -5                9   73   \n",
       "23270       1      2265      1903                1               -2    0   \n",
       "\n",
       "       TimeControl  Termination  \\\n",
       "0               27            0   \n",
       "1              104            0   \n",
       "2               97            0   \n",
       "3               56            0   \n",
       "4               56            0   \n",
       "...            ...          ...   \n",
       "23266           62            0   \n",
       "23267           62            1   \n",
       "23268           56            0   \n",
       "23269           27            1   \n",
       "23270           27            0   \n",
       "\n",
       "                                                   Moves  GameType  \\\n",
       "0      1. Nf3 { [%eval 0.06] [%clk 0:03:00] } 1... Nc...         0   \n",
       "1      1. e4 { [%eval 0.24] [%clk 0:10:00] } 1... c5 ...         4   \n",
       "2      1. b3 { [%eval 0.11] [%clk 0:01:00] } 1... Nf6...         1   \n",
       "3      1. d4 { [%eval 0.25] [%clk 0:05:00] } 1... e6 ...         0   \n",
       "4      1. Nf3 { [%eval 0.06] [%clk 0:05:00] } 1... d6...         0   \n",
       "...                                                  ...       ...   \n",
       "23266  1. e3 { [%eval -0.03] [%clk 0:05:00] } 1... d5...         0   \n",
       "23267  1. e4 { [%eval 0.24] [%clk 0:05:00] } 1... c5 ...         0   \n",
       "23268  1. d4 { [%eval 0.25] [%clk 0:05:00] } 1... Nf6...         0   \n",
       "23269  1. e4 { [%eval 0.24] [%clk 0:01:30] } 1... d6 ...         0   \n",
       "23270  1. d3 { [%eval -0.07] [%clk 0:01:30] } 1... c6...         0   \n",
       "\n",
       "       MovesCount  WhiteCaptured  BlackCaptured  EloDifference  \\\n",
       "0              28              5              4            -89   \n",
       "1              43              3              6             42   \n",
       "2              77              7              9            178   \n",
       "3             119             11             14           -269   \n",
       "4              73              6             14              7   \n",
       "...           ...            ...            ...            ...   \n",
       "23266          40              3              4            -34   \n",
       "23267          61              6              7             54   \n",
       "23268          50              8              6            -74   \n",
       "23269          60              7              7            -61   \n",
       "23270          83             11             11            362   \n",
       "\n",
       "       RemTimeAftFirstMoveWhite  RemTimeAftLastMoveWhite  \\\n",
       "0                           180                      152   \n",
       "1                           600                      375   \n",
       "2                            60                       13   \n",
       "3                           300                       20   \n",
       "4                           300                        4   \n",
       "...                         ...                      ...   \n",
       "23266                       300                      120   \n",
       "23267                       300                       54   \n",
       "23268                       300                      176   \n",
       "23269                        90                        2   \n",
       "23270                        90                       39   \n",
       "\n",
       "       RemTimeAftFirstMoveBlack  RemTimeAftLastMoveBlack  WhiteTotalEval  \\\n",
       "0                           180                      138          -26.55   \n",
       "1                           600                      432           16.53   \n",
       "2                            60                       12           60.12   \n",
       "3                           300                       28          168.05   \n",
       "4                           300                       21          296.07   \n",
       "...                         ...                      ...             ...   \n",
       "23266                       300                      109           61.42   \n",
       "23267                       300                        6           93.53   \n",
       "23268                       300                      106         -117.99   \n",
       "23269                       180                       16           31.98   \n",
       "23270                       180                       66          197.22   \n",
       "\n",
       "       BlackTotalEval  \n",
       "0              -19.12  \n",
       "1               27.18  \n",
       "2               61.51  \n",
       "3               99.52  \n",
       "4              273.41  \n",
       "...               ...  \n",
       "23266          103.70  \n",
       "23267          103.59  \n",
       "23268         -127.26  \n",
       "23269           41.65  \n",
       "23270          274.13  \n",
       "\n",
       "[23271 rows x 20 columns]"
      ]
     },
     "execution_count": 255,
     "metadata": {},
     "output_type": "execute_result"
    }
   ],
   "source": [
    "irData"
   ]
  },
  {
   "cell_type": "code",
   "execution_count": 256,
   "metadata": {},
   "outputs": [],
   "source": [
    "irData['GoodMoveWhite'] = 0\n",
    "irData['MistakeWhite'] = 0\n",
    "irData['BrilliantMoveWhite'] = 0\n",
    "irData['BlunderWhite'] = 0\n",
    "irData['InterestingMoveWhite'] = 0\n",
    "irData['DubiousMoveWhite'] = 0\n",
    "irData['GoodMoveBlack'] = 0\n",
    "irData['MistakeBlack'] = 0\n",
    "irData['BrilliantMoveBlack'] = 0\n",
    "irData['BlunderBlack'] = 0\n",
    "irData['InterestingMoveBlack'] = 0\n",
    "irData['DubiousMoveBlack'] = 0\n",
    "\n",
    "irData['RookMovesWhite'] = 0\n",
    "irData['KnightMovesWhite'] = 0\n",
    "irData['BishopMovesWhite'] = 0\n",
    "irData['KingMovesWhite'] = 0\n",
    "irData['QueenMovesWhite'] = 0\n",
    "irData['PawnMovesWhite'] = 0\n",
    "irData['KingCastlingWhite'] = False\n",
    "irData['QueenCastlingWhite'] = False\n",
    "\n",
    "irData['RookMovesBlack'] = 0\n",
    "irData['KnightMovesBlack'] = 0\n",
    "irData['BishopMovesBlack'] = 0\n",
    "irData['KingMovesBlack'] = 0\n",
    "irData['QueenMovesBlack'] = 0\n",
    "irData['PawnMovesBlack'] = 0\n",
    "irData['KingCastlingBlack'] = False\n",
    "irData['QueenCastlingBlack'] = False\n",
    "\n",
    "irData['ChecksByWhite'] = 0\n",
    "irData['ChecksByBlack'] = 0\n",
    "irData['CheckmateDone'] = False\n",
    "irData['PawnPromotionWhite'] = 0\n",
    "irData['PawnPromotionBlack'] = 0\n"
   ]
  },
  {
   "cell_type": "code",
   "execution_count": 257,
   "metadata": {},
   "outputs": [
    {
     "name": "stdout",
     "output_type": "stream",
     "text": [
      "0\n"
     ]
    },
    {
     "name": "stderr",
     "output_type": "stream",
     "text": [
      "C:\\Users\\ujwal\\Anaconda3\\lib\\site-packages\\ipykernel_launcher.py:14: SettingWithCopyWarning: \n",
      "A value is trying to be set on a copy of a slice from a DataFrame\n",
      "\n",
      "See the caveats in the documentation: http://pandas.pydata.org/pandas-docs/stable/user_guide/indexing.html#returning-a-view-versus-a-copy\n",
      "  \n",
      "C:\\Users\\ujwal\\Anaconda3\\lib\\site-packages\\ipykernel_launcher.py:52: SettingWithCopyWarning: \n",
      "A value is trying to be set on a copy of a slice from a DataFrame\n",
      "\n",
      "See the caveats in the documentation: http://pandas.pydata.org/pandas-docs/stable/user_guide/indexing.html#returning-a-view-versus-a-copy\n",
      "C:\\Users\\ujwal\\Anaconda3\\lib\\site-packages\\ipykernel_launcher.py:26: SettingWithCopyWarning: \n",
      "A value is trying to be set on a copy of a slice from a DataFrame\n",
      "\n",
      "See the caveats in the documentation: http://pandas.pydata.org/pandas-docs/stable/user_guide/indexing.html#returning-a-view-versus-a-copy\n",
      "C:\\Users\\ujwal\\Anaconda3\\lib\\site-packages\\ipykernel_launcher.py:46: SettingWithCopyWarning: \n",
      "A value is trying to be set on a copy of a slice from a DataFrame\n",
      "\n",
      "See the caveats in the documentation: http://pandas.pydata.org/pandas-docs/stable/user_guide/indexing.html#returning-a-view-versus-a-copy\n",
      "C:\\Users\\ujwal\\Anaconda3\\lib\\site-packages\\ipykernel_launcher.py:64: SettingWithCopyWarning: \n",
      "A value is trying to be set on a copy of a slice from a DataFrame\n",
      "\n",
      "See the caveats in the documentation: http://pandas.pydata.org/pandas-docs/stable/user_guide/indexing.html#returning-a-view-versus-a-copy\n",
      "C:\\Users\\ujwal\\Anaconda3\\lib\\site-packages\\ipykernel_launcher.py:16: SettingWithCopyWarning: \n",
      "A value is trying to be set on a copy of a slice from a DataFrame\n",
      "\n",
      "See the caveats in the documentation: http://pandas.pydata.org/pandas-docs/stable/user_guide/indexing.html#returning-a-view-versus-a-copy\n",
      "  app.launch_new_instance()\n",
      "C:\\Users\\ujwal\\Anaconda3\\lib\\site-packages\\ipykernel_launcher.py:84: SettingWithCopyWarning: \n",
      "A value is trying to be set on a copy of a slice from a DataFrame\n",
      "\n",
      "See the caveats in the documentation: http://pandas.pydata.org/pandas-docs/stable/user_guide/indexing.html#returning-a-view-versus-a-copy\n",
      "C:\\Users\\ujwal\\Anaconda3\\lib\\site-packages\\ipykernel_launcher.py:22: SettingWithCopyWarning: \n",
      "A value is trying to be set on a copy of a slice from a DataFrame\n",
      "\n",
      "See the caveats in the documentation: http://pandas.pydata.org/pandas-docs/stable/user_guide/indexing.html#returning-a-view-versus-a-copy\n",
      "C:\\Users\\ujwal\\Anaconda3\\lib\\site-packages\\ipykernel_launcher.py:54: SettingWithCopyWarning: \n",
      "A value is trying to be set on a copy of a slice from a DataFrame\n",
      "\n",
      "See the caveats in the documentation: http://pandas.pydata.org/pandas-docs/stable/user_guide/indexing.html#returning-a-view-versus-a-copy\n",
      "C:\\Users\\ujwal\\Anaconda3\\lib\\site-packages\\ipykernel_launcher.py:60: SettingWithCopyWarning: \n",
      "A value is trying to be set on a copy of a slice from a DataFrame\n",
      "\n",
      "See the caveats in the documentation: http://pandas.pydata.org/pandas-docs/stable/user_guide/indexing.html#returning-a-view-versus-a-copy\n",
      "C:\\Users\\ujwal\\Anaconda3\\lib\\site-packages\\ipykernel_launcher.py:42: SettingWithCopyWarning: \n",
      "A value is trying to be set on a copy of a slice from a DataFrame\n",
      "\n",
      "See the caveats in the documentation: http://pandas.pydata.org/pandas-docs/stable/user_guide/indexing.html#returning-a-view-versus-a-copy\n",
      "C:\\Users\\ujwal\\Anaconda3\\lib\\site-packages\\ipykernel_launcher.py:58: SettingWithCopyWarning: \n",
      "A value is trying to be set on a copy of a slice from a DataFrame\n",
      "\n",
      "See the caveats in the documentation: http://pandas.pydata.org/pandas-docs/stable/user_guide/indexing.html#returning-a-view-versus-a-copy\n",
      "C:\\Users\\ujwal\\Anaconda3\\lib\\site-packages\\ipykernel_launcher.py:76: SettingWithCopyWarning: \n",
      "A value is trying to be set on a copy of a slice from a DataFrame\n",
      "\n",
      "See the caveats in the documentation: http://pandas.pydata.org/pandas-docs/stable/user_guide/indexing.html#returning-a-view-versus-a-copy\n",
      "C:\\Users\\ujwal\\Anaconda3\\lib\\site-packages\\ipykernel_launcher.py:12: SettingWithCopyWarning: \n",
      "A value is trying to be set on a copy of a slice from a DataFrame\n",
      "\n",
      "See the caveats in the documentation: http://pandas.pydata.org/pandas-docs/stable/user_guide/indexing.html#returning-a-view-versus-a-copy\n",
      "  if sys.path[0] == '':\n",
      "C:\\Users\\ujwal\\Anaconda3\\lib\\site-packages\\ipykernel_launcher.py:50: SettingWithCopyWarning: \n",
      "A value is trying to be set on a copy of a slice from a DataFrame\n",
      "\n",
      "See the caveats in the documentation: http://pandas.pydata.org/pandas-docs/stable/user_guide/indexing.html#returning-a-view-versus-a-copy\n",
      "C:\\Users\\ujwal\\Anaconda3\\lib\\site-packages\\ipykernel_launcher.py:20: SettingWithCopyWarning: \n",
      "A value is trying to be set on a copy of a slice from a DataFrame\n",
      "\n",
      "See the caveats in the documentation: http://pandas.pydata.org/pandas-docs/stable/user_guide/indexing.html#returning-a-view-versus-a-copy\n",
      "C:\\Users\\ujwal\\Anaconda3\\lib\\site-packages\\ipykernel_launcher.py:38: SettingWithCopyWarning: \n",
      "A value is trying to be set on a copy of a slice from a DataFrame\n",
      "\n",
      "See the caveats in the documentation: http://pandas.pydata.org/pandas-docs/stable/user_guide/indexing.html#returning-a-view-versus-a-copy\n",
      "C:\\Users\\ujwal\\Anaconda3\\lib\\site-packages\\ipykernel_launcher.py:80: SettingWithCopyWarning: \n",
      "A value is trying to be set on a copy of a slice from a DataFrame\n",
      "\n",
      "See the caveats in the documentation: http://pandas.pydata.org/pandas-docs/stable/user_guide/indexing.html#returning-a-view-versus-a-copy\n",
      "C:\\Users\\ujwal\\Anaconda3\\lib\\site-packages\\ipykernel_launcher.py:56: SettingWithCopyWarning: \n",
      "A value is trying to be set on a copy of a slice from a DataFrame\n",
      "\n",
      "See the caveats in the documentation: http://pandas.pydata.org/pandas-docs/stable/user_guide/indexing.html#returning-a-view-versus-a-copy\n",
      "C:\\Users\\ujwal\\Anaconda3\\lib\\site-packages\\ipykernel_launcher.py:87: SettingWithCopyWarning: \n",
      "A value is trying to be set on a copy of a slice from a DataFrame\n",
      "\n",
      "See the caveats in the documentation: http://pandas.pydata.org/pandas-docs/stable/user_guide/indexing.html#returning-a-view-versus-a-copy\n",
      "C:\\Users\\ujwal\\Anaconda3\\lib\\site-packages\\ipykernel_launcher.py:67: SettingWithCopyWarning: \n",
      "A value is trying to be set on a copy of a slice from a DataFrame\n",
      "\n",
      "See the caveats in the documentation: http://pandas.pydata.org/pandas-docs/stable/user_guide/indexing.html#returning-a-view-versus-a-copy\n",
      "C:\\Users\\ujwal\\Anaconda3\\lib\\site-packages\\ipykernel_launcher.py:18: SettingWithCopyWarning: \n",
      "A value is trying to be set on a copy of a slice from a DataFrame\n",
      "\n",
      "See the caveats in the documentation: http://pandas.pydata.org/pandas-docs/stable/user_guide/indexing.html#returning-a-view-versus-a-copy\n",
      "C:\\Users\\ujwal\\Anaconda3\\lib\\site-packages\\ipykernel_launcher.py:29: SettingWithCopyWarning: \n",
      "A value is trying to be set on a copy of a slice from a DataFrame\n",
      "\n",
      "See the caveats in the documentation: http://pandas.pydata.org/pandas-docs/stable/user_guide/indexing.html#returning-a-view-versus-a-copy\n",
      "C:\\Users\\ujwal\\Anaconda3\\lib\\site-packages\\ipykernel_launcher.py:32: SettingWithCopyWarning: \n",
      "A value is trying to be set on a copy of a slice from a DataFrame\n",
      "\n",
      "See the caveats in the documentation: http://pandas.pydata.org/pandas-docs/stable/user_guide/indexing.html#returning-a-view-versus-a-copy\n",
      "C:\\Users\\ujwal\\Anaconda3\\lib\\site-packages\\ipykernel_launcher.py:24: SettingWithCopyWarning: \n",
      "A value is trying to be set on a copy of a slice from a DataFrame\n",
      "\n",
      "See the caveats in the documentation: http://pandas.pydata.org/pandas-docs/stable/user_guide/indexing.html#returning-a-view-versus-a-copy\n",
      "C:\\Users\\ujwal\\Anaconda3\\lib\\site-packages\\ipykernel_launcher.py:62: SettingWithCopyWarning: \n",
      "A value is trying to be set on a copy of a slice from a DataFrame\n",
      "\n",
      "See the caveats in the documentation: http://pandas.pydata.org/pandas-docs/stable/user_guide/indexing.html#returning-a-view-versus-a-copy\n",
      "C:\\Users\\ujwal\\Anaconda3\\lib\\site-packages\\ipykernel_launcher.py:70: SettingWithCopyWarning: \n",
      "A value is trying to be set on a copy of a slice from a DataFrame\n",
      "\n",
      "See the caveats in the documentation: http://pandas.pydata.org/pandas-docs/stable/user_guide/indexing.html#returning-a-view-versus-a-copy\n"
     ]
    },
    {
     "name": "stdout",
     "output_type": "stream",
     "text": [
      "1000\n",
      "2000\n",
      "3000\n",
      "4000\n",
      "5000\n",
      "6000\n",
      "7000\n",
      "8000\n",
      "9000\n",
      "10000\n",
      "11000\n",
      "12000\n",
      "13000\n",
      "14000\n",
      "15000\n",
      "16000\n",
      "17000\n",
      "18000\n",
      "19000\n",
      "20000\n",
      "21000\n",
      "22000\n",
      "23000\n"
     ]
    }
   ],
   "source": [
    "for i in range(0,irData.shape[0]):\n",
    "    if i%1000 == 0:\n",
    "        print(i)\n",
    "    if irData['Termination'][i]!='Abandoned' and irData['Moves'][i] is not None:\n",
    "        if \"$\" in irData['Moves'][i]:\n",
    "            splitres = irData['Moves'][i].split(' } ')\n",
    "            \n",
    "            for j in range(0, len(splitres)):\n",
    "                move = splitres[j].split(' ')\n",
    "                if j%2 == 0:\n",
    "                    if move[1].startswith('R'):\n",
    "                        irData['RookMovesWhite'][i] = irData['RookMovesWhite'][i] +1\n",
    "                    elif move[1].startswith('N'):\n",
    "                        irData['KnightMovesWhite'][i] = irData['KnightMovesWhite'][i] +1\n",
    "                    elif move[1].startswith('B'):\n",
    "                        irData['BishopMovesWhite'][i] = irData['BishopMovesWhite'][i] +1\n",
    "                    elif move[1].startswith('K'):\n",
    "                        irData['KingMovesWhite'][i] = irData['KingMovesWhite'][i] +1\n",
    "                    elif move[1].startswith('Q'):\n",
    "                        irData['QueenMovesWhite'][i] = irData['QueenMovesWhite'][i] +1\n",
    "                    elif move[1]== 'O-O':\n",
    "                        irData['KingCastlingWhite'][i] = True\n",
    "                    elif move[1]== 'O-O-O':\n",
    "                        irData['QueenCastlingWhite'][i] = True\n",
    "                    else:\n",
    "                        irData['PawnMovesWhite'][i] = irData['PawnMovesWhite'][i] +1\n",
    "                        \n",
    "                    if move[1].endswith('+'):\n",
    "                        irData['ChecksByWhite'][i] = irData['ChecksByWhite'][i] +1\n",
    "                        \n",
    "                    if '=' in move[1]:\n",
    "                        irData['PawnPromotionWhite'][i] = irData['PawnPromotionWhite'][i] +1\n",
    "                        \n",
    "                    if '$' in splitres[j]:\n",
    "                        if move[2] == '$1':\n",
    "                            irData['GoodMoveWhite'][i] = irData['GoodMoveWhite'][i] +1\n",
    "                        elif move[2] == '$2':\n",
    "                            irData['MistakeWhite'][i] = irData['MistakeWhite'][i] +1\n",
    "                        elif move[2] == '$3':\n",
    "                            irData['BrilliantMoveWhite'][i] = irData['BrilliantMoveWhite'][i]+1\n",
    "                        elif move[2] == '$4':\n",
    "                            irData['BlunderWhite'][i] = irData['BlunderWhite'][i] + 1\n",
    "                        elif move[2] == '$5':\n",
    "                            irData['InterestingMoveWhite'][i] = irData['InterestingMoveWhite'][i] +1\n",
    "                        elif move[2] == '$6':\n",
    "                            irData['DubiousMoveWhite'][i] = irData['DubiousMoveWhite'][i] +1\n",
    "                            \n",
    "                else:\n",
    "                    if move[1].startswith('R'):\n",
    "                        irData['RookMovesBlack'][i] = irData['RookMovesBlack'][i] +1\n",
    "                    elif move[1].startswith('N'):\n",
    "                        irData['KnightMovesBlack'][i] = irData['KnightMovesBlack'][i] +1\n",
    "                    elif move[1].startswith('B'):\n",
    "                        irData['BishopMovesBlack'][i] = irData['BishopMovesBlack'][i] +1\n",
    "                    elif move[1].startswith('K'):\n",
    "                        irData['KingMovesBlack'][i] = irData['KingMovesBlack'][i] +1\n",
    "                    elif move[1].startswith('Q'):\n",
    "                        irData['QueenMovesBlack'][i] = irData['QueenMovesBlack'][i] +1\n",
    "                    elif move[1]== 'O-O':\n",
    "                        irData['KingCastlingBlack'][i] = True\n",
    "                    elif move[1]== 'O-O-O':\n",
    "                        irData['QueenCastlingBlack'][i] = True\n",
    "                    else:\n",
    "                        irData['PawnMovesBlack'][i] = irData['PawnMovesBlack'][i] +1\n",
    "                    \n",
    "                    if move[1].endswith('+'):\n",
    "                        irData['ChecksByBlack'][i] = irData['ChecksByBlack'][i] +1\n",
    "                        \n",
    "                    if '=' in move[1]:\n",
    "                        irData['PawnPromotionBlack'][i] = irData['PawnPromotionBlack'][i] +1\n",
    "                        \n",
    "                    if '$' in splitres[j]:\n",
    "                        if move[2] == '$1':\n",
    "                            irData['GoodMoveBlack'][i][i] = irData['GoodMoveBlack'][i] +1\n",
    "                        elif move[2] == '$2':\n",
    "                            irData['MistakeBlack'][i] = irData['MistakeBlack'][i] +1\n",
    "                        elif move[2] == '$3':\n",
    "                            irData['BrilliantMoveBlack'][i] = irData['BrilliantMoveBlack'][i] +1\n",
    "                        elif move[2] == '$4':\n",
    "                            irData['BlunderBlack'][i] = irData['BlunderBlack'][i] + 1\n",
    "                        elif move[2] == '$5':\n",
    "                            irData['InterestingMoveBlack'][i] = irData['InterestingMoveBlack'][i] +1\n",
    "                        elif move[2] == '$6':\n",
    "                            irData['DubiousMoveBlack'][i] = irData['DubiousMoveBlack'][i] +1\n",
    "            \n",
    "            if splitres[len(splitres)-1].split(' ')[1].endswith('#'):\n",
    "                irData['CheckmateDone'][i] = True\n",
    "            \n"
   ]
  },
  {
   "cell_type": "code",
   "execution_count": 258,
   "metadata": {},
   "outputs": [
    {
     "data": {
      "text/html": [
       "<div>\n",
       "<style scoped>\n",
       "    .dataframe tbody tr th:only-of-type {\n",
       "        vertical-align: middle;\n",
       "    }\n",
       "\n",
       "    .dataframe tbody tr th {\n",
       "        vertical-align: top;\n",
       "    }\n",
       "\n",
       "    .dataframe thead th {\n",
       "        text-align: right;\n",
       "    }\n",
       "</style>\n",
       "<table border=\"1\" class=\"dataframe\">\n",
       "  <thead>\n",
       "    <tr style=\"text-align: right;\">\n",
       "      <th></th>\n",
       "      <th>Result</th>\n",
       "      <th>WhiteElo</th>\n",
       "      <th>BlackElo</th>\n",
       "      <th>WhiteRatingDiff</th>\n",
       "      <th>BlackRatingDiff</th>\n",
       "      <th>ECO</th>\n",
       "      <th>TimeControl</th>\n",
       "      <th>Termination</th>\n",
       "      <th>Moves</th>\n",
       "      <th>GameType</th>\n",
       "      <th>...</th>\n",
       "      <th>KingMovesBlack</th>\n",
       "      <th>QueenMovesBlack</th>\n",
       "      <th>PawnMovesBlack</th>\n",
       "      <th>KingCastlingBlack</th>\n",
       "      <th>QueenCastlingBlack</th>\n",
       "      <th>ChecksByWhite</th>\n",
       "      <th>ChecksByBlack</th>\n",
       "      <th>CheckmateDone</th>\n",
       "      <th>PawnPromotionWhite</th>\n",
       "      <th>PawnPromotionBlack</th>\n",
       "    </tr>\n",
       "  </thead>\n",
       "  <tbody>\n",
       "    <tr>\n",
       "      <td>0</td>\n",
       "      <td>0</td>\n",
       "      <td>1435</td>\n",
       "      <td>1524</td>\n",
       "      <td>-5</td>\n",
       "      <td>6</td>\n",
       "      <td>4</td>\n",
       "      <td>27</td>\n",
       "      <td>0</td>\n",
       "      <td>1. Nf3 { [%eval 0.06] [%clk 0:03:00] } 1... Nc...</td>\n",
       "      <td>0</td>\n",
       "      <td>...</td>\n",
       "      <td>0</td>\n",
       "      <td>1</td>\n",
       "      <td>5</td>\n",
       "      <td>True</td>\n",
       "      <td>False</td>\n",
       "      <td>0</td>\n",
       "      <td>0</td>\n",
       "      <td>False</td>\n",
       "      <td>0</td>\n",
       "      <td>0</td>\n",
       "    </tr>\n",
       "    <tr>\n",
       "      <td>1</td>\n",
       "      <td>1</td>\n",
       "      <td>1550</td>\n",
       "      <td>1508</td>\n",
       "      <td>7</td>\n",
       "      <td>-16</td>\n",
       "      <td>94</td>\n",
       "      <td>104</td>\n",
       "      <td>0</td>\n",
       "      <td>1. e4 { [%eval 0.24] [%clk 0:10:00] } 1... c5 ...</td>\n",
       "      <td>4</td>\n",
       "      <td>...</td>\n",
       "      <td>1</td>\n",
       "      <td>0</td>\n",
       "      <td>8</td>\n",
       "      <td>True</td>\n",
       "      <td>False</td>\n",
       "      <td>0</td>\n",
       "      <td>0</td>\n",
       "      <td>True</td>\n",
       "      <td>0</td>\n",
       "      <td>0</td>\n",
       "    </tr>\n",
       "    <tr>\n",
       "      <td>2</td>\n",
       "      <td>1</td>\n",
       "      <td>2208</td>\n",
       "      <td>2030</td>\n",
       "      <td>4</td>\n",
       "      <td>-4</td>\n",
       "      <td>1</td>\n",
       "      <td>97</td>\n",
       "      <td>0</td>\n",
       "      <td>1. b3 { [%eval 0.11] [%clk 0:01:00] } 1... Nf6...</td>\n",
       "      <td>1</td>\n",
       "      <td>...</td>\n",
       "      <td>4</td>\n",
       "      <td>5</td>\n",
       "      <td>9</td>\n",
       "      <td>True</td>\n",
       "      <td>False</td>\n",
       "      <td>6</td>\n",
       "      <td>1</td>\n",
       "      <td>True</td>\n",
       "      <td>0</td>\n",
       "      <td>0</td>\n",
       "    </tr>\n",
       "    <tr>\n",
       "      <td>3</td>\n",
       "      <td>1</td>\n",
       "      <td>1327</td>\n",
       "      <td>1596</td>\n",
       "      <td>12</td>\n",
       "      <td>-12</td>\n",
       "      <td>62</td>\n",
       "      <td>56</td>\n",
       "      <td>0</td>\n",
       "      <td>1. d4 { [%eval 0.25] [%clk 0:05:00] } 1... e6 ...</td>\n",
       "      <td>0</td>\n",
       "      <td>...</td>\n",
       "      <td>16</td>\n",
       "      <td>4</td>\n",
       "      <td>13</td>\n",
       "      <td>True</td>\n",
       "      <td>False</td>\n",
       "      <td>7</td>\n",
       "      <td>1</td>\n",
       "      <td>True</td>\n",
       "      <td>1</td>\n",
       "      <td>0</td>\n",
       "    </tr>\n",
       "    <tr>\n",
       "      <td>4</td>\n",
       "      <td>1</td>\n",
       "      <td>1053</td>\n",
       "      <td>1046</td>\n",
       "      <td>7</td>\n",
       "      <td>-7</td>\n",
       "      <td>4</td>\n",
       "      <td>56</td>\n",
       "      <td>0</td>\n",
       "      <td>1. Nf3 { [%eval 0.06] [%clk 0:05:00] } 1... d6...</td>\n",
       "      <td>0</td>\n",
       "      <td>...</td>\n",
       "      <td>8</td>\n",
       "      <td>3</td>\n",
       "      <td>10</td>\n",
       "      <td>True</td>\n",
       "      <td>False</td>\n",
       "      <td>4</td>\n",
       "      <td>1</td>\n",
       "      <td>True</td>\n",
       "      <td>0</td>\n",
       "      <td>0</td>\n",
       "    </tr>\n",
       "    <tr>\n",
       "      <td>...</td>\n",
       "      <td>...</td>\n",
       "      <td>...</td>\n",
       "      <td>...</td>\n",
       "      <td>...</td>\n",
       "      <td>...</td>\n",
       "      <td>...</td>\n",
       "      <td>...</td>\n",
       "      <td>...</td>\n",
       "      <td>...</td>\n",
       "      <td>...</td>\n",
       "      <td>...</td>\n",
       "      <td>...</td>\n",
       "      <td>...</td>\n",
       "      <td>...</td>\n",
       "      <td>...</td>\n",
       "      <td>...</td>\n",
       "      <td>...</td>\n",
       "      <td>...</td>\n",
       "      <td>...</td>\n",
       "      <td>...</td>\n",
       "      <td>...</td>\n",
       "    </tr>\n",
       "    <tr>\n",
       "      <td>23266</td>\n",
       "      <td>0</td>\n",
       "      <td>926</td>\n",
       "      <td>960</td>\n",
       "      <td>-6</td>\n",
       "      <td>25</td>\n",
       "      <td>0</td>\n",
       "      <td>62</td>\n",
       "      <td>0</td>\n",
       "      <td>1. e3 { [%eval -0.03] [%clk 0:05:00] } 1... d5...</td>\n",
       "      <td>0</td>\n",
       "      <td>...</td>\n",
       "      <td>1</td>\n",
       "      <td>4</td>\n",
       "      <td>7</td>\n",
       "      <td>True</td>\n",
       "      <td>False</td>\n",
       "      <td>2</td>\n",
       "      <td>0</td>\n",
       "      <td>True</td>\n",
       "      <td>0</td>\n",
       "      <td>0</td>\n",
       "    </tr>\n",
       "    <tr>\n",
       "      <td>23267</td>\n",
       "      <td>1</td>\n",
       "      <td>1709</td>\n",
       "      <td>1655</td>\n",
       "      <td>8</td>\n",
       "      <td>-6</td>\n",
       "      <td>94</td>\n",
       "      <td>62</td>\n",
       "      <td>1</td>\n",
       "      <td>1. e4 { [%eval 0.24] [%clk 0:05:00] } 1... c5 ...</td>\n",
       "      <td>0</td>\n",
       "      <td>...</td>\n",
       "      <td>0</td>\n",
       "      <td>11</td>\n",
       "      <td>7</td>\n",
       "      <td>True</td>\n",
       "      <td>False</td>\n",
       "      <td>0</td>\n",
       "      <td>1</td>\n",
       "      <td>False</td>\n",
       "      <td>0</td>\n",
       "      <td>0</td>\n",
       "    </tr>\n",
       "    <tr>\n",
       "      <td>23268</td>\n",
       "      <td>0</td>\n",
       "      <td>1551</td>\n",
       "      <td>1625</td>\n",
       "      <td>-6</td>\n",
       "      <td>16</td>\n",
       "      <td>74</td>\n",
       "      <td>56</td>\n",
       "      <td>0</td>\n",
       "      <td>1. d4 { [%eval 0.25] [%clk 0:05:00] } 1... Nf6...</td>\n",
       "      <td>0</td>\n",
       "      <td>...</td>\n",
       "      <td>0</td>\n",
       "      <td>4</td>\n",
       "      <td>6</td>\n",
       "      <td>True</td>\n",
       "      <td>False</td>\n",
       "      <td>0</td>\n",
       "      <td>0</td>\n",
       "      <td>False</td>\n",
       "      <td>0</td>\n",
       "      <td>0</td>\n",
       "    </tr>\n",
       "    <tr>\n",
       "      <td>23269</td>\n",
       "      <td>0</td>\n",
       "      <td>1994</td>\n",
       "      <td>2055</td>\n",
       "      <td>-5</td>\n",
       "      <td>9</td>\n",
       "      <td>73</td>\n",
       "      <td>27</td>\n",
       "      <td>1</td>\n",
       "      <td>1. e4 { [%eval 0.24] [%clk 0:01:30] } 1... d6 ...</td>\n",
       "      <td>0</td>\n",
       "      <td>...</td>\n",
       "      <td>3</td>\n",
       "      <td>4</td>\n",
       "      <td>7</td>\n",
       "      <td>True</td>\n",
       "      <td>False</td>\n",
       "      <td>4</td>\n",
       "      <td>1</td>\n",
       "      <td>False</td>\n",
       "      <td>0</td>\n",
       "      <td>0</td>\n",
       "    </tr>\n",
       "    <tr>\n",
       "      <td>23270</td>\n",
       "      <td>1</td>\n",
       "      <td>2265</td>\n",
       "      <td>1903</td>\n",
       "      <td>1</td>\n",
       "      <td>-2</td>\n",
       "      <td>0</td>\n",
       "      <td>27</td>\n",
       "      <td>0</td>\n",
       "      <td>1. d3 { [%eval -0.07] [%clk 0:01:30] } 1... c6...</td>\n",
       "      <td>0</td>\n",
       "      <td>...</td>\n",
       "      <td>2</td>\n",
       "      <td>4</td>\n",
       "      <td>11</td>\n",
       "      <td>True</td>\n",
       "      <td>False</td>\n",
       "      <td>3</td>\n",
       "      <td>2</td>\n",
       "      <td>False</td>\n",
       "      <td>0</td>\n",
       "      <td>0</td>\n",
       "    </tr>\n",
       "  </tbody>\n",
       "</table>\n",
       "<p>23271 rows × 53 columns</p>\n",
       "</div>"
      ],
      "text/plain": [
       "       Result  WhiteElo  BlackElo  WhiteRatingDiff  BlackRatingDiff  ECO  \\\n",
       "0           0      1435      1524               -5                6    4   \n",
       "1           1      1550      1508                7              -16   94   \n",
       "2           1      2208      2030                4               -4    1   \n",
       "3           1      1327      1596               12              -12   62   \n",
       "4           1      1053      1046                7               -7    4   \n",
       "...       ...       ...       ...              ...              ...  ...   \n",
       "23266       0       926       960               -6               25    0   \n",
       "23267       1      1709      1655                8               -6   94   \n",
       "23268       0      1551      1625               -6               16   74   \n",
       "23269       0      1994      2055               -5                9   73   \n",
       "23270       1      2265      1903                1               -2    0   \n",
       "\n",
       "       TimeControl  Termination  \\\n",
       "0               27            0   \n",
       "1              104            0   \n",
       "2               97            0   \n",
       "3               56            0   \n",
       "4               56            0   \n",
       "...            ...          ...   \n",
       "23266           62            0   \n",
       "23267           62            1   \n",
       "23268           56            0   \n",
       "23269           27            1   \n",
       "23270           27            0   \n",
       "\n",
       "                                                   Moves  GameType  ...  \\\n",
       "0      1. Nf3 { [%eval 0.06] [%clk 0:03:00] } 1... Nc...         0  ...   \n",
       "1      1. e4 { [%eval 0.24] [%clk 0:10:00] } 1... c5 ...         4  ...   \n",
       "2      1. b3 { [%eval 0.11] [%clk 0:01:00] } 1... Nf6...         1  ...   \n",
       "3      1. d4 { [%eval 0.25] [%clk 0:05:00] } 1... e6 ...         0  ...   \n",
       "4      1. Nf3 { [%eval 0.06] [%clk 0:05:00] } 1... d6...         0  ...   \n",
       "...                                                  ...       ...  ...   \n",
       "23266  1. e3 { [%eval -0.03] [%clk 0:05:00] } 1... d5...         0  ...   \n",
       "23267  1. e4 { [%eval 0.24] [%clk 0:05:00] } 1... c5 ...         0  ...   \n",
       "23268  1. d4 { [%eval 0.25] [%clk 0:05:00] } 1... Nf6...         0  ...   \n",
       "23269  1. e4 { [%eval 0.24] [%clk 0:01:30] } 1... d6 ...         0  ...   \n",
       "23270  1. d3 { [%eval -0.07] [%clk 0:01:30] } 1... c6...         0  ...   \n",
       "\n",
       "       KingMovesBlack  QueenMovesBlack  PawnMovesBlack  KingCastlingBlack  \\\n",
       "0                   0                1               5               True   \n",
       "1                   1                0               8               True   \n",
       "2                   4                5               9               True   \n",
       "3                  16                4              13               True   \n",
       "4                   8                3              10               True   \n",
       "...               ...              ...             ...                ...   \n",
       "23266               1                4               7               True   \n",
       "23267               0               11               7               True   \n",
       "23268               0                4               6               True   \n",
       "23269               3                4               7               True   \n",
       "23270               2                4              11               True   \n",
       "\n",
       "       QueenCastlingBlack  ChecksByWhite  ChecksByBlack  CheckmateDone  \\\n",
       "0                   False              0              0          False   \n",
       "1                   False              0              0           True   \n",
       "2                   False              6              1           True   \n",
       "3                   False              7              1           True   \n",
       "4                   False              4              1           True   \n",
       "...                   ...            ...            ...            ...   \n",
       "23266               False              2              0           True   \n",
       "23267               False              0              1          False   \n",
       "23268               False              0              0          False   \n",
       "23269               False              4              1          False   \n",
       "23270               False              3              2          False   \n",
       "\n",
       "       PawnPromotionWhite  PawnPromotionBlack  \n",
       "0                       0                   0  \n",
       "1                       0                   0  \n",
       "2                       0                   0  \n",
       "3                       1                   0  \n",
       "4                       0                   0  \n",
       "...                   ...                 ...  \n",
       "23266                   0                   0  \n",
       "23267                   0                   0  \n",
       "23268                   0                   0  \n",
       "23269                   0                   0  \n",
       "23270                   0                   0  \n",
       "\n",
       "[23271 rows x 53 columns]"
      ]
     },
     "execution_count": 258,
     "metadata": {},
     "output_type": "execute_result"
    }
   ],
   "source": [
    "irData"
   ]
  },
  {
   "cell_type": "markdown",
   "metadata": {},
   "source": [
    "<h5>GameType Prediction<h5>"
   ]
  },
  {
   "cell_type": "code",
   "execution_count": 259,
   "metadata": {},
   "outputs": [],
   "source": [
    "normalizedData = irData[irData['GameType']==2]\n",
    "normalizedData = normalizedData.append(irData[irData['GameType']==0].iloc[0:1309,:], ignore_index = True)\n",
    "normalizedData = normalizedData.append(irData[irData['GameType']==1].iloc[0:1309,:], ignore_index = True)\n",
    "normalizedData = normalizedData.append(irData[irData['GameType']==4].iloc[0:1309,:], ignore_index = True)"
   ]
  },
  {
   "cell_type": "code",
   "execution_count": 287,
   "metadata": {},
   "outputs": [],
   "source": [
    "clusterData = irData[[ 'TimeControl',  'GameType', 'MovesCount',\n",
    "       'WhiteCaptured', 'BlackCaptured','WhiteTotalEval','BlackTotalEval',\n",
    "        'GoodMoveWhite', 'MistakeWhite', 'BrilliantMoveWhite',\n",
    "       'BlunderWhite', 'InterestingMoveWhite', 'DubiousMoveWhite',\n",
    "       'GoodMoveBlack', 'MistakeBlack', 'BrilliantMoveBlack', 'BlunderBlack',\n",
    "       'InterestingMoveBlack', 'DubiousMoveBlack', 'RookMovesWhite',\n",
    "       'KnightMovesWhite', 'BishopMovesWhite', 'KingMovesWhite',\n",
    "       'QueenMovesWhite', 'PawnMovesWhite', 'KingCastlingWhite',\n",
    "       'QueenCastlingWhite', 'RookMovesBlack', 'KnightMovesBlack',\n",
    "       'BishopMovesBlack', 'KingMovesBlack', 'QueenMovesBlack',\n",
    "       'PawnMovesBlack', 'KingCastlingBlack', 'QueenCastlingBlack',\n",
    "       'ChecksByWhite', 'ChecksByBlack', 'CheckmateDone', 'PawnPromotionWhite',\n",
    "       'PawnPromotionBlack']]"
   ]
  },
  {
   "cell_type": "code",
   "execution_count": 288,
   "metadata": {},
   "outputs": [],
   "source": [
    "fTrainingSet, fTestSet = train_test_split(clusterData, test_size=0.2)"
   ]
  },
  {
   "cell_type": "code",
   "execution_count": 305,
   "metadata": {},
   "outputs": [
    {
     "data": {
      "text/plain": [
       "(23271, 7)"
      ]
     },
     "execution_count": 305,
     "metadata": {},
     "output_type": "execute_result"
    }
   ],
   "source": [
    "clusterData.shape"
   ]
  },
  {
   "cell_type": "code",
   "execution_count": 306,
   "metadata": {},
   "outputs": [
    {
     "data": {
      "text/plain": [
       "0    10309\n",
       "4     5360\n",
       "1     4993\n",
       "2     2609\n",
       "Name: GameType, dtype: int64"
      ]
     },
     "execution_count": 306,
     "metadata": {},
     "output_type": "execute_result"
    }
   ],
   "source": [
    "clusterData['GameType'].value_counts()"
   ]
  },
  {
   "cell_type": "markdown",
   "metadata": {},
   "source": [
    "<h5>GameType Prediction<h5>\n",
    "kNN classifier"
   ]
  },
  {
   "cell_type": "code",
   "execution_count": 289,
   "metadata": {},
   "outputs": [],
   "source": [
    "XTrain = fTrainingSet.drop('GameType',axis =1)\n",
    "YTrain = fTrainingSet['GameType']\n",
    "XTest = fTestSet.drop('GameType', axis =1)\n",
    "YTest = fTestSet['GameType']"
   ]
  },
  {
   "cell_type": "code",
   "execution_count": 290,
   "metadata": {},
   "outputs": [],
   "source": [
    "XTrain = XTrain.drop('TimeControl', axis =1)\n",
    "XTest = XTest.drop('TimeControl', axis =1)"
   ]
  },
  {
   "cell_type": "code",
   "execution_count": 291,
   "metadata": {},
   "outputs": [
    {
     "name": "stdout",
     "output_type": "stream",
     "text": [
      "0.8665950590762621\n"
     ]
    }
   ],
   "source": [
    "neigh = KNeighborsClassifier(n_neighbors=5)\n",
    "neigh.fit(XTrain, YTrain) \n",
    "predicted = neigh.predict(XTest)\n",
    "acc = accuracy_score(YTest, predicted)\n",
    "print(acc)"
   ]
  },
  {
   "cell_type": "code",
   "execution_count": 303,
   "metadata": {},
   "outputs": [],
   "source": [
    "from sklearn.metrics import accuracy_score, f1_score, precision_score, recall_score, classification_report, confusion_matrix\n",
    "from sklearn.metrics import precision_recall_fscore_support as score\n"
   ]
  },
  {
   "cell_type": "code",
   "execution_count": 308,
   "metadata": {
    "scrolled": true
   },
   "outputs": [
    {
     "name": "stdout",
     "output_type": "stream",
     "text": [
      "precision: [0.85543278 0.84418146 0.92570281 0.88465499]\n",
      "recall: [0.88899522 0.84003925 0.91650099 0.82358581]\n",
      "fscore: [0.87189113 0.84210526 0.92107892 0.8530288 ]\n"
     ]
    }
   ],
   "source": [
    "precision, recall, fscore, _ = score(YTest, predicted)\n",
    "print('precision: {}'.format(precision))\n",
    "print('recall: {}'.format(recall))\n",
    "print('fscore: {}'.format(fscore))"
   ]
  },
  {
   "cell_type": "code",
   "execution_count": null,
   "metadata": {},
   "outputs": [],
   "source": [
    "param = {'max_depth':2, 'eta':1, 'objective':'binary:logistic' }\n",
    "num_round = 2\n",
    "bst = xgb.train(param, dtrain, num_round)\n",
    "# make prediction\n",
    "preds = bst.predict(dtest)"
   ]
  },
  {
   "cell_type": "code",
   "execution_count": 311,
   "metadata": {},
   "outputs": [],
   "source": [
    "def xgb_model(train_data, train_label, test_data, test_label):\n",
    "    clf = xgb.XGBClassifier(max_depth=7,\n",
    "                           min_child_weight=1,\n",
    "                           learning_rate=0.1,\n",
    "                           n_estimators=500,\n",
    "                           silent=True,\n",
    "                           objective='binary:logistic',\n",
    "                           gamma=0,\n",
    "                           max_delta_step=0,\n",
    "                           subsample=1,\n",
    "                           colsample_bytree=1,\n",
    "                           colsample_bylevel=1,\n",
    "                           reg_alpha=0,\n",
    "                           reg_lambda=0,\n",
    "                           scale_pos_weight=1,\n",
    "                           seed=1,\n",
    "                           missing=None)\n",
    "    clf.fit(train_data, train_label, eval_metric='auc', verbose=True,\n",
    "            eval_set=[(test_data, test_label)], early_stopping_rounds=100)\n",
    "    y_pre = clf.predict(test_data)\n",
    "    y_pro = clf.predict_proba(test_data)[:, 1]\n",
    "    print (\"AUC Score : \" ,metrics.roc_auc_score(test_label, y_pro))\n",
    "    print(\"Accuracy : \"  ,metrics.accuracy_score(test_label, y_pre))\n",
    "    return clf"
   ]
  },
  {
   "cell_type": "code",
   "execution_count": 168,
   "metadata": {},
   "outputs": [],
   "source": [
    "from sklearn.cluster import KMeans"
   ]
  },
  {
   "cell_type": "code",
   "execution_count": 320,
   "metadata": {},
   "outputs": [],
   "source": [
    "from xgboost.sklearn import XGBClassifier\n",
    "import xgboost as xgb\n",
    "xclass = XGBClassifier()\n",
    "xclass.fit(XTrain, YTrain)\n",
    "predicted = xclass.predict(XTest)"
   ]
  },
  {
   "cell_type": "code",
   "execution_count": 321,
   "metadata": {},
   "outputs": [
    {
     "name": "stdout",
     "output_type": "stream",
     "text": [
      "0.8595059076262084\n"
     ]
    }
   ],
   "source": [
    "acc = accuracy_score(YTest, predicted)\n",
    "print(acc)"
   ]
  },
  {
   "cell_type": "code",
   "execution_count": 322,
   "metadata": {},
   "outputs": [
    {
     "name": "stdout",
     "output_type": "stream",
     "text": [
      "precision: [0.84891755 0.8109589  0.92771084 0.90684624]\n",
      "recall: [0.88181818 0.87144259 0.91848907 0.7746884 ]\n",
      "fscore: [0.86505515 0.84011353 0.92307692 0.83557394]\n"
     ]
    }
   ],
   "source": [
    "precision, recall, fscore, _ = score(YTest, predicted)\n",
    "print('precision: {}'.format(precision))\n",
    "print('recall: {}'.format(recall))\n",
    "print('fscore: {}'.format(fscore))"
   ]
  },
  {
   "cell_type": "code",
   "execution_count": 339,
   "metadata": {},
   "outputs": [],
   "source": [
    "from sklearn.tree import DecisionTreeClassifier\n",
    "\n",
    "# Make a decision tree and train\n",
    "tree = DecisionTreeClassifier()\n",
    "tree.fit(XTrain, YTrain)\n",
    "predicted = tree.predict(XTest)\n"
   ]
  },
  {
   "cell_type": "code",
   "execution_count": 340,
   "metadata": {},
   "outputs": [
    {
     "name": "stdout",
     "output_type": "stream",
     "text": [
      "0.7987110633727175\n"
     ]
    }
   ],
   "source": [
    "acc = accuracy_score(YTest, predicted)\n",
    "print(acc)"
   ]
  },
  {
   "cell_type": "code",
   "execution_count": 172,
   "metadata": {
    "scrolled": true
   },
   "outputs": [
    {
     "data": {
      "text/html": [
       "<div>\n",
       "<style scoped>\n",
       "    .dataframe tbody tr th:only-of-type {\n",
       "        vertical-align: middle;\n",
       "    }\n",
       "\n",
       "    .dataframe tbody tr th {\n",
       "        vertical-align: top;\n",
       "    }\n",
       "\n",
       "    .dataframe thead th {\n",
       "        text-align: right;\n",
       "    }\n",
       "</style>\n",
       "<table border=\"1\" class=\"dataframe\">\n",
       "  <thead>\n",
       "    <tr style=\"text-align: right;\">\n",
       "      <th></th>\n",
       "      <th>TimeControl</th>\n",
       "      <th>GameType</th>\n",
       "      <th>MovesCount</th>\n",
       "      <th>WhiteCaptured</th>\n",
       "      <th>BlackCaptured</th>\n",
       "      <th>RemTimeAftFirstMoveWhite</th>\n",
       "      <th>RemTimeAftLastMoveWhite</th>\n",
       "      <th>RemTimeAftFirstMoveBlack</th>\n",
       "      <th>RemTimeAftLastMoveBlack</th>\n",
       "    </tr>\n",
       "  </thead>\n",
       "  <tbody>\n",
       "    <tr>\n",
       "      <td>0</td>\n",
       "      <td>27</td>\n",
       "      <td>0</td>\n",
       "      <td>28</td>\n",
       "      <td>5</td>\n",
       "      <td>4</td>\n",
       "      <td>180</td>\n",
       "      <td>152</td>\n",
       "      <td>180</td>\n",
       "      <td>138</td>\n",
       "    </tr>\n",
       "    <tr>\n",
       "      <td>1</td>\n",
       "      <td>104</td>\n",
       "      <td>4</td>\n",
       "      <td>43</td>\n",
       "      <td>3</td>\n",
       "      <td>6</td>\n",
       "      <td>600</td>\n",
       "      <td>375</td>\n",
       "      <td>600</td>\n",
       "      <td>432</td>\n",
       "    </tr>\n",
       "    <tr>\n",
       "      <td>2</td>\n",
       "      <td>97</td>\n",
       "      <td>1</td>\n",
       "      <td>77</td>\n",
       "      <td>7</td>\n",
       "      <td>9</td>\n",
       "      <td>60</td>\n",
       "      <td>13</td>\n",
       "      <td>60</td>\n",
       "      <td>12</td>\n",
       "    </tr>\n",
       "    <tr>\n",
       "      <td>3</td>\n",
       "      <td>56</td>\n",
       "      <td>0</td>\n",
       "      <td>119</td>\n",
       "      <td>11</td>\n",
       "      <td>14</td>\n",
       "      <td>300</td>\n",
       "      <td>20</td>\n",
       "      <td>300</td>\n",
       "      <td>28</td>\n",
       "    </tr>\n",
       "    <tr>\n",
       "      <td>4</td>\n",
       "      <td>56</td>\n",
       "      <td>0</td>\n",
       "      <td>73</td>\n",
       "      <td>6</td>\n",
       "      <td>14</td>\n",
       "      <td>300</td>\n",
       "      <td>4</td>\n",
       "      <td>300</td>\n",
       "      <td>21</td>\n",
       "    </tr>\n",
       "    <tr>\n",
       "      <td>...</td>\n",
       "      <td>...</td>\n",
       "      <td>...</td>\n",
       "      <td>...</td>\n",
       "      <td>...</td>\n",
       "      <td>...</td>\n",
       "      <td>...</td>\n",
       "      <td>...</td>\n",
       "      <td>...</td>\n",
       "      <td>...</td>\n",
       "    </tr>\n",
       "    <tr>\n",
       "      <td>11663</td>\n",
       "      <td>104</td>\n",
       "      <td>4</td>\n",
       "      <td>60</td>\n",
       "      <td>7</td>\n",
       "      <td>7</td>\n",
       "      <td>600</td>\n",
       "      <td>160</td>\n",
       "      <td>600</td>\n",
       "      <td>350</td>\n",
       "    </tr>\n",
       "    <tr>\n",
       "      <td>11664</td>\n",
       "      <td>27</td>\n",
       "      <td>0</td>\n",
       "      <td>43</td>\n",
       "      <td>7</td>\n",
       "      <td>7</td>\n",
       "      <td>180</td>\n",
       "      <td>101</td>\n",
       "      <td>180</td>\n",
       "      <td>84</td>\n",
       "    </tr>\n",
       "    <tr>\n",
       "      <td>11665</td>\n",
       "      <td>135</td>\n",
       "      <td>2</td>\n",
       "      <td>75</td>\n",
       "      <td>6</td>\n",
       "      <td>10</td>\n",
       "      <td>900</td>\n",
       "      <td>106</td>\n",
       "      <td>900</td>\n",
       "      <td>138</td>\n",
       "    </tr>\n",
       "    <tr>\n",
       "      <td>11666</td>\n",
       "      <td>135</td>\n",
       "      <td>2</td>\n",
       "      <td>67</td>\n",
       "      <td>5</td>\n",
       "      <td>15</td>\n",
       "      <td>900</td>\n",
       "      <td>1092</td>\n",
       "      <td>900</td>\n",
       "      <td>1164</td>\n",
       "    </tr>\n",
       "    <tr>\n",
       "      <td>11667</td>\n",
       "      <td>56</td>\n",
       "      <td>0</td>\n",
       "      <td>45</td>\n",
       "      <td>5</td>\n",
       "      <td>5</td>\n",
       "      <td>300</td>\n",
       "      <td>100</td>\n",
       "      <td>300</td>\n",
       "      <td>127</td>\n",
       "    </tr>\n",
       "  </tbody>\n",
       "</table>\n",
       "<p>11668 rows × 9 columns</p>\n",
       "</div>"
      ],
      "text/plain": [
       "       TimeControl  GameType  MovesCount  WhiteCaptured  BlackCaptured  \\\n",
       "0               27         0          28              5              4   \n",
       "1              104         4          43              3              6   \n",
       "2               97         1          77              7              9   \n",
       "3               56         0         119             11             14   \n",
       "4               56         0          73              6             14   \n",
       "...            ...       ...         ...            ...            ...   \n",
       "11663          104         4          60              7              7   \n",
       "11664           27         0          43              7              7   \n",
       "11665          135         2          75              6             10   \n",
       "11666          135         2          67              5             15   \n",
       "11667           56         0          45              5              5   \n",
       "\n",
       "       RemTimeAftFirstMoveWhite  RemTimeAftLastMoveWhite  \\\n",
       "0                           180                      152   \n",
       "1                           600                      375   \n",
       "2                            60                       13   \n",
       "3                           300                       20   \n",
       "4                           300                        4   \n",
       "...                         ...                      ...   \n",
       "11663                       600                      160   \n",
       "11664                       180                      101   \n",
       "11665                       900                      106   \n",
       "11666                       900                     1092   \n",
       "11667                       300                      100   \n",
       "\n",
       "       RemTimeAftFirstMoveBlack  RemTimeAftLastMoveBlack  \n",
       "0                           180                      138  \n",
       "1                           600                      432  \n",
       "2                            60                       12  \n",
       "3                           300                       28  \n",
       "4                           300                       21  \n",
       "...                         ...                      ...  \n",
       "11663                       600                      350  \n",
       "11664                       180                       84  \n",
       "11665                       900                      138  \n",
       "11666                       900                     1164  \n",
       "11667                       300                      127  \n",
       "\n",
       "[11668 rows x 9 columns]"
      ]
     },
     "execution_count": 172,
     "metadata": {},
     "output_type": "execute_result"
    }
   ],
   "source": [
    "clusterData"
   ]
  },
  {
   "cell_type": "code",
   "execution_count": 177,
   "metadata": {},
   "outputs": [
    {
     "data": {
      "text/plain": [
       "<matplotlib.collections.PathCollection at 0x2a4ad48ed88>"
      ]
     },
     "execution_count": 177,
     "metadata": {},
     "output_type": "execute_result"
    },
    {
     "data": {
      "image/png": "[encoded data removed]",
      "text/plain": [
       "<Figure size 432x288 with 1 Axes>"
      ]
     },
     "metadata": {
      "needs_background": "light"
     },
     "output_type": "display_data"
    }
   ],
   "source": [
    "clusterX = clusterData.drop('GameType', axis =1)\n",
    "model = KMeans(n_clusters = 4)\n",
    "model.fit(clusterX)\n",
    "y_kmeans = model.predict(clusterX)\n",
    "plt.scatter(clusterData['WhiteElo'], y_kmeans\n",
    "            , c=y_kmeans, s=50, cmap='viridis')\n"
   ]
  },
  {
   "cell_type": "code",
   "execution_count": 166,
   "metadata": {},
   "outputs": [
    {
     "data": {
      "text/plain": [
       "0    5167\n",
       "4    2688\n",
       "1    2504\n",
       "2    1309\n",
       "Name: GameType, dtype: int64"
      ]
     },
     "execution_count": 166,
     "metadata": {},
     "output_type": "execute_result"
    }
   ],
   "source": [
    "clusterData['GameType'].value_counts()"
   ]
  },
  {
   "cell_type": "code",
   "execution_count": 154,
   "metadata": {},
   "outputs": [],
   "source": [
    "from sklearn.preprocessing import MinMaxScaler\n",
    "scaler = MinMaxScaler()"
   ]
  },
  {
   "cell_type": "code",
   "execution_count": 155,
   "metadata": {},
   "outputs": [
    {
     "data": {
      "text/plain": [
       "0    5167\n",
       "4    2688\n",
       "1    2504\n",
       "2    1309\n",
       "Name: GameType, dtype: int64"
      ]
     },
     "execution_count": 155,
     "metadata": {},
     "output_type": "execute_result"
    }
   ],
   "source": [
    "clusterData['GameType'].value_counts()"
   ]
  },
  {
   "cell_type": "code",
   "execution_count": 183,
   "metadata": {},
   "outputs": [
    {
     "data": {
      "text/plain": [
       "3"
      ]
     },
     "execution_count": 183,
     "metadata": {},
     "output_type": "execute_result"
    }
   ],
   "source": [
    "#clustering with distance_threshold as 2\n",
    "part_df = clusterData\n",
    "part_df_scaled = pd.DataFrame(scaler.fit_transform(part_df), columns=part_df.columns)\n",
    "ag = AgglomerativeClustering(None, affinity='euclidean', distance_threshold=20)\n",
    "ag.fit(part_df_scaled)\n",
    "ag.labels_.max()"
   ]
  },
  {
   "cell_type": "code",
   "execution_count": 184,
   "metadata": {},
   "outputs": [],
   "source": [
    "pca = PCA(2)\n",
    "part_df_scaled_compress = pca.fit_transform(part_df_scaled)"
   ]
  },
  {
   "cell_type": "code",
   "execution_count": 185,
   "metadata": {},
   "outputs": [
    {
     "data": {
      "text/html": [
       "<div>\n",
       "<style scoped>\n",
       "    .dataframe tbody tr th:only-of-type {\n",
       "        vertical-align: middle;\n",
       "    }\n",
       "\n",
       "    .dataframe tbody tr th {\n",
       "        vertical-align: top;\n",
       "    }\n",
       "\n",
       "    .dataframe thead th {\n",
       "        text-align: right;\n",
       "    }\n",
       "</style>\n",
       "<table border=\"1\" class=\"dataframe\">\n",
       "  <thead>\n",
       "    <tr style=\"text-align: right;\">\n",
       "      <th></th>\n",
       "      <th>pca0</th>\n",
       "      <th>pca1</th>\n",
       "      <th>labels</th>\n",
       "      <th>GameType</th>\n",
       "    </tr>\n",
       "  </thead>\n",
       "  <tbody>\n",
       "    <tr>\n",
       "      <td>0</td>\n",
       "      <td>-0.457507</td>\n",
       "      <td>-0.317623</td>\n",
       "      <td>3</td>\n",
       "      <td>2.0</td>\n",
       "    </tr>\n",
       "    <tr>\n",
       "      <td>1</td>\n",
       "      <td>0.684368</td>\n",
       "      <td>-0.301769</td>\n",
       "      <td>2</td>\n",
       "      <td>2.0</td>\n",
       "    </tr>\n",
       "  </tbody>\n",
       "</table>\n",
       "</div>"
      ],
      "text/plain": [
       "       pca0      pca1  labels  GameType\n",
       "0 -0.457507 -0.317623       3       2.0\n",
       "1  0.684368 -0.301769       2       2.0"
      ]
     },
     "execution_count": 185,
     "metadata": {},
     "output_type": "execute_result"
    }
   ],
   "source": [
    "pca_df = pd.DataFrame(part_df_scaled_compress, columns=['pca0', 'pca1'])\n",
    "pca_df['labels'] = ag.labels_\n",
    "pca_df['GameType'] = finalData.GameType\n",
    "pca_df.head(2)"
   ]
  },
  {
   "cell_type": "code",
   "execution_count": 186,
   "metadata": {},
   "outputs": [
    {
     "data": {
      "text/plain": [
       "Text(0, 0.5, 'PCA two')"
      ]
     },
     "execution_count": 186,
     "metadata": {},
     "output_type": "execute_result"
    },
    {
     "data": {
      "image/png": "[encoded data removed]",
      "text/plain": [
       "<Figure size 864x864 with 1 Axes>"
      ]
     },
     "metadata": {
      "needs_background": "light"
     },
     "output_type": "display_data"
    }
   ],
   "source": [
    "plt.figure(figsize=(12,12))\n",
    "sns.scatterplot(\n",
    "    x= 'pca0',\n",
    "    y= 'pca1',\n",
    "    data = pca_df,\n",
    "    hue = 'labels',\n",
    "    palette=sns.color_palette(\"hls\", pca_df.labels.unique().shape[0]),\n",
    "    legend=\"full\",\n",
    "    alpha=0.9\n",
    ")\n",
    "plt.title('Clustering (after pca)', fontsize=20)\n",
    "plt.xlabel('PCA one', fontsize=15)\n",
    "plt.ylabel('PCA two', fontsize=15)"
   ]
  },
  {
   "cell_type": "code",
   "execution_count": null,
   "metadata": {},
   "outputs": [],
   "source": []
  },
  {
   "cell_type": "markdown",
   "metadata": {},
   "source": [
    "<h5>White Rating Prediction<h5>"
   ]
  },
  {
   "cell_type": "code",
   "execution_count": 329,
   "metadata": {},
   "outputs": [],
   "source": [
    "predData = irData.copy()"
   ]
  },
  {
   "cell_type": "code",
   "execution_count": 330,
   "metadata": {},
   "outputs": [],
   "source": [
    "predData = predData.drop('Moves',axis =1)"
   ]
  },
  {
   "cell_type": "code",
   "execution_count": 331,
   "metadata": {},
   "outputs": [],
   "source": [
    "fTrainingSet, fTestSet = train_test_split(predData, test_size=0.2)"
   ]
  },
  {
   "cell_type": "code",
   "execution_count": 332,
   "metadata": {},
   "outputs": [],
   "source": [
    "XTrain = fTrainingSet.drop('WhiteElo',axis =1)\n",
    "XTrain = XTrain.drop('BlackElo',axis =1)\n",
    "YTrain = fTrainingSet['WhiteElo']\n",
    "XTest = fTestSet.drop('WhiteElo', axis =1)\n",
    "XTest = XTest.drop('BlackElo', axis =1)\n",
    "YTest = fTestSet['WhiteElo']"
   ]
  },
  {
   "cell_type": "code",
   "execution_count": 333,
   "metadata": {},
   "outputs": [
    {
     "data": {
      "text/plain": [
       "LinearRegression(copy_X=True, fit_intercept=True, n_jobs=None, normalize=False)"
      ]
     },
     "execution_count": 333,
     "metadata": {},
     "output_type": "execute_result"
    }
   ],
   "source": [
    "# Linear Regression Model Creation\n",
    "lin_reg = LinearRegression()\n",
    "lin_reg.fit(XTrain, YTrain)"
   ]
  },
  {
   "cell_type": "code",
   "execution_count": 334,
   "metadata": {},
   "outputs": [
    {
     "name": "stdout",
     "output_type": "stream",
     "text": [
      "282.1474658252334\n"
     ]
    }
   ],
   "source": [
    "#predict on test data split\n",
    "y_test_predictions_lin_reg = lin_reg.predict(XTest)\n",
    "# print (len(y_test_predictions_lin_reg))\n",
    "lin_mse = mean_squared_error(YTest, (y_test_predictions_lin_reg))\n",
    "lin_rmse = np.sqrt(lin_mse)\n",
    "print(lin_rmse)"
   ]
  },
  {
   "cell_type": "code",
   "execution_count": 336,
   "metadata": {},
   "outputs": [
    {
     "name": "stdout",
     "output_type": "stream",
     "text": [
      "282.3929106458132\n"
     ]
    },
    {
     "name": "stderr",
     "output_type": "stream",
     "text": [
      "C:\\Users\\ujwal\\Anaconda3\\lib\\site-packages\\sklearn\\linear_model\\coordinate_descent.py:475: ConvergenceWarning: Objective did not converge. You might want to increase the number of iterations. Duality gap: 731227543.4845685, tolerance: 198961.8742313709\n",
      "  positive)\n"
     ]
    }
   ],
   "source": [
    "from sklearn import linear_model\n",
    "clf = linear_model.Lasso(alpha=0.1)\n",
    "clf.fit(XTrain, YTrain)\n",
    "y_test_predictions_lin_reg = clf.predict(XTest)\n",
    "\n",
    "lin_mse = mean_squared_error(YTest, (y_test_predictions_lin_reg))\n",
    "lin_rmse = np.sqrt(lin_mse)\n",
    "print(lin_rmse)"
   ]
  },
  {
   "cell_type": "code",
   "execution_count": null,
   "metadata": {},
   "outputs": [],
   "source": []
  },
  {
   "cell_type": "code",
   "execution_count": null,
   "metadata": {},
   "outputs": [],
   "source": []
  },
  {
   "cell_type": "code",
   "execution_count": null,
   "metadata": {},
   "outputs": [],
   "source": []
  },
  {
   "cell_type": "code",
   "execution_count": null,
   "metadata": {},
   "outputs": [],
   "source": []
  },
  {
   "cell_type": "code",
   "execution_count": null,
   "metadata": {},
   "outputs": [],
   "source": []
  },
  {
   "cell_type": "code",
   "execution_count": null,
   "metadata": {},
   "outputs": [],
   "source": []
  },
  {
   "cell_type": "code",
   "execution_count": null,
   "metadata": {},
   "outputs": [],
   "source": []
  },
  {
   "cell_type": "code",
   "execution_count": null,
   "metadata": {},
   "outputs": [],
   "source": []
  },
  {
   "cell_type": "code",
   "execution_count": null,
   "metadata": {},
   "outputs": [],
   "source": []
  },
  {
   "cell_type": "code",
   "execution_count": null,
   "metadata": {},
   "outputs": [],
   "source": []
  },
  {
   "cell_type": "code",
   "execution_count": 77,
   "metadata": {},
   "outputs": [],
   "source": [
    "YTrain = fTrainingSet['BlackElo']\n",
    "YTest = fTestSet['BlackElo']"
   ]
  },
  {
   "cell_type": "code",
   "execution_count": 78,
   "metadata": {},
   "outputs": [
    {
     "data": {
      "text/plain": [
       "LinearRegression(copy_X=True, fit_intercept=True, n_jobs=None, normalize=False)"
      ]
     },
     "execution_count": 78,
     "metadata": {},
     "output_type": "execute_result"
    }
   ],
   "source": [
    "# Linear Regression Model Creation\n",
    "lin_reg = LinearRegression()\n",
    "lin_reg.fit(XTrain, YTrain)"
   ]
  },
  {
   "cell_type": "code",
   "execution_count": 79,
   "metadata": {},
   "outputs": [
    {
     "name": "stdout",
     "output_type": "stream",
     "text": [
      "281.0923557489827\n"
     ]
    }
   ],
   "source": [
    "#predict on test data split\n",
    "y_test_predictions_lin_reg = lin_reg.predict(XTest)\n",
    "# print (len(y_test_predictions_lin_reg))\n",
    "lin_mse = mean_squared_error(YTest, (y_test_predictions_lin_reg))\n",
    "lin_rmse = np.sqrt(lin_mse)\n",
    "print(lin_rmse)"
   ]
  },
  {
   "cell_type": "code",
   "execution_count": 86,
   "metadata": {},
   "outputs": [
    {
     "data": {
      "text/plain": [
       "subs197         85\n",
       "Meshter         84\n",
       "vacnnm          82\n",
       "LucasN2019      80\n",
       "tigranpi        79\n",
       "                ..\n",
       "freligue         1\n",
       "Sollasido        1\n",
       "Bolsa            1\n",
       "damnpotatoes     1\n",
       "el_Panic         1\n",
       "Name: Black, Length: 58759, dtype: int64"
      ]
     },
     "execution_count": 86,
     "metadata": {},
     "output_type": "execute_result"
    }
   ],
   "source": [
    "data['Black'].value_counts()"
   ]
  },
  {
   "cell_type": "code",
   "execution_count": 94,
   "metadata": {},
   "outputs": [
    {
     "data": {
      "text/plain": [
       "Rated Bullet game                                                  144\n",
       "Rated Bullet tournament https://lichess.org/tournament/BuwfmCA9     13\n",
       "Rated Bullet tournament https://lichess.org/tournament/eOLPciBz     10\n",
       "Rated Bullet tournament https://lichess.org/tournament/UnhSOMxj      3\n",
       "Name: Event, dtype: int64"
      ]
     },
     "execution_count": 94,
     "metadata": {},
     "output_type": "execute_result"
    }
   ],
   "source": [
    "data[(data['Black']=='Meshter') | (data['White']=='Meshter')]['Event'].value_counts()"
   ]
  },
  {
   "cell_type": "code",
   "execution_count": 348,
   "metadata": {},
   "outputs": [],
   "source": [
    "bData = data.copy()"
   ]
  },
  {
   "cell_type": "code",
   "execution_count": 352,
   "metadata": {},
   "outputs": [],
   "source": [
    "bData[\"RemTimeAftFirstMoveWhite\"] = \"\"\n",
    "bData[\"RemTimeAftLastMoveWhite\"] = \"\"\n",
    "bData[\"RemTimeAftFirstMoveBlack\"] = \"\"\n",
    "bData[\"RemTimeAftLastMoveBlack\"] = \"\"\n",
    "bData['WhiteTotalEval'] = ''\n",
    "bData['BlackTotalEval'] = ''"
   ]
  },
  {
   "cell_type": "code",
   "execution_count": 353,
   "metadata": {},
   "outputs": [
    {
     "name": "stdout",
     "output_type": "stream",
     "text": [
      "0\n"
     ]
    },
    {
     "name": "stderr",
     "output_type": "stream",
     "text": [
      "C:\\Users\\ujwal\\Anaconda3\\lib\\site-packages\\ipykernel_launcher.py:53: SettingWithCopyWarning: \n",
      "A value is trying to be set on a copy of a slice from a DataFrame\n",
      "\n",
      "See the caveats in the documentation: http://pandas.pydata.org/pandas-docs/stable/user_guide/indexing.html#returning-a-view-versus-a-copy\n",
      "C:\\Users\\ujwal\\Anaconda3\\lib\\site-packages\\ipykernel_launcher.py:54: SettingWithCopyWarning: \n",
      "A value is trying to be set on a copy of a slice from a DataFrame\n",
      "\n",
      "See the caveats in the documentation: http://pandas.pydata.org/pandas-docs/stable/user_guide/indexing.html#returning-a-view-versus-a-copy\n",
      "C:\\Users\\ujwal\\Anaconda3\\lib\\site-packages\\ipykernel_launcher.py:60: SettingWithCopyWarning: \n",
      "A value is trying to be set on a copy of a slice from a DataFrame\n",
      "\n",
      "See the caveats in the documentation: http://pandas.pydata.org/pandas-docs/stable/user_guide/indexing.html#returning-a-view-versus-a-copy\n",
      "C:\\Users\\ujwal\\Anaconda3\\lib\\site-packages\\ipykernel_launcher.py:61: SettingWithCopyWarning: \n",
      "A value is trying to be set on a copy of a slice from a DataFrame\n",
      "\n",
      "See the caveats in the documentation: http://pandas.pydata.org/pandas-docs/stable/user_guide/indexing.html#returning-a-view-versus-a-copy\n",
      "C:\\Users\\ujwal\\Anaconda3\\lib\\site-packages\\ipykernel_launcher.py:57: SettingWithCopyWarning: \n",
      "A value is trying to be set on a copy of a slice from a DataFrame\n",
      "\n",
      "See the caveats in the documentation: http://pandas.pydata.org/pandas-docs/stable/user_guide/indexing.html#returning-a-view-versus-a-copy\n",
      "C:\\Users\\ujwal\\Anaconda3\\lib\\site-packages\\ipykernel_launcher.py:58: SettingWithCopyWarning: \n",
      "A value is trying to be set on a copy of a slice from a DataFrame\n",
      "\n",
      "See the caveats in the documentation: http://pandas.pydata.org/pandas-docs/stable/user_guide/indexing.html#returning-a-view-versus-a-copy\n",
      "C:\\Users\\ujwal\\Anaconda3\\lib\\site-packages\\ipykernel_launcher.py:24: SettingWithCopyWarning: \n",
      "A value is trying to be set on a copy of a slice from a DataFrame\n",
      "\n",
      "See the caveats in the documentation: http://pandas.pydata.org/pandas-docs/stable/user_guide/indexing.html#returning-a-view-versus-a-copy\n",
      "C:\\Users\\ujwal\\Anaconda3\\lib\\site-packages\\ipykernel_launcher.py:25: SettingWithCopyWarning: \n",
      "A value is trying to be set on a copy of a slice from a DataFrame\n",
      "\n",
      "See the caveats in the documentation: http://pandas.pydata.org/pandas-docs/stable/user_guide/indexing.html#returning-a-view-versus-a-copy\n",
      "C:\\Users\\ujwal\\Anaconda3\\lib\\site-packages\\ipykernel_launcher.py:28: SettingWithCopyWarning: \n",
      "A value is trying to be set on a copy of a slice from a DataFrame\n",
      "\n",
      "See the caveats in the documentation: http://pandas.pydata.org/pandas-docs/stable/user_guide/indexing.html#returning-a-view-versus-a-copy\n",
      "C:\\Users\\ujwal\\Anaconda3\\lib\\site-packages\\ipykernel_launcher.py:29: SettingWithCopyWarning: \n",
      "A value is trying to be set on a copy of a slice from a DataFrame\n",
      "\n",
      "See the caveats in the documentation: http://pandas.pydata.org/pandas-docs/stable/user_guide/indexing.html#returning-a-view-versus-a-copy\n",
      "C:\\Users\\ujwal\\Anaconda3\\lib\\site-packages\\ipykernel_launcher.py:33: SettingWithCopyWarning: \n",
      "A value is trying to be set on a copy of a slice from a DataFrame\n",
      "\n",
      "See the caveats in the documentation: http://pandas.pydata.org/pandas-docs/stable/user_guide/indexing.html#returning-a-view-versus-a-copy\n",
      "C:\\Users\\ujwal\\Anaconda3\\lib\\site-packages\\ipykernel_launcher.py:37: SettingWithCopyWarning: \n",
      "A value is trying to be set on a copy of a slice from a DataFrame\n",
      "\n",
      "See the caveats in the documentation: http://pandas.pydata.org/pandas-docs/stable/user_guide/indexing.html#returning-a-view-versus-a-copy\n",
      "C:\\Users\\ujwal\\Anaconda3\\lib\\site-packages\\ipykernel_launcher.py:42: SettingWithCopyWarning: \n",
      "A value is trying to be set on a copy of a slice from a DataFrame\n",
      "\n",
      "See the caveats in the documentation: http://pandas.pydata.org/pandas-docs/stable/user_guide/indexing.html#returning-a-view-versus-a-copy\n",
      "C:\\Users\\ujwal\\Anaconda3\\lib\\site-packages\\ipykernel_launcher.py:48: SettingWithCopyWarning: \n",
      "A value is trying to be set on a copy of a slice from a DataFrame\n",
      "\n",
      "See the caveats in the documentation: http://pandas.pydata.org/pandas-docs/stable/user_guide/indexing.html#returning-a-view-versus-a-copy\n",
      "C:\\Users\\ujwal\\Anaconda3\\lib\\site-packages\\ipykernel_launcher.py:39: SettingWithCopyWarning: \n",
      "A value is trying to be set on a copy of a slice from a DataFrame\n",
      "\n",
      "See the caveats in the documentation: http://pandas.pydata.org/pandas-docs/stable/user_guide/indexing.html#returning-a-view-versus-a-copy\n",
      "C:\\Users\\ujwal\\Anaconda3\\lib\\site-packages\\ipykernel_launcher.py:46: SettingWithCopyWarning: \n",
      "A value is trying to be set on a copy of a slice from a DataFrame\n",
      "\n",
      "See the caveats in the documentation: http://pandas.pydata.org/pandas-docs/stable/user_guide/indexing.html#returning-a-view-versus-a-copy\n"
     ]
    },
    {
     "name": "stdout",
     "output_type": "stream",
     "text": [
      "5000\n",
      "10000\n",
      "10266\n",
      "15000\n",
      "16130\n",
      "20000\n",
      "20133\n",
      "24985\n",
      "25000\n",
      "30000\n",
      "35000\n",
      "40000\n",
      "40634\n",
      "41262\n",
      "45000\n",
      "46999\n",
      "47725\n",
      "50000\n",
      "55000\n",
      "55356\n",
      "58310\n",
      "59048\n",
      "59570\n",
      "59688\n",
      "60000\n",
      "65000\n"
     ]
    },
    {
     "name": "stderr",
     "output_type": "stream",
     "text": [
      "C:\\Users\\ujwal\\Anaconda3\\lib\\site-packages\\ipykernel_launcher.py:44: SettingWithCopyWarning: \n",
      "A value is trying to be set on a copy of a slice from a DataFrame\n",
      "\n",
      "See the caveats in the documentation: http://pandas.pydata.org/pandas-docs/stable/user_guide/indexing.html#returning-a-view-versus-a-copy\n"
     ]
    },
    {
     "name": "stdout",
     "output_type": "stream",
     "text": [
      "68227\n",
      "69612\n",
      "70000\n"
     ]
    },
    {
     "name": "stderr",
     "output_type": "stream",
     "text": [
      "C:\\Users\\ujwal\\Anaconda3\\lib\\site-packages\\ipykernel_launcher.py:35: SettingWithCopyWarning: \n",
      "A value is trying to be set on a copy of a slice from a DataFrame\n",
      "\n",
      "See the caveats in the documentation: http://pandas.pydata.org/pandas-docs/stable/user_guide/indexing.html#returning-a-view-versus-a-copy\n"
     ]
    },
    {
     "name": "stdout",
     "output_type": "stream",
     "text": [
      "75000\n",
      "80000\n",
      "83858\n",
      "85000\n",
      "88141\n",
      "88540\n",
      "89702\n",
      "90000\n",
      "95000\n",
      "100000\n",
      "105000\n",
      "110000\n",
      "112603\n",
      "114159\n",
      "114940\n",
      "115000\n",
      "117322\n",
      "120000\n",
      "125000\n",
      "130000\n",
      "130841\n",
      "132043\n",
      "132672\n",
      "135000\n",
      "135854\n",
      "137647\n",
      "140000\n",
      "141842\n",
      "143172\n",
      "145000\n",
      "147036\n",
      "150000\n",
      "153692\n",
      "155000\n",
      "160000\n",
      "160269\n",
      "160837\n",
      "161300\n",
      "165000\n",
      "170000\n",
      "175000\n",
      "177459\n",
      "177939\n",
      "179601\n",
      "180000\n",
      "180151\n",
      "185000\n",
      "190000\n",
      "195000\n",
      "200000\n",
      "202942\n",
      "205000\n",
      "208806\n",
      "210000\n",
      "212809\n",
      "215000\n",
      "217661\n",
      "220000\n",
      "225000\n",
      "230000\n",
      "233310\n",
      "233938\n",
      "235000\n",
      "239675\n",
      "240000\n",
      "240401\n",
      "245000\n",
      "248032\n",
      "250000\n",
      "250986\n",
      "251724\n",
      "252246\n",
      "252364\n",
      "255000\n",
      "260000\n",
      "260903\n",
      "262288\n",
      "265000\n",
      "270000\n",
      "275000\n",
      "276534\n",
      "280000\n",
      "280817\n",
      "281216\n",
      "282378\n",
      "285000\n",
      "290000\n",
      "295000\n",
      "300000\n",
      "305000\n",
      "305279\n",
      "306835\n",
      "307616\n",
      "309998\n",
      "310000\n",
      "315000\n",
      "320000\n",
      "323517\n",
      "324719\n",
      "325000\n",
      "325348\n",
      "328530\n",
      "330000\n",
      "330323\n",
      "334518\n",
      "335000\n",
      "335848\n",
      "339712\n",
      "340000\n",
      "345000\n",
      "346368\n",
      "350000\n",
      "352945\n",
      "353513\n",
      "353976\n",
      "355000\n",
      "360000\n",
      "365000\n",
      "370000\n",
      "370135\n",
      "370615\n",
      "372277\n",
      "372827\n",
      "375000\n",
      "380000\n"
     ]
    }
   ],
   "source": [
    "for i in range(0, len(bData['Moves'])):\n",
    "    if i%5000 == 0:\n",
    "        print(i)\n",
    "    try:\n",
    "        if bData['Termination'][i]!='Abandoned' and bData['Moves'][i] is not None:\n",
    "            if 'eval' in bData['Moves'][i]:\n",
    "                splitres = bData['Moves'][i].split(' } ')\n",
    "                whiteEvalSum = 0\n",
    "                blackEvalSum = 0\n",
    "\n",
    "                for j in range(0, len(splitres)):\n",
    "                    if j%2 == 0:\n",
    "                        if '%eval ' in splitres[j]:\n",
    "                            #if splitres[j].split(']')[0].split('%eval ')[1]=='#1':\n",
    "                            #    whiteEvalSum = whiteEvalSum + 1\n",
    "                            if '#' not in splitres[j].split(']')[0].split('%eval ')[1]:\n",
    "                                whiteEvalSum = whiteEvalSum + float(splitres[j].split(']')[0].split('%eval ')[1])\n",
    "                    else:\n",
    "                        if '%eval ' in splitres[j]:\n",
    "                            #if '%eval ' in splitres[j] and splitres[j].split(']')[0].split('%eval ')[1]=='#1':\n",
    "                            #    blackEvalSum = blackEvalSum + 1\n",
    "                            if '#' not in splitres[j].split(']')[0].split('%eval ')[1]:\n",
    "                                blackEvalSum = blackEvalSum + float(splitres[j].split(']')[0].split('%eval ')[1])\n",
    "                bData['WhiteTotalEval'][i] = whiteEvalSum\n",
    "                bData['BlackTotalEval'][i] = blackEvalSum\n",
    "\n",
    "                if 'clk' in bData['Moves'][i]:\n",
    "                    bData[\"RemTimeAftFirstMoveWhite\"][i] = splitres[0].split(']')[1].split('%clk ')[1]\n",
    "                    bData[\"RemTimeAftFirstMoveBlack\"][i] = splitres[1].split(']')[1].split('%clk ')[1]\n",
    "                    length = len(splitres)\n",
    "                    if length%2 == 0:\n",
    "                        if '%eval ' in splitres[length-2]:\n",
    "                            bData[\"RemTimeAftLastMoveWhite\"][i] = splitres[length-2].split(']')[1].split('%clk ')[1]\n",
    "                        elif '%eval ' not in splitres[length-2]:\n",
    "                            bData[\"RemTimeAftLastMoveWhite\"][i] = splitres[length-2].split(']')[0].split('%clk ')[1]\n",
    "                        if '%eval ' in splitres[length-1]:\n",
    "                            bData[\"RemTimeAftLastMoveBlack\"][i] = splitres[length-1].split(']')[1].split('%clk ')[1]\n",
    "                        elif '%eval ' not in splitres[length-1]:\n",
    "                            bData[\"RemTimeAftLastMoveBlack\"][i] = splitres[length-1].split(']')[0].split('%clk ')[1]\n",
    "                    else:\n",
    "                        if '%eval ' in splitres[length-2]:\n",
    "                            bData[\"RemTimeAftLastMoveBlack\"][i] = splitres[length-2].split(']')[1].split('%clk ')[1]\n",
    "                        elif '%eval ' not in splitres[length-2]:\n",
    "                            bData[\"RemTimeAftLastMoveBlack\"][i] = splitres[length-2].split(']')[0].split('%clk ')[1]\n",
    "                        if '%eval ' in splitres[length-1]:\n",
    "                            bData[\"RemTimeAftLastMoveWhite\"][i] = splitres[length-1].split(']')[1].split('%clk ')[1]\n",
    "                        elif '%eval ' not in splitres[length-1]:\n",
    "                            bData[\"RemTimeAftLastMoveWhite\"][i] = splitres[length-1].split(']')[0].split('%clk ')[1]\n",
    "\n",
    "\n",
    "            elif 'clk' in bData['Moves'][i]:\n",
    "                splitres = bData['Moves'][i].split(' } ')\n",
    "                bData[\"RemTimeAftFirstMoveWhite\"][i] = splitres[0].split(\"]\")[0].split('%clk ')[1]\n",
    "                bData[\"RemTimeAftFirstMoveBlack\"][i] = splitres[1].split(\"]\")[0].split('%clk ')[1]\n",
    "                length = len(splitres)\n",
    "                if length%2 == 0:\n",
    "                    bData[\"RemTimeAftLastMoveWhite\"][i] = splitres[length-2].split(\"]\")[0].split('%clk ')[1]\n",
    "                    bData[\"RemTimeAftLastMoveBlack\"][i] = splitres[length-1].split(\"]\")[0].split('%clk ')[1]\n",
    "                else:\n",
    "                    bData[\"RemTimeAftLastMoveBlack\"][i] = splitres[length-2].split(\"]\")[0].split('%clk ')[1]\n",
    "                    bData[\"RemTimeAftLastMoveWhite\"][i] = splitres[length-1].split(\"]\")[0].split('%clk ')[1]\n",
    "    except:\n",
    "        print(i)\n"
   ]
  },
  {
   "cell_type": "code",
   "execution_count": 404,
   "metadata": {},
   "outputs": [
    {
     "name": "stdout",
     "output_type": "stream",
     "text": [
      "0\n"
     ]
    },
    {
     "name": "stderr",
     "output_type": "stream",
     "text": [
      "C:\\Users\\ujwal\\Anaconda3\\lib\\site-packages\\ipykernel_launcher.py:8: SettingWithCopyWarning: \n",
      "A value is trying to be set on a copy of a slice from a DataFrame\n",
      "\n",
      "See the caveats in the documentation: http://pandas.pydata.org/pandas-docs/stable/user_guide/indexing.html#returning-a-view-versus-a-copy\n",
      "  \n",
      "C:\\Users\\ujwal\\Anaconda3\\lib\\site-packages\\ipykernel_launcher.py:9: SettingWithCopyWarning: \n",
      "A value is trying to be set on a copy of a slice from a DataFrame\n",
      "\n",
      "See the caveats in the documentation: http://pandas.pydata.org/pandas-docs/stable/user_guide/indexing.html#returning-a-view-versus-a-copy\n",
      "  if __name__ == '__main__':\n",
      "C:\\Users\\ujwal\\Anaconda3\\lib\\site-packages\\ipykernel_launcher.py:10: SettingWithCopyWarning: \n",
      "A value is trying to be set on a copy of a slice from a DataFrame\n",
      "\n",
      "See the caveats in the documentation: http://pandas.pydata.org/pandas-docs/stable/user_guide/indexing.html#returning-a-view-versus-a-copy\n",
      "  # Remove the CWD from sys.path while we load stuff.\n",
      "C:\\Users\\ujwal\\Anaconda3\\lib\\site-packages\\ipykernel_launcher.py:11: SettingWithCopyWarning: \n",
      "A value is trying to be set on a copy of a slice from a DataFrame\n",
      "\n",
      "See the caveats in the documentation: http://pandas.pydata.org/pandas-docs/stable/user_guide/indexing.html#returning-a-view-versus-a-copy\n",
      "  # This is added back by InteractiveShellApp.init_path()\n"
     ]
    },
    {
     "name": "stdout",
     "output_type": "stream",
     "text": [
      "5000\n",
      "10000\n",
      "15000\n"
     ]
    },
    {
     "ename": "KeyboardInterrupt",
     "evalue": "",
     "output_type": "error",
     "traceback": [
      "\u001b[1;31m---------------------------------------------------------------------------\u001b[0m",
      "\u001b[1;31mKeyboardInterrupt\u001b[0m                         Traceback (most recent call last)",
      "\u001b[1;32m<ipython-input-404-bdc05934e88b>\u001b[0m in \u001b[0;36m<module>\u001b[1;34m\u001b[0m\n\u001b[0;32m      7\u001b[0m         \u001b[0mprint\u001b[0m\u001b[1;33m(\u001b[0m\u001b[0mi\u001b[0m\u001b[1;33m)\u001b[0m\u001b[1;33m\u001b[0m\u001b[1;33m\u001b[0m\u001b[0m\n\u001b[0;32m      8\u001b[0m     \u001b[0mbData\u001b[0m\u001b[1;33m[\u001b[0m\u001b[1;34m'a'\u001b[0m\u001b[1;33m]\u001b[0m\u001b[1;33m[\u001b[0m\u001b[0mi\u001b[0m\u001b[1;33m]\u001b[0m \u001b[1;33m=\u001b[0m \u001b[0mpd\u001b[0m\u001b[1;33m.\u001b[0m\u001b[0mTimedelta\u001b[0m\u001b[1;33m(\u001b[0m\u001b[0mstr\u001b[0m\u001b[1;33m(\u001b[0m\u001b[0mbData\u001b[0m\u001b[1;33m[\u001b[0m\u001b[1;34m'RemTimeAftFirstMoveWhite'\u001b[0m\u001b[1;33m]\u001b[0m\u001b[1;33m[\u001b[0m\u001b[0mi\u001b[0m\u001b[1;33m]\u001b[0m\u001b[1;33m)\u001b[0m\u001b[1;33m)\u001b[0m\u001b[1;33m.\u001b[0m\u001b[0mseconds\u001b[0m\u001b[1;33m\u001b[0m\u001b[1;33m\u001b[0m\u001b[0m\n\u001b[1;32m----> 9\u001b[1;33m     \u001b[0mbData\u001b[0m\u001b[1;33m[\u001b[0m\u001b[1;34m'b'\u001b[0m\u001b[1;33m]\u001b[0m\u001b[1;33m[\u001b[0m\u001b[0mi\u001b[0m\u001b[1;33m]\u001b[0m \u001b[1;33m=\u001b[0m \u001b[0mpd\u001b[0m\u001b[1;33m.\u001b[0m\u001b[0mTimedelta\u001b[0m\u001b[1;33m(\u001b[0m\u001b[0mstr\u001b[0m\u001b[1;33m(\u001b[0m\u001b[0mbData\u001b[0m\u001b[1;33m[\u001b[0m\u001b[1;34m'RemTimeAftLastMoveWhite'\u001b[0m\u001b[1;33m]\u001b[0m\u001b[1;33m[\u001b[0m\u001b[0mi\u001b[0m\u001b[1;33m]\u001b[0m\u001b[1;33m)\u001b[0m\u001b[1;33m)\u001b[0m\u001b[1;33m.\u001b[0m\u001b[0mseconds\u001b[0m\u001b[1;33m\u001b[0m\u001b[1;33m\u001b[0m\u001b[0m\n\u001b[0m\u001b[0;32m     10\u001b[0m     \u001b[0mbData\u001b[0m\u001b[1;33m[\u001b[0m\u001b[1;34m'c'\u001b[0m\u001b[1;33m]\u001b[0m\u001b[1;33m[\u001b[0m\u001b[0mi\u001b[0m\u001b[1;33m]\u001b[0m \u001b[1;33m=\u001b[0m \u001b[0mpd\u001b[0m\u001b[1;33m.\u001b[0m\u001b[0mTimedelta\u001b[0m\u001b[1;33m(\u001b[0m\u001b[0mstr\u001b[0m\u001b[1;33m(\u001b[0m\u001b[0mbData\u001b[0m\u001b[1;33m[\u001b[0m\u001b[1;34m'RemTimeAftFirstMoveBlack'\u001b[0m\u001b[1;33m]\u001b[0m\u001b[1;33m[\u001b[0m\u001b[0mi\u001b[0m\u001b[1;33m]\u001b[0m\u001b[1;33m)\u001b[0m\u001b[1;33m)\u001b[0m\u001b[1;33m.\u001b[0m\u001b[0mseconds\u001b[0m\u001b[1;33m\u001b[0m\u001b[1;33m\u001b[0m\u001b[0m\n\u001b[0;32m     11\u001b[0m     \u001b[0mbData\u001b[0m\u001b[1;33m[\u001b[0m\u001b[1;34m'd'\u001b[0m\u001b[1;33m]\u001b[0m\u001b[1;33m[\u001b[0m\u001b[0mi\u001b[0m\u001b[1;33m]\u001b[0m \u001b[1;33m=\u001b[0m \u001b[0mpd\u001b[0m\u001b[1;33m.\u001b[0m\u001b[0mTimedelta\u001b[0m\u001b[1;33m(\u001b[0m\u001b[0mstr\u001b[0m\u001b[1;33m(\u001b[0m\u001b[0mbData\u001b[0m\u001b[1;33m[\u001b[0m\u001b[1;34m'RemTimeAftLastMoveBlack'\u001b[0m\u001b[1;33m]\u001b[0m\u001b[1;33m[\u001b[0m\u001b[0mi\u001b[0m\u001b[1;33m]\u001b[0m\u001b[1;33m)\u001b[0m\u001b[1;33m)\u001b[0m\u001b[1;33m.\u001b[0m\u001b[0mseconds\u001b[0m\u001b[1;33m\u001b[0m\u001b[1;33m\u001b[0m\u001b[0m\n",
      "\u001b[1;32m~\\Anaconda3\\lib\\site-packages\\pandas\\core\\series.py\u001b[0m in \u001b[0;36m__setitem__\u001b[1;34m(self, key, value)\u001b[0m\n\u001b[0;32m   1241\u001b[0m         \u001b[0msetitem\u001b[0m\u001b[1;33m(\u001b[0m\u001b[0mkey\u001b[0m\u001b[1;33m,\u001b[0m \u001b[0mvalue\u001b[0m\u001b[1;33m)\u001b[0m\u001b[1;33m\u001b[0m\u001b[1;33m\u001b[0m\u001b[0m\n\u001b[0;32m   1242\u001b[0m         \u001b[1;32mif\u001b[0m \u001b[0mcacher_needs_updating\u001b[0m\u001b[1;33m:\u001b[0m\u001b[1;33m\u001b[0m\u001b[1;33m\u001b[0m\u001b[0m\n\u001b[1;32m-> 1243\u001b[1;33m             \u001b[0mself\u001b[0m\u001b[1;33m.\u001b[0m\u001b[0m_maybe_update_cacher\u001b[0m\u001b[1;33m(\u001b[0m\u001b[1;33m)\u001b[0m\u001b[1;33m\u001b[0m\u001b[1;33m\u001b[0m\u001b[0m\n\u001b[0m\u001b[0;32m   1244\u001b[0m \u001b[1;33m\u001b[0m\u001b[0m\n\u001b[0;32m   1245\u001b[0m     \u001b[1;32mdef\u001b[0m \u001b[0m_set_with_engine\u001b[0m\u001b[1;33m(\u001b[0m\u001b[0mself\u001b[0m\u001b[1;33m,\u001b[0m \u001b[0mkey\u001b[0m\u001b[1;33m,\u001b[0m \u001b[0mvalue\u001b[0m\u001b[1;33m)\u001b[0m\u001b[1;33m:\u001b[0m\u001b[1;33m\u001b[0m\u001b[1;33m\u001b[0m\u001b[0m\n",
      "\u001b[1;32m~\\Anaconda3\\lib\\site-packages\\pandas\\core\\generic.py\u001b[0m in \u001b[0;36m_maybe_update_cacher\u001b[1;34m(self, clear, verify_is_copy)\u001b[0m\n\u001b[0;32m   3346\u001b[0m             \u001b[1;32melse\u001b[0m\u001b[1;33m:\u001b[0m\u001b[1;33m\u001b[0m\u001b[1;33m\u001b[0m\u001b[0m\n\u001b[0;32m   3347\u001b[0m                 \u001b[1;32mtry\u001b[0m\u001b[1;33m:\u001b[0m\u001b[1;33m\u001b[0m\u001b[1;33m\u001b[0m\u001b[0m\n\u001b[1;32m-> 3348\u001b[1;33m                     \u001b[0mref\u001b[0m\u001b[1;33m.\u001b[0m\u001b[0m_maybe_cache_changed\u001b[0m\u001b[1;33m(\u001b[0m\u001b[0mcacher\u001b[0m\u001b[1;33m[\u001b[0m\u001b[1;36m0\u001b[0m\u001b[1;33m]\u001b[0m\u001b[1;33m,\u001b[0m \u001b[0mself\u001b[0m\u001b[1;33m)\u001b[0m\u001b[1;33m\u001b[0m\u001b[1;33m\u001b[0m\u001b[0m\n\u001b[0m\u001b[0;32m   3349\u001b[0m                 \u001b[1;32mexcept\u001b[0m \u001b[0mException\u001b[0m\u001b[1;33m:\u001b[0m\u001b[1;33m\u001b[0m\u001b[1;33m\u001b[0m\u001b[0m\n\u001b[0;32m   3350\u001b[0m                     \u001b[1;32mpass\u001b[0m\u001b[1;33m\u001b[0m\u001b[1;33m\u001b[0m\u001b[0m\n",
      "\u001b[1;32m~\\Anaconda3\\lib\\site-packages\\pandas\\core\\generic.py\u001b[0m in \u001b[0;36m_maybe_cache_changed\u001b[1;34m(self, item, value)\u001b[0m\n\u001b[0;32m   3303\u001b[0m         \"\"\"The object has called back to us saying maybe it has changed.\n\u001b[0;32m   3304\u001b[0m         \"\"\"\n\u001b[1;32m-> 3305\u001b[1;33m         \u001b[0mself\u001b[0m\u001b[1;33m.\u001b[0m\u001b[0m_data\u001b[0m\u001b[1;33m.\u001b[0m\u001b[0mset\u001b[0m\u001b[1;33m(\u001b[0m\u001b[0mitem\u001b[0m\u001b[1;33m,\u001b[0m \u001b[0mvalue\u001b[0m\u001b[1;33m)\u001b[0m\u001b[1;33m\u001b[0m\u001b[1;33m\u001b[0m\u001b[0m\n\u001b[0m\u001b[0;32m   3306\u001b[0m \u001b[1;33m\u001b[0m\u001b[0m\n\u001b[0;32m   3307\u001b[0m     \u001b[1;33m@\u001b[0m\u001b[0mproperty\u001b[0m\u001b[1;33m\u001b[0m\u001b[1;33m\u001b[0m\u001b[0m\n",
      "\u001b[1;32m~\\Anaconda3\\lib\\site-packages\\pandas\\core\\internals\\managers.py\u001b[0m in \u001b[0;36mset\u001b[1;34m(self, item, value)\u001b[0m\n\u001b[0;32m   1077\u001b[0m \u001b[1;33m\u001b[0m\u001b[0m\n\u001b[0;32m   1078\u001b[0m         \u001b[0mblknos\u001b[0m \u001b[1;33m=\u001b[0m \u001b[0mself\u001b[0m\u001b[1;33m.\u001b[0m\u001b[0m_blknos\u001b[0m\u001b[1;33m[\u001b[0m\u001b[0mloc\u001b[0m\u001b[1;33m]\u001b[0m\u001b[1;33m\u001b[0m\u001b[1;33m\u001b[0m\u001b[0m\n\u001b[1;32m-> 1079\u001b[1;33m         \u001b[0mblklocs\u001b[0m \u001b[1;33m=\u001b[0m \u001b[0mself\u001b[0m\u001b[1;33m.\u001b[0m\u001b[0m_blklocs\u001b[0m\u001b[1;33m[\u001b[0m\u001b[0mloc\u001b[0m\u001b[1;33m]\u001b[0m\u001b[1;33m.\u001b[0m\u001b[0mcopy\u001b[0m\u001b[1;33m(\u001b[0m\u001b[1;33m)\u001b[0m\u001b[1;33m\u001b[0m\u001b[1;33m\u001b[0m\u001b[0m\n\u001b[0m\u001b[0;32m   1080\u001b[0m \u001b[1;33m\u001b[0m\u001b[0m\n\u001b[0;32m   1081\u001b[0m         \u001b[0munfit_mgr_locs\u001b[0m \u001b[1;33m=\u001b[0m \u001b[1;33m[\u001b[0m\u001b[1;33m]\u001b[0m\u001b[1;33m\u001b[0m\u001b[1;33m\u001b[0m\u001b[0m\n",
      "\u001b[1;31mKeyboardInterrupt\u001b[0m: "
     ]
    }
   ],
   "source": [
    "bData['a']=''\n",
    "bData['b']=''\n",
    "bData['c']=''\n",
    "bData['d']=''\n",
    "for i in range(0,bData.shape[0]):\n",
    "    if i%5000==0:\n",
    "        print(i)\n",
    "    bData['a'][i] = pd.Timedelta(str(bData['RemTimeAftFirstMoveWhite'][i])).seconds\n",
    "    bData['b'][i] = pd.Timedelta(str(bData['RemTimeAftLastMoveWhite'][i])).seconds\n",
    "    bData['c'][i] = pd.Timedelta(str(bData['RemTimeAftFirstMoveBlack'][i])).seconds\n",
    "    bData['d'][i] = pd.Timedelta(str(bData['RemTimeAftLastMoveBlack'][i])).seconds\n",
    "\n",
    "bData['RemTimeAftFirstMoveWhite'] = bData['a']\n",
    "bData['RemTimeAftLastMoveWhite'] = bData['b']\n",
    "bData['RemTimeAftFirstMoveBlack'] = bData['c']\n",
    "bData['RemTimeAftLastMoveBlack'] = bData['d']\n",
    "\n",
    "bData = bData.drop('a',axis =1)\n",
    "bData = bData.drop('b',axis =1)\n",
    "bData = bData.drop('c',axis =1)\n",
    "bData = bData.drop('d',axis =1)"
   ]
  },
  {
   "cell_type": "code",
   "execution_count": null,
   "metadata": {},
   "outputs": [],
   "source": []
  },
  {
   "cell_type": "code",
   "execution_count": 417,
   "metadata": {},
   "outputs": [
    {
     "data": {
      "text/html": [
       "<div>\n",
       "<style scoped>\n",
       "    .dataframe tbody tr th:only-of-type {\n",
       "        vertical-align: middle;\n",
       "    }\n",
       "\n",
       "    .dataframe tbody tr th {\n",
       "        vertical-align: top;\n",
       "    }\n",
       "\n",
       "    .dataframe thead th {\n",
       "        text-align: right;\n",
       "    }\n",
       "</style>\n",
       "<table border=\"1\" class=\"dataframe\">\n",
       "  <thead>\n",
       "    <tr style=\"text-align: right;\">\n",
       "      <th></th>\n",
       "      <th>Event</th>\n",
       "      <th>Site</th>\n",
       "      <th>White</th>\n",
       "      <th>Black</th>\n",
       "      <th>Result</th>\n",
       "      <th>UTCDate</th>\n",
       "      <th>UTCTime</th>\n",
       "      <th>WhiteElo</th>\n",
       "      <th>BlackElo</th>\n",
       "      <th>WhiteRatingDiff</th>\n",
       "      <th>...</th>\n",
       "      <th>RemTimeAftFirstMoveWhite</th>\n",
       "      <th>RemTimeAftLastMoveWhite</th>\n",
       "      <th>RemTimeAftFirstMoveBlack</th>\n",
       "      <th>RemTimeAftLastMoveBlack</th>\n",
       "      <th>WhiteTotalEval</th>\n",
       "      <th>BlackTotalEval</th>\n",
       "      <th>a</th>\n",
       "      <th>b</th>\n",
       "      <th>c</th>\n",
       "      <th>d</th>\n",
       "    </tr>\n",
       "  </thead>\n",
       "  <tbody>\n",
       "    <tr>\n",
       "      <td>0</td>\n",
       "      <td>Rated Rapid tournament https://lichess.org/tou...</td>\n",
       "      <td>https://lichess.org/224ifIC9</td>\n",
       "      <td>Dikeuss</td>\n",
       "      <td>hikarufans</td>\n",
       "      <td>1-0</td>\n",
       "      <td>2019.09.01</td>\n",
       "      <td>00:00:04</td>\n",
       "      <td>1817</td>\n",
       "      <td>1806</td>\n",
       "      <td>7</td>\n",
       "      <td>...</td>\n",
       "      <td>0:05:00</td>\n",
       "      <td>0:01:20</td>\n",
       "      <td>0:10:00</td>\n",
       "      <td>0:03:34</td>\n",
       "      <td></td>\n",
       "      <td></td>\n",
       "      <td>00:05:00</td>\n",
       "      <td>00:01:20</td>\n",
       "      <td>00:10:00</td>\n",
       "      <td>00:03:34</td>\n",
       "    </tr>\n",
       "    <tr>\n",
       "      <td>1</td>\n",
       "      <td>Rated Blitz tournament https://lichess.org/tou...</td>\n",
       "      <td>https://lichess.org/JRbFTTJX</td>\n",
       "      <td>skankhunt593</td>\n",
       "      <td>Wosito</td>\n",
       "      <td>1-0</td>\n",
       "      <td>2019.09.01</td>\n",
       "      <td>00:00:04</td>\n",
       "      <td>1491</td>\n",
       "      <td>1419</td>\n",
       "      <td>6</td>\n",
       "      <td>...</td>\n",
       "      <td>0:03:00</td>\n",
       "      <td>0:00:01</td>\n",
       "      <td>0:03:00</td>\n",
       "      <td>0:00:00</td>\n",
       "      <td></td>\n",
       "      <td></td>\n",
       "      <td>00:03:00</td>\n",
       "      <td>00:00:01</td>\n",
       "      <td>00:03:00</td>\n",
       "      <td>00:00:00</td>\n",
       "    </tr>\n",
       "    <tr>\n",
       "      <td>2</td>\n",
       "      <td>Rated Rapid tournament https://lichess.org/tou...</td>\n",
       "      <td>https://lichess.org/TDlv0AjR</td>\n",
       "      <td>strompur</td>\n",
       "      <td>alchemist48</td>\n",
       "      <td>1-0</td>\n",
       "      <td>2019.09.01</td>\n",
       "      <td>00:00:04</td>\n",
       "      <td>2145</td>\n",
       "      <td>2015</td>\n",
       "      <td>4</td>\n",
       "      <td>...</td>\n",
       "      <td>0:10:00</td>\n",
       "      <td>0:04:41</td>\n",
       "      <td>0:10:00</td>\n",
       "      <td>0:04:09</td>\n",
       "      <td></td>\n",
       "      <td></td>\n",
       "      <td>00:10:00</td>\n",
       "      <td>00:04:41</td>\n",
       "      <td>00:10:00</td>\n",
       "      <td>00:04:09</td>\n",
       "    </tr>\n",
       "    <tr>\n",
       "      <td>3</td>\n",
       "      <td>Rated Rapid tournament https://lichess.org/tou...</td>\n",
       "      <td>https://lichess.org/9HriX6Rx</td>\n",
       "      <td>Geroz</td>\n",
       "      <td>ficher2016</td>\n",
       "      <td>1-0</td>\n",
       "      <td>2019.09.01</td>\n",
       "      <td>00:00:04</td>\n",
       "      <td>1702</td>\n",
       "      <td>1695</td>\n",
       "      <td>17</td>\n",
       "      <td>...</td>\n",
       "      <td>0:10:00</td>\n",
       "      <td>0:01:39</td>\n",
       "      <td>0:10:00</td>\n",
       "      <td>0:03:07</td>\n",
       "      <td></td>\n",
       "      <td></td>\n",
       "      <td>00:10:00</td>\n",
       "      <td>00:01:39</td>\n",
       "      <td>00:10:00</td>\n",
       "      <td>00:03:07</td>\n",
       "    </tr>\n",
       "    <tr>\n",
       "      <td>4</td>\n",
       "      <td>Rated Rapid tournament https://lichess.org/tou...</td>\n",
       "      <td>https://lichess.org/TECTBYsk</td>\n",
       "      <td>Violin_And_Viola</td>\n",
       "      <td>fasterfourier</td>\n",
       "      <td>1-0</td>\n",
       "      <td>2019.09.01</td>\n",
       "      <td>00:00:04</td>\n",
       "      <td>1683</td>\n",
       "      <td>1502</td>\n",
       "      <td>6</td>\n",
       "      <td>...</td>\n",
       "      <td>0:10:00</td>\n",
       "      <td>0:07:49</td>\n",
       "      <td>0:10:00</td>\n",
       "      <td>0:07:27</td>\n",
       "      <td></td>\n",
       "      <td></td>\n",
       "      <td>00:10:00</td>\n",
       "      <td>00:07:49</td>\n",
       "      <td>00:10:00</td>\n",
       "      <td>00:07:27</td>\n",
       "    </tr>\n",
       "    <tr>\n",
       "      <td>...</td>\n",
       "      <td>...</td>\n",
       "      <td>...</td>\n",
       "      <td>...</td>\n",
       "      <td>...</td>\n",
       "      <td>...</td>\n",
       "      <td>...</td>\n",
       "      <td>...</td>\n",
       "      <td>...</td>\n",
       "      <td>...</td>\n",
       "      <td>...</td>\n",
       "      <td>...</td>\n",
       "      <td>...</td>\n",
       "      <td>...</td>\n",
       "      <td>...</td>\n",
       "      <td>...</td>\n",
       "      <td>...</td>\n",
       "      <td>...</td>\n",
       "      <td>...</td>\n",
       "      <td>...</td>\n",
       "      <td>...</td>\n",
       "      <td>...</td>\n",
       "    </tr>\n",
       "    <tr>\n",
       "      <td>384200</td>\n",
       "      <td>Rated Blitz game</td>\n",
       "      <td>https://lichess.org/QVW0gqAY</td>\n",
       "      <td>Kapwenge</td>\n",
       "      <td>Shubham18</td>\n",
       "      <td>1-0</td>\n",
       "      <td>2019.09.01</td>\n",
       "      <td>06:14:02</td>\n",
       "      <td>1629</td>\n",
       "      <td>1644</td>\n",
       "      <td>8</td>\n",
       "      <td>...</td>\n",
       "      <td>0:05:00</td>\n",
       "      <td>0:02:02</td>\n",
       "      <td>0:05:00</td>\n",
       "      <td>0:01:10</td>\n",
       "      <td></td>\n",
       "      <td></td>\n",
       "      <td>00:05:00</td>\n",
       "      <td>00:02:02</td>\n",
       "      <td>00:05:00</td>\n",
       "      <td>00:01:10</td>\n",
       "    </tr>\n",
       "    <tr>\n",
       "      <td>384201</td>\n",
       "      <td>Rated Blitz game</td>\n",
       "      <td>https://lichess.org/Kaz8VE91</td>\n",
       "      <td>Garoe1987</td>\n",
       "      <td>StreetChessKing</td>\n",
       "      <td>1-0</td>\n",
       "      <td>2019.09.01</td>\n",
       "      <td>06:14:03</td>\n",
       "      <td>1635</td>\n",
       "      <td>927</td>\n",
       "      <td>1</td>\n",
       "      <td>...</td>\n",
       "      <td>0:04:00</td>\n",
       "      <td>0:02:35</td>\n",
       "      <td>0:04:00</td>\n",
       "      <td>0:02:19</td>\n",
       "      <td></td>\n",
       "      <td></td>\n",
       "      <td>00:04:00</td>\n",
       "      <td>00:02:35</td>\n",
       "      <td>00:04:00</td>\n",
       "      <td>00:02:19</td>\n",
       "    </tr>\n",
       "    <tr>\n",
       "      <td>384202</td>\n",
       "      <td>Rated Blitz game</td>\n",
       "      <td>https://lichess.org/tTj6VvXq</td>\n",
       "      <td>airat1983</td>\n",
       "      <td>gudiaz</td>\n",
       "      <td>1-0</td>\n",
       "      <td>2019.09.01</td>\n",
       "      <td>06:14:03</td>\n",
       "      <td>1826</td>\n",
       "      <td>1703</td>\n",
       "      <td>5</td>\n",
       "      <td>...</td>\n",
       "      <td>0:03:00</td>\n",
       "      <td>0:00:42</td>\n",
       "      <td>0:03:00</td>\n",
       "      <td>0:00:02</td>\n",
       "      <td></td>\n",
       "      <td></td>\n",
       "      <td>00:03:00</td>\n",
       "      <td>00:00:42</td>\n",
       "      <td>00:03:00</td>\n",
       "      <td>00:00:02</td>\n",
       "    </tr>\n",
       "    <tr>\n",
       "      <td>384203</td>\n",
       "      <td>Rated Blitz game</td>\n",
       "      <td>https://lichess.org/EG7JMU29</td>\n",
       "      <td>javad1996</td>\n",
       "      <td>ercins71</td>\n",
       "      <td>0-1</td>\n",
       "      <td>2019.09.01</td>\n",
       "      <td>06:14:03</td>\n",
       "      <td>1807</td>\n",
       "      <td>1846</td>\n",
       "      <td>-6</td>\n",
       "      <td>...</td>\n",
       "      <td>0:03:00</td>\n",
       "      <td>0:00:01</td>\n",
       "      <td>0:03:00</td>\n",
       "      <td>0:00:41</td>\n",
       "      <td></td>\n",
       "      <td></td>\n",
       "      <td>00:03:00</td>\n",
       "      <td>00:00:01</td>\n",
       "      <td>00:03:00</td>\n",
       "      <td>00:00:41</td>\n",
       "    </tr>\n",
       "    <tr>\n",
       "      <td>384204</td>\n",
       "      <td>Rated Blitz game</td>\n",
       "      <td>https://lichess.org/QBNXGIup</td>\n",
       "      <td>siamak3254</td>\n",
       "      <td>javasox</td>\n",
       "      <td>1-0</td>\n",
       "      <td>2019.09.01</td>\n",
       "      <td>06:14:03</td>\n",
       "      <td>1939</td>\n",
       "      <td>1994</td>\n",
       "      <td>8</td>\n",
       "      <td>...</td>\n",
       "      <td>0:03:00</td>\n",
       "      <td>0:00:00</td>\n",
       "      <td>0:03:00</td>\n",
       "      <td>0:00:02</td>\n",
       "      <td></td>\n",
       "      <td></td>\n",
       "      <td>00:03:00</td>\n",
       "      <td>00:00:00</td>\n",
       "      <td>00:03:00</td>\n",
       "      <td>00:00:02</td>\n",
       "    </tr>\n",
       "  </tbody>\n",
       "</table>\n",
       "<p>382684 rows × 27 columns</p>\n",
       "</div>"
      ],
      "text/plain": [
       "                                                    Event  \\\n",
       "0       Rated Rapid tournament https://lichess.org/tou...   \n",
       "1       Rated Blitz tournament https://lichess.org/tou...   \n",
       "2       Rated Rapid tournament https://lichess.org/tou...   \n",
       "3       Rated Rapid tournament https://lichess.org/tou...   \n",
       "4       Rated Rapid tournament https://lichess.org/tou...   \n",
       "...                                                   ...   \n",
       "384200                                   Rated Blitz game   \n",
       "384201                                   Rated Blitz game   \n",
       "384202                                   Rated Blitz game   \n",
       "384203                                   Rated Blitz game   \n",
       "384204                                   Rated Blitz game   \n",
       "\n",
       "                                Site             White            Black  \\\n",
       "0       https://lichess.org/224ifIC9           Dikeuss       hikarufans   \n",
       "1       https://lichess.org/JRbFTTJX      skankhunt593           Wosito   \n",
       "2       https://lichess.org/TDlv0AjR          strompur      alchemist48   \n",
       "3       https://lichess.org/9HriX6Rx             Geroz       ficher2016   \n",
       "4       https://lichess.org/TECTBYsk  Violin_And_Viola    fasterfourier   \n",
       "...                              ...               ...              ...   \n",
       "384200  https://lichess.org/QVW0gqAY          Kapwenge        Shubham18   \n",
       "384201  https://lichess.org/Kaz8VE91         Garoe1987  StreetChessKing   \n",
       "384202  https://lichess.org/tTj6VvXq         airat1983           gudiaz   \n",
       "384203  https://lichess.org/EG7JMU29         javad1996         ercins71   \n",
       "384204  https://lichess.org/QBNXGIup        siamak3254          javasox   \n",
       "\n",
       "       Result     UTCDate   UTCTime  WhiteElo  BlackElo  WhiteRatingDiff  ...  \\\n",
       "0         1-0  2019.09.01  00:00:04      1817      1806                7  ...   \n",
       "1         1-0  2019.09.01  00:00:04      1491      1419                6  ...   \n",
       "2         1-0  2019.09.01  00:00:04      2145      2015                4  ...   \n",
       "3         1-0  2019.09.01  00:00:04      1702      1695               17  ...   \n",
       "4         1-0  2019.09.01  00:00:04      1683      1502                6  ...   \n",
       "...       ...         ...       ...       ...       ...              ...  ...   \n",
       "384200    1-0  2019.09.01  06:14:02      1629      1644                8  ...   \n",
       "384201    1-0  2019.09.01  06:14:03      1635       927                1  ...   \n",
       "384202    1-0  2019.09.01  06:14:03      1826      1703                5  ...   \n",
       "384203    0-1  2019.09.01  06:14:03      1807      1846               -6  ...   \n",
       "384204    1-0  2019.09.01  06:14:03      1939      1994                8  ...   \n",
       "\n",
       "        RemTimeAftFirstMoveWhite  RemTimeAftLastMoveWhite  \\\n",
       "0                        0:05:00                  0:01:20   \n",
       "1                        0:03:00                  0:00:01   \n",
       "2                        0:10:00                  0:04:41   \n",
       "3                        0:10:00                  0:01:39   \n",
       "4                        0:10:00                  0:07:49   \n",
       "...                          ...                      ...   \n",
       "384200                   0:05:00                  0:02:02   \n",
       "384201                   0:04:00                  0:02:35   \n",
       "384202                   0:03:00                  0:00:42   \n",
       "384203                   0:03:00                  0:00:01   \n",
       "384204                   0:03:00                  0:00:00   \n",
       "\n",
       "       RemTimeAftFirstMoveBlack RemTimeAftLastMoveBlack WhiteTotalEval  \\\n",
       "0                       0:10:00                 0:03:34                  \n",
       "1                       0:03:00                 0:00:00                  \n",
       "2                       0:10:00                 0:04:09                  \n",
       "3                       0:10:00                 0:03:07                  \n",
       "4                       0:10:00                 0:07:27                  \n",
       "...                         ...                     ...            ...   \n",
       "384200                  0:05:00                 0:01:10                  \n",
       "384201                  0:04:00                 0:02:19                  \n",
       "384202                  0:03:00                 0:00:02                  \n",
       "384203                  0:03:00                 0:00:41                  \n",
       "384204                  0:03:00                 0:00:02                  \n",
       "\n",
       "       BlackTotalEval         a         b         c         d  \n",
       "0                      00:05:00  00:01:20  00:10:00  00:03:34  \n",
       "1                      00:03:00  00:00:01  00:03:00  00:00:00  \n",
       "2                      00:10:00  00:04:41  00:10:00  00:04:09  \n",
       "3                      00:10:00  00:01:39  00:10:00  00:03:07  \n",
       "4                      00:10:00  00:07:49  00:10:00  00:07:27  \n",
       "...               ...       ...       ...       ...       ...  \n",
       "384200                 00:05:00  00:02:02  00:05:00  00:01:10  \n",
       "384201                 00:04:00  00:02:35  00:04:00  00:02:19  \n",
       "384202                 00:03:00  00:00:42  00:03:00  00:00:02  \n",
       "384203                 00:03:00  00:00:01  00:03:00  00:00:41  \n",
       "384204                 00:03:00  00:00:00  00:03:00  00:00:02  \n",
       "\n",
       "[382684 rows x 27 columns]"
      ]
     },
     "execution_count": 417,
     "metadata": {},
     "output_type": "execute_result"
    }
   ],
   "source": [
    "bData"
   ]
  },
  {
   "cell_type": "code",
   "execution_count": 408,
   "metadata": {},
   "outputs": [],
   "source": [
    "bData.drop(bData[bData['RemTimeAftFirstMoveWhite']==''].index, inplace = True)\n",
    "bData.drop(bData[bData['RemTimeAftLastMoveWhite']==''].index, inplace = True)\n",
    "bData.drop(bData[bData['RemTimeAftFirstMoveBlack']==''].index, inplace = True)\n",
    "bData.drop(bData[bData['RemTimeAftLastMoveBlack']==''].index, inplace = True)"
   ]
  },
  {
   "cell_type": "code",
   "execution_count": 409,
   "metadata": {
    "scrolled": true
   },
   "outputs": [],
   "source": [
    "bData['a'] = pd.to_datetime(bData['RemTimeAftFirstMoveWhite'],format= '%H:%M:%S').dt.time"
   ]
  },
  {
   "cell_type": "code",
   "execution_count": 411,
   "metadata": {},
   "outputs": [],
   "source": [
    "bData['b'] = pd.to_datetime(bData['RemTimeAftLastMoveWhite'],format= '%H:%M:%S').dt.time\n",
    "bData['c'] = pd.to_datetime(bData['RemTimeAftFirstMoveBlack'],format= '%H:%M:%S').dt.time\n",
    "bData['d'] = pd.to_datetime(bData['RemTimeAftLastMoveBlack'],format= '%H:%M:%S').dt.time"
   ]
  },
  {
   "cell_type": "code",
   "execution_count": 419,
   "metadata": {},
   "outputs": [
    {
     "data": {
      "text/plain": [
       "Event                        object\n",
       "Site                         object\n",
       "White                        object\n",
       "Black                        object\n",
       "Result                       object\n",
       "UTCDate                      object\n",
       "UTCTime                      object\n",
       "WhiteElo                      int64\n",
       "BlackElo                      int64\n",
       "WhiteRatingDiff               int64\n",
       "BlackRatingDiff               int64\n",
       "WhiteTitle                  float64\n",
       "ECO                          object\n",
       "Opening                      object\n",
       "TimeControl                  object\n",
       "Termination                  object\n",
       "Moves                        object\n",
       "RemTimeAftFirstMoveWhite     object\n",
       "RemTimeAftLastMoveWhite      object\n",
       "RemTimeAftFirstMoveBlack     object\n",
       "RemTimeAftLastMoveBlack      object\n",
       "WhiteTotalEval               object\n",
       "BlackTotalEval               object\n",
       "a                            object\n",
       "b                            object\n",
       "c                            object\n",
       "d                            object\n",
       "dtype: object"
      ]
     },
     "execution_count": 419,
     "metadata": {},
     "output_type": "execute_result"
    }
   ],
   "source": [
    "bData.dtypes"
   ]
  },
  {
   "cell_type": "code",
   "execution_count": 422,
   "metadata": {
    "collapsed": true
   },
   "outputs": [
    {
     "ename": "ValueError",
     "evalue": "Invalid type for timedelta scalar: <class 'datetime.time'>",
     "output_type": "error",
     "traceback": [
      "\u001b[1;31m---------------------------------------------------------------------------\u001b[0m",
      "\u001b[1;31mTypeError\u001b[0m                                 Traceback (most recent call last)",
      "\u001b[1;32mpandas\\_libs\\tslibs\\timedeltas.pyx\u001b[0m in \u001b[0;36mpandas._libs.tslibs.timedeltas.array_to_timedelta64\u001b[1;34m()\u001b[0m\n",
      "\u001b[1;32mpandas\\_libs\\tslibs\\timedeltas.pyx\u001b[0m in \u001b[0;36mpandas._libs.tslibs.timedeltas.parse_timedelta_string\u001b[1;34m()\u001b[0m\n",
      "\u001b[1;31mTypeError\u001b[0m: object of type 'datetime.time' has no len()",
      "\nDuring handling of the above exception, another exception occurred:\n",
      "\u001b[1;31mValueError\u001b[0m                                Traceback (most recent call last)",
      "\u001b[1;32m<ipython-input-422-f43390ccfaf5>\u001b[0m in \u001b[0;36m<module>\u001b[1;34m\u001b[0m\n\u001b[1;32m----> 1\u001b[1;33m \u001b[0mpd\u001b[0m\u001b[1;33m.\u001b[0m\u001b[0mto_timedelta\u001b[0m\u001b[1;33m(\u001b[0m\u001b[0mbData\u001b[0m\u001b[1;33m[\u001b[0m\u001b[1;34m'a'\u001b[0m\u001b[1;33m]\u001b[0m\u001b[1;33m,\u001b[0m \u001b[0munit\u001b[0m\u001b[1;33m=\u001b[0m\u001b[1;34m's'\u001b[0m\u001b[1;33m)\u001b[0m\u001b[1;33m\u001b[0m\u001b[1;33m\u001b[0m\u001b[0m\n\u001b[0m",
      "\u001b[1;32m~\\Anaconda3\\lib\\site-packages\\pandas\\util\\_decorators.py\u001b[0m in \u001b[0;36mwrapper\u001b[1;34m(*args, **kwargs)\u001b[0m\n\u001b[0;32m    206\u001b[0m                 \u001b[1;32melse\u001b[0m\u001b[1;33m:\u001b[0m\u001b[1;33m\u001b[0m\u001b[1;33m\u001b[0m\u001b[0m\n\u001b[0;32m    207\u001b[0m                     \u001b[0mkwargs\u001b[0m\u001b[1;33m[\u001b[0m\u001b[0mnew_arg_name\u001b[0m\u001b[1;33m]\u001b[0m \u001b[1;33m=\u001b[0m \u001b[0mnew_arg_value\u001b[0m\u001b[1;33m\u001b[0m\u001b[1;33m\u001b[0m\u001b[0m\n\u001b[1;32m--> 208\u001b[1;33m             \u001b[1;32mreturn\u001b[0m \u001b[0mfunc\u001b[0m\u001b[1;33m(\u001b[0m\u001b[1;33m*\u001b[0m\u001b[0margs\u001b[0m\u001b[1;33m,\u001b[0m \u001b[1;33m**\u001b[0m\u001b[0mkwargs\u001b[0m\u001b[1;33m)\u001b[0m\u001b[1;33m\u001b[0m\u001b[1;33m\u001b[0m\u001b[0m\n\u001b[0m\u001b[0;32m    209\u001b[0m \u001b[1;33m\u001b[0m\u001b[0m\n\u001b[0;32m    210\u001b[0m         \u001b[1;32mreturn\u001b[0m \u001b[0mwrapper\u001b[0m\u001b[1;33m\u001b[0m\u001b[1;33m\u001b[0m\u001b[0m\n",
      "\u001b[1;32m~\\Anaconda3\\lib\\site-packages\\pandas\\core\\tools\\timedeltas.py\u001b[0m in \u001b[0;36mto_timedelta\u001b[1;34m(arg, unit, box, errors)\u001b[0m\n\u001b[0;32m    110\u001b[0m         \u001b[1;32mreturn\u001b[0m \u001b[0marg\u001b[0m\u001b[1;33m\u001b[0m\u001b[1;33m\u001b[0m\u001b[0m\n\u001b[0;32m    111\u001b[0m     \u001b[1;32melif\u001b[0m \u001b[0misinstance\u001b[0m\u001b[1;33m(\u001b[0m\u001b[0marg\u001b[0m\u001b[1;33m,\u001b[0m \u001b[0mABCSeries\u001b[0m\u001b[1;33m)\u001b[0m\u001b[1;33m:\u001b[0m\u001b[1;33m\u001b[0m\u001b[1;33m\u001b[0m\u001b[0m\n\u001b[1;32m--> 112\u001b[1;33m         \u001b[0mvalues\u001b[0m \u001b[1;33m=\u001b[0m \u001b[0m_convert_listlike\u001b[0m\u001b[1;33m(\u001b[0m\u001b[0marg\u001b[0m\u001b[1;33m.\u001b[0m\u001b[0m_values\u001b[0m\u001b[1;33m,\u001b[0m \u001b[0munit\u001b[0m\u001b[1;33m=\u001b[0m\u001b[0munit\u001b[0m\u001b[1;33m,\u001b[0m \u001b[0mbox\u001b[0m\u001b[1;33m=\u001b[0m\u001b[1;32mFalse\u001b[0m\u001b[1;33m,\u001b[0m \u001b[0merrors\u001b[0m\u001b[1;33m=\u001b[0m\u001b[0merrors\u001b[0m\u001b[1;33m)\u001b[0m\u001b[1;33m\u001b[0m\u001b[1;33m\u001b[0m\u001b[0m\n\u001b[0m\u001b[0;32m    113\u001b[0m         \u001b[1;32mreturn\u001b[0m \u001b[0marg\u001b[0m\u001b[1;33m.\u001b[0m\u001b[0m_constructor\u001b[0m\u001b[1;33m(\u001b[0m\u001b[0mvalues\u001b[0m\u001b[1;33m,\u001b[0m \u001b[0mindex\u001b[0m\u001b[1;33m=\u001b[0m\u001b[0marg\u001b[0m\u001b[1;33m.\u001b[0m\u001b[0mindex\u001b[0m\u001b[1;33m,\u001b[0m \u001b[0mname\u001b[0m\u001b[1;33m=\u001b[0m\u001b[0marg\u001b[0m\u001b[1;33m.\u001b[0m\u001b[0mname\u001b[0m\u001b[1;33m)\u001b[0m\u001b[1;33m\u001b[0m\u001b[1;33m\u001b[0m\u001b[0m\n\u001b[0;32m    114\u001b[0m     \u001b[1;32melif\u001b[0m \u001b[0misinstance\u001b[0m\u001b[1;33m(\u001b[0m\u001b[0marg\u001b[0m\u001b[1;33m,\u001b[0m \u001b[0mABCIndexClass\u001b[0m\u001b[1;33m)\u001b[0m\u001b[1;33m:\u001b[0m\u001b[1;33m\u001b[0m\u001b[1;33m\u001b[0m\u001b[0m\n",
      "\u001b[1;32m~\\Anaconda3\\lib\\site-packages\\pandas\\core\\tools\\timedeltas.py\u001b[0m in \u001b[0;36m_convert_listlike\u001b[1;34m(arg, unit, box, errors, name)\u001b[0m\n\u001b[0;32m    159\u001b[0m \u001b[1;33m\u001b[0m\u001b[0m\n\u001b[0;32m    160\u001b[0m     \u001b[1;32mtry\u001b[0m\u001b[1;33m:\u001b[0m\u001b[1;33m\u001b[0m\u001b[1;33m\u001b[0m\u001b[0m\n\u001b[1;32m--> 161\u001b[1;33m         \u001b[0mvalue\u001b[0m \u001b[1;33m=\u001b[0m \u001b[0msequence_to_td64ns\u001b[0m\u001b[1;33m(\u001b[0m\u001b[0marg\u001b[0m\u001b[1;33m,\u001b[0m \u001b[0munit\u001b[0m\u001b[1;33m=\u001b[0m\u001b[0munit\u001b[0m\u001b[1;33m,\u001b[0m \u001b[0merrors\u001b[0m\u001b[1;33m=\u001b[0m\u001b[0merrors\u001b[0m\u001b[1;33m,\u001b[0m \u001b[0mcopy\u001b[0m\u001b[1;33m=\u001b[0m\u001b[1;32mFalse\u001b[0m\u001b[1;33m)\u001b[0m\u001b[1;33m[\u001b[0m\u001b[1;36m0\u001b[0m\u001b[1;33m]\u001b[0m\u001b[1;33m\u001b[0m\u001b[1;33m\u001b[0m\u001b[0m\n\u001b[0m\u001b[0;32m    162\u001b[0m     \u001b[1;32mexcept\u001b[0m \u001b[0mValueError\u001b[0m\u001b[1;33m:\u001b[0m\u001b[1;33m\u001b[0m\u001b[1;33m\u001b[0m\u001b[0m\n\u001b[0;32m    163\u001b[0m         \u001b[1;32mif\u001b[0m \u001b[0merrors\u001b[0m \u001b[1;33m==\u001b[0m \u001b[1;34m\"ignore\"\u001b[0m\u001b[1;33m:\u001b[0m\u001b[1;33m\u001b[0m\u001b[1;33m\u001b[0m\u001b[0m\n",
      "\u001b[1;32m~\\Anaconda3\\lib\\site-packages\\pandas\\core\\arrays\\timedeltas.py\u001b[0m in \u001b[0;36msequence_to_td64ns\u001b[1;34m(data, copy, unit, errors)\u001b[0m\n\u001b[0;32m    971\u001b[0m     \u001b[1;32mif\u001b[0m \u001b[0mis_object_dtype\u001b[0m\u001b[1;33m(\u001b[0m\u001b[0mdata\u001b[0m\u001b[1;33m.\u001b[0m\u001b[0mdtype\u001b[0m\u001b[1;33m)\u001b[0m \u001b[1;32mor\u001b[0m \u001b[0mis_string_dtype\u001b[0m\u001b[1;33m(\u001b[0m\u001b[0mdata\u001b[0m\u001b[1;33m.\u001b[0m\u001b[0mdtype\u001b[0m\u001b[1;33m)\u001b[0m\u001b[1;33m:\u001b[0m\u001b[1;33m\u001b[0m\u001b[1;33m\u001b[0m\u001b[0m\n\u001b[0;32m    972\u001b[0m         \u001b[1;31m# no need to make a copy, need to convert if string-dtyped\u001b[0m\u001b[1;33m\u001b[0m\u001b[1;33m\u001b[0m\u001b[1;33m\u001b[0m\u001b[0m\n\u001b[1;32m--> 973\u001b[1;33m         \u001b[0mdata\u001b[0m \u001b[1;33m=\u001b[0m \u001b[0mobjects_to_td64ns\u001b[0m\u001b[1;33m(\u001b[0m\u001b[0mdata\u001b[0m\u001b[1;33m,\u001b[0m \u001b[0munit\u001b[0m\u001b[1;33m=\u001b[0m\u001b[0munit\u001b[0m\u001b[1;33m,\u001b[0m \u001b[0merrors\u001b[0m\u001b[1;33m=\u001b[0m\u001b[0merrors\u001b[0m\u001b[1;33m)\u001b[0m\u001b[1;33m\u001b[0m\u001b[1;33m\u001b[0m\u001b[0m\n\u001b[0m\u001b[0;32m    974\u001b[0m         \u001b[0mcopy\u001b[0m \u001b[1;33m=\u001b[0m \u001b[1;32mFalse\u001b[0m\u001b[1;33m\u001b[0m\u001b[1;33m\u001b[0m\u001b[0m\n\u001b[0;32m    975\u001b[0m \u001b[1;33m\u001b[0m\u001b[0m\n",
      "\u001b[1;32m~\\Anaconda3\\lib\\site-packages\\pandas\\core\\arrays\\timedeltas.py\u001b[0m in \u001b[0;36mobjects_to_td64ns\u001b[1;34m(data, unit, errors)\u001b[0m\n\u001b[0;32m   1096\u001b[0m     \u001b[0mvalues\u001b[0m \u001b[1;33m=\u001b[0m \u001b[0mnp\u001b[0m\u001b[1;33m.\u001b[0m\u001b[0marray\u001b[0m\u001b[1;33m(\u001b[0m\u001b[0mdata\u001b[0m\u001b[1;33m,\u001b[0m \u001b[0mdtype\u001b[0m\u001b[1;33m=\u001b[0m\u001b[0mnp\u001b[0m\u001b[1;33m.\u001b[0m\u001b[0mobject_\u001b[0m\u001b[1;33m,\u001b[0m \u001b[0mcopy\u001b[0m\u001b[1;33m=\u001b[0m\u001b[1;32mFalse\u001b[0m\u001b[1;33m)\u001b[0m\u001b[1;33m\u001b[0m\u001b[1;33m\u001b[0m\u001b[0m\n\u001b[0;32m   1097\u001b[0m \u001b[1;33m\u001b[0m\u001b[0m\n\u001b[1;32m-> 1098\u001b[1;33m     \u001b[0mresult\u001b[0m \u001b[1;33m=\u001b[0m \u001b[0marray_to_timedelta64\u001b[0m\u001b[1;33m(\u001b[0m\u001b[0mvalues\u001b[0m\u001b[1;33m,\u001b[0m \u001b[0munit\u001b[0m\u001b[1;33m=\u001b[0m\u001b[0munit\u001b[0m\u001b[1;33m,\u001b[0m \u001b[0merrors\u001b[0m\u001b[1;33m=\u001b[0m\u001b[0merrors\u001b[0m\u001b[1;33m)\u001b[0m\u001b[1;33m\u001b[0m\u001b[1;33m\u001b[0m\u001b[0m\n\u001b[0m\u001b[0;32m   1099\u001b[0m     \u001b[1;32mreturn\u001b[0m \u001b[0mresult\u001b[0m\u001b[1;33m.\u001b[0m\u001b[0mview\u001b[0m\u001b[1;33m(\u001b[0m\u001b[1;34m\"timedelta64[ns]\"\u001b[0m\u001b[1;33m)\u001b[0m\u001b[1;33m\u001b[0m\u001b[1;33m\u001b[0m\u001b[0m\n\u001b[0;32m   1100\u001b[0m \u001b[1;33m\u001b[0m\u001b[0m\n",
      "\u001b[1;32mpandas\\_libs\\tslibs\\timedeltas.pyx\u001b[0m in \u001b[0;36mpandas._libs.tslibs.timedeltas.array_to_timedelta64\u001b[1;34m()\u001b[0m\n",
      "\u001b[1;32mpandas\\_libs\\tslibs\\timedeltas.pyx\u001b[0m in \u001b[0;36mpandas._libs.tslibs.timedeltas.array_to_timedelta64\u001b[1;34m()\u001b[0m\n",
      "\u001b[1;32mpandas\\_libs\\tslibs\\timedeltas.pyx\u001b[0m in \u001b[0;36mpandas._libs.tslibs.timedeltas.convert_to_timedelta64\u001b[1;34m()\u001b[0m\n",
      "\u001b[1;31mValueError\u001b[0m: Invalid type for timedelta scalar: <class 'datetime.time'>"
     ]
    }
   ],
   "source": [
    "pd.to_timedelta(bData['a'], unit='s')"
   ]
  },
  {
   "cell_type": "code",
   "execution_count": null,
   "metadata": {},
   "outputs": [],
   "source": []
  },
  {
   "cell_type": "code",
   "execution_count": null,
   "metadata": {},
   "outputs": [],
   "source": []
  },
  {
   "cell_type": "code",
   "execution_count": 356,
   "metadata": {},
   "outputs": [
    {
     "ename": "ValueError",
     "evalue": "invalid unit abbreviation: \n",
     "output_type": "error",
     "traceback": [
      "\u001b[1;31m---------------------------------------------------------------------------\u001b[0m",
      "\u001b[1;31mKeyError\u001b[0m                                  Traceback (most recent call last)",
      "\u001b[1;32mpandas\\_libs\\tslibs\\timedeltas.pyx\u001b[0m in \u001b[0;36mpandas._libs.tslibs.timedeltas.parse_timedelta_unit\u001b[1;34m()\u001b[0m\n",
      "\u001b[1;31mKeyError\u001b[0m: '\\n'",
      "\nDuring handling of the above exception, another exception occurred:\n",
      "\u001b[1;31mValueError\u001b[0m                                Traceback (most recent call last)",
      "\u001b[1;32m<ipython-input-356-53945871acf5>\u001b[0m in \u001b[0;36m<module>\u001b[1;34m\u001b[0m\n\u001b[1;32m----> 1\u001b[1;33m \u001b[0mpd\u001b[0m\u001b[1;33m.\u001b[0m\u001b[0mTimedelta\u001b[0m\u001b[1;33m(\u001b[0m\u001b[0mstr\u001b[0m\u001b[1;33m(\u001b[0m\u001b[0mbData\u001b[0m\u001b[1;33m[\u001b[0m\u001b[1;34m'RemTimeAftFirstMoveWhite'\u001b[0m\u001b[1;33m]\u001b[0m\u001b[1;33m)\u001b[0m\u001b[1;33m)\u001b[0m\u001b[1;33m.\u001b[0m\u001b[0mseconds\u001b[0m\u001b[1;33m\u001b[0m\u001b[1;33m\u001b[0m\u001b[0m\n\u001b[0m",
      "\u001b[1;32mpandas\\_libs\\tslibs\\timedeltas.pyx\u001b[0m in \u001b[0;36mpandas._libs.tslibs.timedeltas.Timedelta.__new__\u001b[1;34m()\u001b[0m\n",
      "\u001b[1;32mpandas\\_libs\\tslibs\\timedeltas.pyx\u001b[0m in \u001b[0;36mpandas._libs.tslibs.timedeltas.parse_timedelta_string\u001b[1;34m()\u001b[0m\n",
      "\u001b[1;32mpandas\\_libs\\tslibs\\timedeltas.pyx\u001b[0m in \u001b[0;36mpandas._libs.tslibs.timedeltas.timedelta_from_spec\u001b[1;34m()\u001b[0m\n",
      "\u001b[1;32mpandas\\_libs\\tslibs\\timedeltas.pyx\u001b[0m in \u001b[0;36mpandas._libs.tslibs.timedeltas.parse_timedelta_unit\u001b[1;34m()\u001b[0m\n",
      "\u001b[1;31mValueError\u001b[0m: invalid unit abbreviation: \n"
     ]
    }
   ],
   "source": [
    "pd.Timedelta(str(bData['RemTimeAftFirstMoveWhite'])).seconds"
   ]
  },
  {
   "cell_type": "code",
   "execution_count": 367,
   "metadata": {},
   "outputs": [
    {
     "ename": "ValueError",
     "evalue": "Value must be Timedelta, string, integer, float, timedelta or convertible",
     "output_type": "error",
     "traceback": [
      "\u001b[1;31m---------------------------------------------------------------------------\u001b[0m",
      "\u001b[1;31mValueError\u001b[0m                                Traceback (most recent call last)",
      "\u001b[1;32m<ipython-input-367-cc3f69ee9f4d>\u001b[0m in \u001b[0;36m<module>\u001b[1;34m\u001b[0m\n\u001b[1;32m----> 1\u001b[1;33m \u001b[0mpd\u001b[0m\u001b[1;33m.\u001b[0m\u001b[0mTimedelta\u001b[0m\u001b[1;33m(\u001b[0m\u001b[0mbData\u001b[0m\u001b[1;33m[\u001b[0m\u001b[1;34m'RemTimeAftFirstMoveWhite'\u001b[0m\u001b[1;33m]\u001b[0m\u001b[1;33m)\u001b[0m\u001b[1;33m.\u001b[0m\u001b[0mseconds\u001b[0m\u001b[1;33m\u001b[0m\u001b[1;33m\u001b[0m\u001b[0m\n\u001b[0m",
      "\u001b[1;32mpandas\\_libs\\tslibs\\timedeltas.pyx\u001b[0m in \u001b[0;36mpandas._libs.tslibs.timedeltas.Timedelta.__new__\u001b[1;34m()\u001b[0m\n",
      "\u001b[1;31mValueError\u001b[0m: Value must be Timedelta, string, integer, float, timedelta or convertible"
     ]
    }
   ],
   "source": [
    "pd.Timedelta(bData['RemTimeAftFirstMoveWhite']).seconds"
   ]
  },
  {
   "cell_type": "code",
   "execution_count": null,
   "metadata": {},
   "outputs": [],
   "source": []
  },
  {
   "cell_type": "markdown",
   "metadata": {},
   "source": [
    "<h2>Upsets<h2>"
   ]
  },
  {
   "cell_type": "code",
   "execution_count": 357,
   "metadata": {},
   "outputs": [
    {
     "data": {
      "text/plain": [
       "(23271, 53)"
      ]
     },
     "execution_count": 357,
     "metadata": {},
     "output_type": "execute_result"
    }
   ],
   "source": [
    "irData.shape"
   ]
  },
  {
   "cell_type": "code",
   "execution_count": 358,
   "metadata": {},
   "outputs": [],
   "source": [
    "irData['isUpset']=0"
   ]
  },
  {
   "cell_type": "code",
   "execution_count": 360,
   "metadata": {},
   "outputs": [
    {
     "name": "stderr",
     "output_type": "stream",
     "text": [
      "C:\\Users\\ujwal\\Anaconda3\\lib\\site-packages\\ipykernel_launcher.py:7: SettingWithCopyWarning: \n",
      "A value is trying to be set on a copy of a slice from a DataFrame\n",
      "\n",
      "See the caveats in the documentation: http://pandas.pydata.org/pandas-docs/stable/user_guide/indexing.html#returning-a-view-versus-a-copy\n",
      "  import sys\n",
      "C:\\Users\\ujwal\\Anaconda3\\lib\\site-packages\\ipykernel_launcher.py:4: SettingWithCopyWarning: \n",
      "A value is trying to be set on a copy of a slice from a DataFrame\n",
      "\n",
      "See the caveats in the documentation: http://pandas.pydata.org/pandas-docs/stable/user_guide/indexing.html#returning-a-view-versus-a-copy\n",
      "  after removing the cwd from sys.path.\n"
     ]
    }
   ],
   "source": [
    "for i in range(0,len(irData)):\n",
    "    if irData['Result'][i]== 0:\n",
    "        if irData['BlackElo'][i]<irData['WhiteElo'][i]:\n",
    "            irData['isUpset'][i]=1\n",
    "    if irData['Result'][i]== 1:\n",
    "        if irData['BlackElo'][i]>irData['WhiteElo'][i]:\n",
    "            irData['isUpset'][i]=1"
   ]
  },
  {
   "cell_type": "code",
   "execution_count": 374,
   "metadata": {},
   "outputs": [],
   "source": [
    "upsetData = irData.copy()"
   ]
  },
  {
   "cell_type": "code",
   "execution_count": 375,
   "metadata": {
    "collapsed": true
   },
   "outputs": [
    {
     "data": {
      "text/plain": [
       "Result                        int32\n",
       "WhiteElo                      int64\n",
       "BlackElo                      int64\n",
       "WhiteRatingDiff               int64\n",
       "BlackRatingDiff               int64\n",
       "ECO                           int32\n",
       "TimeControl                   int32\n",
       "Termination                   int32\n",
       "Moves                        object\n",
       "GameType                      int32\n",
       "MovesCount                    int32\n",
       "WhiteCaptured                 int32\n",
       "BlackCaptured                 int32\n",
       "EloDifference                 int32\n",
       "RemTimeAftFirstMoveWhite      int32\n",
       "RemTimeAftLastMoveWhite       int32\n",
       "RemTimeAftFirstMoveBlack      int32\n",
       "RemTimeAftLastMoveBlack       int32\n",
       "WhiteTotalEval              float64\n",
       "BlackTotalEval              float64\n",
       "GoodMoveWhite                 int64\n",
       "MistakeWhite                  int64\n",
       "BrilliantMoveWhite            int64\n",
       "BlunderWhite                  int64\n",
       "InterestingMoveWhite          int64\n",
       "DubiousMoveWhite              int64\n",
       "GoodMoveBlack                 int64\n",
       "MistakeBlack                  int64\n",
       "BrilliantMoveBlack            int64\n",
       "BlunderBlack                  int64\n",
       "InterestingMoveBlack          int64\n",
       "DubiousMoveBlack              int64\n",
       "RookMovesWhite                int64\n",
       "KnightMovesWhite              int64\n",
       "BishopMovesWhite              int64\n",
       "KingMovesWhite                int64\n",
       "QueenMovesWhite               int64\n",
       "PawnMovesWhite                int64\n",
       "KingCastlingWhite              bool\n",
       "QueenCastlingWhite             bool\n",
       "RookMovesBlack                int64\n",
       "KnightMovesBlack              int64\n",
       "BishopMovesBlack              int64\n",
       "KingMovesBlack                int64\n",
       "QueenMovesBlack               int64\n",
       "PawnMovesBlack                int64\n",
       "KingCastlingBlack              bool\n",
       "QueenCastlingBlack             bool\n",
       "ChecksByWhite                 int64\n",
       "ChecksByBlack                 int64\n",
       "CheckmateDone                  bool\n",
       "PawnPromotionWhite            int64\n",
       "PawnPromotionBlack            int64\n",
       "isUpset                       int64\n",
       "dtype: object"
      ]
     },
     "execution_count": 375,
     "metadata": {},
     "output_type": "execute_result"
    }
   ],
   "source": [
    "irData.dtypes"
   ]
  },
  {
   "cell_type": "code",
   "execution_count": 377,
   "metadata": {},
   "outputs": [],
   "source": [
    "upsetData['KingCastlingWhite'] = LabelEncoder().fit_transform(upsetData['KingCastlingWhite'])\n",
    "upsetData['QueenCastlingWhite'] = LabelEncoder().fit_transform(upsetData['QueenCastlingWhite'])\n",
    "upsetData['KingCastlingBlack'] = LabelEncoder().fit_transform(upsetData['KingCastlingBlack'])\n",
    "upsetData['QueenCastlingBlack'] = LabelEncoder().fit_transform(upsetData['QueenCastlingBlack'])\n",
    "upsetData['CheckmateDone'] = LabelEncoder().fit_transform(upsetData['CheckmateDone'])"
   ]
  },
  {
   "cell_type": "code",
   "execution_count": 378,
   "metadata": {},
   "outputs": [],
   "source": [
    "upsetData = upsetData.drop('Moves',axis =1)"
   ]
  },
  {
   "cell_type": "code",
   "execution_count": 379,
   "metadata": {},
   "outputs": [],
   "source": [
    "fTrainingSet, fTestSet = train_test_split(upsetData, test_size=0.2)"
   ]
  },
  {
   "cell_type": "code",
   "execution_count": 380,
   "metadata": {},
   "outputs": [],
   "source": [
    "XTrain = fTrainingSet.drop('isUpset',axis =1)\n",
    "YTrain = fTrainingSet['isUpset']\n",
    "XTest = fTestSet.drop('isUpset', axis =1)\n",
    "YTest = fTestSet['isUpset']"
   ]
  },
  {
   "cell_type": "code",
   "execution_count": 382,
   "metadata": {},
   "outputs": [
    {
     "name": "stdout",
     "output_type": "stream",
     "text": [
      "0.7963480128893663\n"
     ]
    }
   ],
   "source": [
    "neigh = KNeighborsClassifier(n_neighbors=2)\n",
    "neigh.fit(XTrain, YTrain) \n",
    "predicted = neigh.predict(XTest)\n",
    "acc = accuracy_score(YTest, predicted)\n",
    "print(acc)"
   ]
  },
  {
   "cell_type": "code",
   "execution_count": 387,
   "metadata": {},
   "outputs": [
    {
     "name": "stderr",
     "output_type": "stream",
     "text": [
      "C:\\Users\\ujwal\\Anaconda3\\lib\\site-packages\\sklearn\\linear_model\\logistic.py:432: FutureWarning: Default solver will be changed to 'lbfgs' in 0.22. Specify a solver to silence this warning.\n",
      "  FutureWarning)\n"
     ]
    }
   ],
   "source": [
    "from sklearn.linear_model import LogisticRegression\n",
    "\n",
    "clf = LogisticRegression(random_state=0).fit(XTrain, YTrain)\n",
    "predicted = clf.predict(XTest)\n"
   ]
  },
  {
   "cell_type": "code",
   "execution_count": 388,
   "metadata": {},
   "outputs": [
    {
     "name": "stdout",
     "output_type": "stream",
     "text": [
      "0.5834586466165413\n"
     ]
    }
   ],
   "source": [
    "\n",
    "acc = accuracy_score(YTest, predicted)\n",
    "print(acc)"
   ]
  },
  {
   "cell_type": "code",
   "execution_count": 389,
   "metadata": {},
   "outputs": [
    {
     "name": "stdout",
     "output_type": "stream",
     "text": [
      "0.6454001498167309\n"
     ]
    }
   ],
   "source": [
    "lin_mse = mean_squared_error(YTest, (predicted))\n",
    "lin_rmse = np.sqrt(lin_mse)\n",
    "print(lin_rmse)"
   ]
  },
  {
   "cell_type": "code",
   "execution_count": null,
   "metadata": {},
   "outputs": [],
   "source": []
  },
  {
   "cell_type": "code",
   "execution_count": null,
   "metadata": {},
   "outputs": [],
   "source": []
  },
  {
   "cell_type": "code",
   "execution_count": null,
   "metadata": {},
   "outputs": [],
   "source": []
  },
  {
   "cell_type": "code",
   "execution_count": null,
   "metadata": {},
   "outputs": [],
   "source": []
  },
  {
   "cell_type": "markdown",
   "metadata": {},
   "source": [
    "<h2>END<h2>"
   ]
  },
  {
   "cell_type": "code",
   "execution_count": null,
   "metadata": {},
   "outputs": [],
   "source": []
  },
  {
   "cell_type": "code",
   "execution_count": null,
   "metadata": {},
   "outputs": [],
   "source": [
    "#export_csv = evalData.to_csv (r'C:\\Users\\ujwal\\data\\stonybrook\\fall2019\\dataScienceFundamentals\\project\\dataset\\evalData.csv', index = None, header=True)"
   ]
  },
  {
   "cell_type": "code",
   "execution_count": null,
   "metadata": {},
   "outputs": [],
   "source": [
    "#goodmoves = dataNotNull[dataNotNull['Moves'].str.contains(\"\\$\") & dataNotNull['Moves'].str.contains(\"eval\")]"
   ]
  },
  {
   "cell_type": "code",
   "execution_count": null,
   "metadata": {},
   "outputs": [],
   "source": [
    "#a = goodmoves['Moves'][86]"
   ]
  },
  {
   "cell_type": "code",
   "execution_count": null,
   "metadata": {},
   "outputs": [],
   "source": [
    "#\"$\" in a"
   ]
  },
  {
   "cell_type": "code",
   "execution_count": null,
   "metadata": {},
   "outputs": [],
   "source": [
    "#goodmoves.shape"
   ]
  },
  {
   "cell_type": "code",
   "execution_count": null,
   "metadata": {
    "scrolled": true
   },
   "outputs": [],
   "source": [
    "evalData['GoodMoveWhite'] = 0\n",
    "evalData['MistakeWhite'] = 0\n",
    "evalData['BrilliantMoveWhite'] = 0\n",
    "evalData['BlunderWhite'] = 0\n",
    "evalData['InterestingMoveWhite'] = 0\n",
    "evalData['DubiousMoveWhite'] = 0\n",
    "evalData['GoodMoveBlack'] = 0\n",
    "evalData['MistakeBlack'] = 0\n",
    "evalData['BrilliantMoveBlack'] = 0\n",
    "evalData['BlunderBlack'] = 0\n",
    "evalData['InterestingMoveBlack'] = 0\n",
    "evalData['DubiousMoveBlack'] = 0"
   ]
  },
  {
   "cell_type": "code",
   "execution_count": null,
   "metadata": {},
   "outputs": [],
   "source": [
    "pieces = ['R','K','B','K','Q']"
   ]
  },
  {
   "cell_type": "code",
   "execution_count": null,
   "metadata": {},
   "outputs": [],
   "source": [
    "evalData['RookMovesWhite'] = 0\n",
    "evalData['KnightMovesWhite'] = 0\n",
    "evalData['BishopMovesWhite'] = 0\n",
    "evalData['KingMovesWhite'] = 0\n",
    "evalData['QueenMovesWhite'] = 0\n",
    "evalData['PawnMovesWhite'] = 0\n",
    "evalData['KingCastlingWhite'] = False\n",
    "evalData['QueenCastlingWhite'] = False\n",
    "\n",
    "evalData['RookMovesBlack'] = 0\n",
    "evalData['KnightMovesBlack'] = 0\n",
    "evalData['BishopMovesBlack'] = 0\n",
    "evalData['KingMovesBlack'] = 0\n",
    "evalData['QueenMovesBlack'] = 0\n",
    "evalData['PawnMovesBlack'] = 0\n",
    "evalData['KingCastlingBlack'] = False\n",
    "evalData['QueenCastlingBlack'] = False"
   ]
  },
  {
   "cell_type": "code",
   "execution_count": null,
   "metadata": {},
   "outputs": [],
   "source": [
    "evalData['ChecksByWhite'] = 0\n",
    "evalData['ChecksByBlack'] = 0\n",
    "evalData['CheckmateDone'] = False\n",
    "evalData['PawnPromotionWhite'] = 0\n",
    "evalData['PawnPromotionBlack'] = 0\n"
   ]
  },
  {
   "cell_type": "code",
   "execution_count": null,
   "metadata": {},
   "outputs": [],
   "source": [
    "#evalData.reset_index(inplace=True, drop=True)"
   ]
  },
  {
   "cell_type": "code",
   "execution_count": null,
   "metadata": {},
   "outputs": [],
   "source": [
    "for i in range(0,evalData.shape[0]):\n",
    "    if i%1000 == 0:\n",
    "        print(i)\n",
    "    if evalData['Termination'][i]!='Abandoned' and evalData['Moves'][i] is not None:\n",
    "        if \"$\" in evalData['Moves'][i]:\n",
    "            splitres = evalData['Moves'][i].split(' } ')\n",
    "            \n",
    "            for j in range(0, len(splitres)):\n",
    "                move = splitres[j].split(' ')\n",
    "                if j%2 == 0:\n",
    "                    if move[1].startswith('R'):\n",
    "                        evalData['RookMovesWhite'][i] = evalData['RookMovesWhite'][i] +1\n",
    "                    elif move[1].startswith('N'):\n",
    "                        evalData['KnightMovesWhite'][i] = evalData['KnightMovesWhite'][i] +1\n",
    "                    elif move[1].startswith('B'):\n",
    "                        evalData['BishopMovesWhite'][i] = evalData['BishopMovesWhite'][i] +1\n",
    "                    elif move[1].startswith('K'):\n",
    "                        evalData['KingMovesWhite'][i] = evalData['KingMovesWhite'][i] +1\n",
    "                    elif move[1].startswith('Q'):\n",
    "                        evalData['QueenMovesWhite'][i] = evalData['QueenMovesWhite'][i] +1\n",
    "                    elif move[1]== 'O-O':\n",
    "                        evalData['KingCastlingWhite'][i] = True\n",
    "                    elif move[1]== 'O-O-O':\n",
    "                        evalData['QueenCastlingWhite'][i] = True\n",
    "                    else:\n",
    "                        evalData['PawnMovesWhite'][i] = evalData['PawnMovesWhite'][i] +1\n",
    "                        \n",
    "                    if move[1].endswith('+'):\n",
    "                        evalData['ChecksByWhite'][i] = evalData['ChecksByWhite'][i] +1\n",
    "                        \n",
    "                    if '=' in move[1]:\n",
    "                        evalData['PawnPromotionWhite'][i] = evalData['PawnPromotionWhite'][i] +1\n",
    "                        \n",
    "                    if '$' in splitres[j]:\n",
    "                        if move[2] == '$1':\n",
    "                            evalData['GoodMoveWhite'][i] = evalData['GoodMoveWhite'][i] +1\n",
    "                        elif move[2] == '$2':\n",
    "                            evalData['MistakeWhite'][i] = evalData['MistakeWhite'][i] +1\n",
    "                        elif move[2] == '$3':\n",
    "                            evalData['BrilliantMoveWhite'][i] = evalData['BrilliantMoveWhite'][i]+1\n",
    "                        elif move[2] == '$4':\n",
    "                            evalData['BlunderWhite'][i] = evalData['BlunderWhite'][i] + 1\n",
    "                        elif move[2] == '$5':\n",
    "                            evalData['InterestingMoveWhite'][i] = evalData['InterestingMoveWhite'][i] +1\n",
    "                        elif move[2] == '$6':\n",
    "                            evalData['DubiousMoveWhite'][i] = evalData['DubiousMoveWhite'][i] +1\n",
    "                            \n",
    "                else:\n",
    "                    if move[1].startswith('R'):\n",
    "                        evalData['RookMovesBlack'][i] = evalData['RookMovesBlack'][i] +1\n",
    "                    elif move[1].startswith('N'):\n",
    "                        evalData['KnightMovesBlack'][i] = evalData['KnightMovesBlack'][i] +1\n",
    "                    elif move[1].startswith('B'):\n",
    "                        evalData['BishopMovesBlack'][i] = evalData['BishopMovesBlack'][i] +1\n",
    "                    elif move[1].startswith('K'):\n",
    "                        evalData['KingMovesBlack'][i] = evalData['KingMovesBlack'][i] +1\n",
    "                    elif move[1].startswith('Q'):\n",
    "                        evalData['QueenMovesBlack'][i] = evalData['QueenMovesBlack'][i] +1\n",
    "                    elif move[1]== 'O-O':\n",
    "                        evalData['KingCastlingBlack'][i] = True\n",
    "                    elif move[1]== 'O-O-O':\n",
    "                        evalData['QueenCastlingBlack'][i] = True\n",
    "                    else:\n",
    "                        evalData['PawnMovesBlack'][i] = evalData['PawnMovesBlack'][i] +1\n",
    "                    \n",
    "                    if move[1].endswith('+'):\n",
    "                        evalData['ChecksByBlack'][i] = evalData['ChecksByBlack'][i] +1\n",
    "                        \n",
    "                    if '=' in move[1]:\n",
    "                        evalData['PawnPromotionBlack'][i] = evalData['PawnPromotionBlack'][i] +1\n",
    "                        \n",
    "                    if '$' in splitres[j]:\n",
    "                        if move[2] == '$1':\n",
    "                            evalData['GoodMoveBlack'][i][i] = evalData['GoodMoveBlack'][i] +1\n",
    "                        elif move[2] == '$2':\n",
    "                            evalData['MistakeBlack'][i] = evalData['MistakeBlack'][i] +1\n",
    "                        elif move[2] == '$3':\n",
    "                            evalData['BrilliantMoveBlack'][i] = evalData['BrilliantMoveBlack'][i] +1\n",
    "                        elif move[2] == '$4':\n",
    "                            evalData['BlunderBlack'][i] = evalData['BlunderBlack'][i] + 1\n",
    "                        elif move[2] == '$5':\n",
    "                            evalData['InterestingMoveBlack'][i] = evalData['InterestingMoveBlack'][i] +1\n",
    "                        elif move[2] == '$6':\n",
    "                            evalData['DubiousMoveBlack'][i] = evalData['DubiousMoveBlack'][i] +1\n",
    "            \n",
    "            if splitres[len(splitres)-1].split(' ')[1].endswith('#'):\n",
    "                evalData['CheckmateDone'][i] = True\n",
    "            "
   ]
  },
  {
   "cell_type": "code",
   "execution_count": null,
   "metadata": {},
   "outputs": [],
   "source": [
    "evalData"
   ]
  },
  {
   "cell_type": "code",
   "execution_count": null,
   "metadata": {},
   "outputs": [],
   "source": [
    "#evalData.reset_index(inplace=True, drop=True)\n",
    "print(evalData['Moves'][16])\n",
    "evalData.loc[16,:]"
   ]
  },
  {
   "cell_type": "code",
   "execution_count": null,
   "metadata": {},
   "outputs": [],
   "source": [
    "evalData.columns"
   ]
  },
  {
   "cell_type": "code",
   "execution_count": null,
   "metadata": {},
   "outputs": [],
   "source": [
    "x = dataNotNull[dataNotNull['Moves'].str.contains(\"\\=\")] "
   ]
  },
  {
   "cell_type": "code",
   "execution_count": null,
   "metadata": {},
   "outputs": [],
   "source": [
    "x['Moves'][16]"
   ]
  },
  {
   "cell_type": "code",
   "execution_count": null,
   "metadata": {},
   "outputs": [],
   "source": [
    "m = '1. e4 { [%eval 0.24] [%clk 0:05:00] } 1... e5 { [%eval 0.37] [%clk 0:05:00] } 2. Nc3 { [%eval 0.13] [%clk 0:04:59] } 2... Nc6 { [%eval 0.25] [%clk 0:04:59] } 3. Nf3 { [%eval 0.16] [%clk 0:04:55] } 3... Bb4 { [%eval 0.47] [%clk 0:04:47] } 4. d4 { [%eval -0.02] [%clk 0:04:53] } 4... f6 $6 { [%eval 0.72] [%clk 0:04:28] } 5. Bd2 { [%eval 0.87] [%clk 0:04:49] } 5... exd4 { [%eval 0.93] [%clk 0:04:25] } 6. Nb5 { [%eval 0.51] [%clk 0:04:45] } 6... Bxd2+ $6 { [%eval 1.19] [%clk 0:04:14] } 7. Qxd2 { [%eval 0.9] [%clk 0:04:43] } 7... a6 { [%eval 1.09] [%clk 0:04:07] } 8. Nbxd4 { [%eval 1.05] [%clk 0:04:40] } 8... Qe7 $6 { [%eval 1.98] [%clk 0:03:56] } 9. Bd3 $2 { [%eval 0.95] [%clk 0:04:18] } 9... d5 $2 { [%eval 2.74] [%clk 0:03:23] } 10. Nxc6 $6 { [%eval 2.07] [%clk 0:04:02] } 10... bxc6 { [%eval 1.87] [%clk 0:03:21] } 11. Qe2 $6 { [%eval 1.29] [%clk 0:03:35] } 11... dxe4 $2 { [%eval 2.37] [%clk 0:03:14] } 12. Bxe4 { [%eval 2.26] [%clk 0:03:32] } 12... Bd7 $4 { [%eval 5.37] [%clk 0:02:58] } 13. O-O-O { [%eval 4.72] [%clk 0:03:21] } 13... Nh6 $4 { [%eval 11.48] [%clk 0:02:46] } 14. Rxd7 { [%eval 10.95] [%clk 0:03:13] } 14... Qc5 $6 { [%eval #8] [%clk 0:01:54] } 15. Bxc6+ { [%eval #7] [%clk 0:03:00] } 15... Kf8 { [%eval #6] [%clk 0:01:51] } 16. Bxa8 $6 { [%eval 33.8] [%clk 0:02:50] } 16... Nf7 $6 { [%eval #4] [%clk 0:01:39] } 17. Rhd1 $6 { [%eval 27.95] [%clk 0:02:39] } 17... g6 $6 { [%eval #5] [%clk 0:01:35] } 18. Bd5 { [%eval #5] [%clk 0:02:32] } 18... Nd6 { [%eval #1] [%clk 0:01:18] } 19. Qe7# { [%clk 0:02:28] }'"
   ]
  },
  {
   "cell_type": "code",
   "execution_count": null,
   "metadata": {},
   "outputs": [],
   "source": [
    "d = evalData.copy()"
   ]
  },
  {
   "cell_type": "code",
   "execution_count": null,
   "metadata": {},
   "outputs": [],
   "source": [
    "d['GameType'] = pd.np.where(d.Event.str.contains(\"Blitz\"), \"Blitz\",\n",
    "            pd.np.where(d.Event.str.contains(\"Bullet\"), \"Bullet\",\n",
    "                        pd.np.where(d.Event.str.contains(\"Rapid\"), \"Rapid\",\n",
    "                                    pd.np.where(d.Event.str.contains(\"Classical\"), \"Classical\",\n",
    "                                                \"Correspondence\"))))"
   ]
  },
  {
   "cell_type": "code",
   "execution_count": null,
   "metadata": {},
   "outputs": [],
   "source": [
    "d"
   ]
  },
  {
   "cell_type": "code",
   "execution_count": null,
   "metadata": {},
   "outputs": [],
   "source": [
    "r = (d['WhiteElo'].max() - d['WhiteElo'].min())/3"
   ]
  },
  {
   "cell_type": "code",
   "execution_count": null,
   "metadata": {},
   "outputs": [],
   "source": [
    "def addRating(row):\n",
    "    if row['WhiteElo']<=d['WhiteElo'].min()+r :\n",
    "        return 'low'\n",
    "    elif row['WhiteElo']<=d['WhiteElo'].max()-r :\n",
    "        return 'medium'\n",
    "    return 'high'"
   ]
  },
  {
   "cell_type": "code",
   "execution_count": null,
   "metadata": {},
   "outputs": [],
   "source": [
    "d['Rating'] = d.apply(addRating, axis = 1)"
   ]
  },
  {
   "cell_type": "code",
   "execution_count": null,
   "metadata": {},
   "outputs": [],
   "source": [
    "d"
   ]
  },
  {
   "cell_type": "code",
   "execution_count": null,
   "metadata": {},
   "outputs": [],
   "source": [
    "d.columns"
   ]
  },
  {
   "cell_type": "code",
   "execution_count": null,
   "metadata": {},
   "outputs": [],
   "source": [
    "d['indexCol'] = d.index"
   ]
  },
  {
   "cell_type": "code",
   "execution_count": null,
   "metadata": {},
   "outputs": [],
   "source": [
    "import seaborn as sns\n",
    "import matplotlib.pyplot as plt\n",
    "from sklearn.preprocessing import LabelEncoder"
   ]
  },
  {
   "cell_type": "code",
   "execution_count": null,
   "metadata": {},
   "outputs": [],
   "source": [
    "d['Termination'] = LabelEncoder().fit_transform(d['Termination'])\n",
    "d['KingCastlingWhite'] = LabelEncoder().fit_transform(d['KingCastlingWhite'])\n",
    "d['QueenCastlingWhite'] = LabelEncoder().fit_transform(d['QueenCastlingWhite'])\n",
    "d['KingCastlingBlack'] = LabelEncoder().fit_transform(d['KingCastlingBlack'])\n",
    "d['QueenCastlingBlack'] = LabelEncoder().fit_transform(d['QueenCastlingBlack'])\n",
    "d['PawnPromotionWhite'] = LabelEncoder().fit_transform(d['PawnPromotionWhite'])\n",
    "d['PawnPromotionBlack'] = LabelEncoder().fit_transform(d['PawnPromotionBlack'])\n",
    "d['GameType'] = LabelEncoder().fit_transform(d['GameType'])\n",
    "d['Rating'] = LabelEncoder().fit_transform(d['Rating'])"
   ]
  },
  {
   "cell_type": "code",
   "execution_count": null,
   "metadata": {},
   "outputs": [],
   "source": [
    "myCols = ['WhiteElo', 'BlackElo',  'Termination', 'MistakeWhite',  'BlunderWhite',\n",
    "        'DubiousMoveWhite',\n",
    "       'MistakeBlack', 'BlunderBlack',\n",
    "       'DubiousMoveBlack', 'RookMovesWhite',\n",
    "       'KnightMovesWhite', 'BishopMovesWhite', 'KingMovesWhite',\n",
    "       'QueenMovesWhite', 'PawnMovesWhite', 'RookMovesBlack', 'KnightMovesBlack',\n",
    "       'BishopMovesBlack', 'KingMovesBlack', 'QueenMovesBlack',\n",
    "       'PawnMovesBlack', 'ChecksByWhite', 'ChecksByBlack', 'GameType', 'Rating']\n",
    "r = d[myCols].corr(method='pearson',min_periods=1) \n",
    "plt.figure(figsize=(15, 10) )\n",
    "ax = sns.heatmap(r, vmin=-1, vmax=1, xticklabels=r.columns, \n",
    "                      yticklabels=r.columns, cmap='RdBu_r', annot=False, linewidth=0.5)\n",
    "ax.set_xticklabels(ax.get_xticklabels(), rotation=40, ha=\"right\")"
   ]
  },
  {
   "cell_type": "code",
   "execution_count": null,
   "metadata": {},
   "outputs": [],
   "source": [
    "evalData['DubiousMoveWhite'].value_counts()"
   ]
  },
  {
   "cell_type": "code",
   "execution_count": null,
   "metadata": {},
   "outputs": [],
   "source": [
    "d['GameType'].value_counts()"
   ]
  },
  {
   "cell_type": "code",
   "execution_count": null,
   "metadata": {},
   "outputs": [],
   "source": [
    "d[d['GameType']=='Blitz'].iloc[0:783,:]"
   ]
  },
  {
   "cell_type": "code",
   "execution_count": null,
   "metadata": {},
   "outputs": [],
   "source": [
    "evalData"
   ]
  },
  {
   "cell_type": "code",
   "execution_count": null,
   "metadata": {},
   "outputs": [],
   "source": [
    "d1 = d[d['GameType']=='Classical']"
   ]
  },
  {
   "cell_type": "code",
   "execution_count": null,
   "metadata": {},
   "outputs": [],
   "source": [
    "d1 = d1.append(d[d['GameType']=='Blitz'].iloc[0:783,:], ignore_index = True)\n",
    "d1 = d1.append(d[d['GameType']=='Rapid'].iloc[0:783,:], ignore_index = True)\n",
    "d1 = d1.append(d[d['GameType']=='Bullet'].iloc[0:783,:], ignore_index = True)"
   ]
  },
  {
   "cell_type": "code",
   "execution_count": null,
   "metadata": {},
   "outputs": [],
   "source": [
    "d1"
   ]
  },
  {
   "cell_type": "code",
   "execution_count": null,
   "metadata": {},
   "outputs": [],
   "source": [
    "s = d1['BlunderWhite'].groupby(d1['GameType']).value_counts()"
   ]
  },
  {
   "cell_type": "code",
   "execution_count": null,
   "metadata": {},
   "outputs": [],
   "source": [
    "s.values"
   ]
  },
  {
   "cell_type": "code",
   "execution_count": null,
   "metadata": {
    "scrolled": true
   },
   "outputs": [],
   "source": [
    "a= pd.DataFrame({\"GameType\":['Blitz','Blitz','Blitz','Blitz','Blitz','Bullet','Bullet','Bullet','Bullet','Bullet',\n",
    "                            'Classical','Classical','Classical','Classical','Classical', 'Rapid','Rapid','Rapid',\n",
    "                            'Rapid','Rapid',], \n",
    "                         \"BlunderWhite\":[1,0,2,3,4,1,2,0,3,4,1,0,2,3,4,1,0,2,3,4],\n",
    "                \"Count\":[204,186,178,93,58,197,174,165,102,68,235,186,154,89,42,240,206,153,95,38]})"
   ]
  },
  {
   "cell_type": "code",
   "execution_count": null,
   "metadata": {},
   "outputs": [],
   "source": [
    "ax = sns.lineplot(x=\"BlunderWhite\", y=\"Count\", hue=\"GameType\",data=a)\n",
    "plt.figure(figsize=(15,20))"
   ]
  },
  {
   "cell_type": "code",
   "execution_count": null,
   "metadata": {},
   "outputs": [],
   "source": [
    "sns.lmplot( x=\"indexCol\", y=\"MistakeWhite\", data=d.iloc[:1000,:], fit_reg=False, hue='GameType', legend=False)\n",
    " \n",
    "# Move the legend to an empty part of the plot\n",
    "plt.legend(loc='lower right')"
   ]
  },
  {
   "cell_type": "code",
   "execution_count": null,
   "metadata": {},
   "outputs": [],
   "source": [
    "d2 = evalData.copy()"
   ]
  },
  {
   "cell_type": "code",
   "execution_count": null,
   "metadata": {},
   "outputs": [],
   "source": [
    "d2"
   ]
  },
  {
   "cell_type": "code",
   "execution_count": null,
   "metadata": {},
   "outputs": [],
   "source": [
    "r = (d2['WhiteElo'].max() - d2['WhiteElo'].min())/3\n",
    "d2['Rating'] = d2.apply(addRating, axis = 1)"
   ]
  },
  {
   "cell_type": "code",
   "execution_count": null,
   "metadata": {},
   "outputs": [],
   "source": [
    "d2['Rating'].value_counts()"
   ]
  },
  {
   "cell_type": "code",
   "execution_count": null,
   "metadata": {},
   "outputs": [],
   "source": [
    "d3 = d2[d2['Rating']=='high']\n",
    "d3 = d3.append(d2[d2['Rating']=='low'].iloc[0:844,:], ignore_index = True)\n",
    "d3 = d3.append(d2[d2['Rating']=='medium'].iloc[0:844,:], ignore_index = True)"
   ]
  },
  {
   "cell_type": "code",
   "execution_count": null,
   "metadata": {},
   "outputs": [],
   "source": [
    "s2 = d3['BlunderWhite'].groupby(d3['Rating']).value_counts()"
   ]
  },
  {
   "cell_type": "code",
   "execution_count": null,
   "metadata": {},
   "outputs": [],
   "source": [
    "s2"
   ]
  },
  {
   "cell_type": "code",
   "execution_count": null,
   "metadata": {},
   "outputs": [],
   "source": [
    "s2.values[0:6]"
   ]
  },
  {
   "cell_type": "code",
   "execution_count": null,
   "metadata": {
    "scrolled": true
   },
   "outputs": [],
   "source": [
    "b= pd.DataFrame({\"Rating\":['high','high','high','high','high','high', 'low','low','low','low','low','low','medium',\n",
    "                            'medium','medium','medium','medium','medium',], \n",
    "                         \"BlunderWhite\":[0,1,2,3,4,5,1,2,0,3,4,5,1,0,2,3,4,5],\n",
    "                \"Count\":[324, 232, 143,  76,  35,  19, 218, 209, 138, 109,  54,  52, 239, 218, 168, 104,  50,  35]})"
   ]
  },
  {
   "cell_type": "code",
   "execution_count": null,
   "metadata": {},
   "outputs": [],
   "source": [
    "bx = sns.lineplot(x=\"BlunderWhite\", y=\"Count\", hue=\"Rating\",data=b)\n",
    "plt.figure(figsize=(15,20))"
   ]
  }
 ],
 "metadata": {
  "kernelspec": {
   "display_name": "Python 3",
   "language": "python",
   "name": "python3"
  },
  "language_info": {
   "codemirror_mode": {
    "name": "ipython",
    "version": 3
   },
   "file_extension": ".py",
   "mimetype": "text/x-python",
   "name": "python",
   "nbconvert_exporter": "python",
   "pygments_lexer": "ipython3",
   "version": "3.7.4"
  }
 },
 "nbformat": 4,
 "nbformat_minor": 2
}
